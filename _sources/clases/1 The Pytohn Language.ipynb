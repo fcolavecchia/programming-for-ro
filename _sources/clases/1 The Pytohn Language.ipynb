{
  "cells": [
    {
      "cell_type": "markdown",
      "metadata": {},
      "source": [
        "# Introduction to Python"
      ]
    },
    {
      "cell_type": "markdown",
      "metadata": {
        "collapsed": true
      },
      "source": [
        "## Data types\n",
        "\n",
        "One of the most important elements to define a programming language is the definition of the data types that this language will use. These types of data can be from very simple such as numbers or characters to much more complex data such as graphics, files and others.\n",
        "\n",
        "To the variables you have to give them a name, and this is one of the three most complex problems of computer science:\n"
      ]
    },
    {
      "cell_type": "markdown",
      "metadata": {},
      "source": [
        ">>There are only two hard things in Computer Science: cache invalidation and naming things. *Phil Kartlon*\n"
      ]
    },
    {
      "cell_type": "markdown",
      "metadata": {},
      "source": [
        "According to the XX_MarkDown_Link_xx, the language adopts the `snake_case` style, that is, the data with lowercase names are identified, separated by the script under` _`."
      ]
    },
    {
      "cell_type": "markdown",
      "metadata": {},
      "source": [
        "Of course, it is forbidden to use the words reserved as data names:\n",
        "\n",
        "`` and of the for Is Raise Assert if elif from Lambda Return Break Global Not Try Class Except Or While Continue Exec Import Yield Def Finally In Print`````````````````````picative he"
      ]
    },
    {
      "cell_type": "markdown",
      "metadata": {},
      "source": [
        "### Numerical types, numerical types"
      ]
    },
    {
      "cell_type": "markdown",
      "metadata": {},
      "source": [
        "#### Real and whole numbers\n"
      ]
    },
    {
      "cell_type": "code",
      "execution_count": null,
      "metadata": {},
      "outputs": [],
      "source": [
        "a = 7.584 # real number\n",
        "\n",
        "print(a)\n",
        "print(type(a))\n",
        "\n",
        "b = 8 # whole number\n",
        "\n",
        "print(b)\n",
        "print(type(b))\n",
        "\n",
        "c = 10 + 5j\n",
        "\n",
        "print(c)\n",
        "print(type(c))"
      ]
    },
    {
      "cell_type": "markdown",
      "metadata": {},
      "source": [
        "Cast"
      ]
    },
    {
      "cell_type": "code",
      "execution_count": null,
      "metadata": {
        "scrolled": true
      },
      "outputs": [],
      "source": [
        "d = float(b) # cast a float\n",
        "\n",
        "print(d)\n",
        "print(type(d))\n",
        "\n",
        "e = int(a) # cast a int\n",
        "\n",
        "print(e)\n",
        "print(type(e))\n",
        "\n",
        "f = complex(a)\n",
        "\n",
        "print(f)\n",
        "print(type(f))\n",
        "\n",
        "print(f.real)\n",
        "print(f.imag)"
      ]
    },
    {
      "cell_type": "markdown",
      "metadata": {},
      "source": [
        "Python performs a dynamic punishment when performing an operation. For example, by adding a `float` and an` int`, the `int` is promoted to` float` before adding"
      ]
    },
    {
      "cell_type": "code",
      "execution_count": null,
      "metadata": {},
      "outputs": [],
      "source": [
        "d = a + b\n",
        "\n",
        "print(d, type(d))\n",
        "\n",
        "d = a - c\n",
        "\n",
        "print(d, type(d))"
      ]
    },
    {
      "cell_type": "code",
      "execution_count": null,
      "metadata": {},
      "outputs": [],
      "source": [
        "f = a*b\n",
        "\n",
        "print(a, type(a))\n",
        "print(b, type(b))\n",
        "print(f, type(f))"
      ]
    },
    {
      "cell_type": "markdown",
      "metadata": {},
      "source": [
        "In the division of two integers (using /), a float is obtained. Note: This did not happen in Python 2.x, where the division of two integers using /, gave an integer. \n",
        "\n",
        "To recover the division of integers, use //."
      ]
    },
    {
      "cell_type": "code",
      "execution_count": null,
      "metadata": {},
      "outputs": [],
      "source": [
        "a = 3\n",
        "b = 2\n",
        "\n",
        "c = a/b # <---- In Python 2.x, the division of integers with / gives an integer\n",
        "\n",
        "print(c, type(c))\n",
        "\n",
        "c2 = a//b\n",
        "\n",
        "print(c2, type(c2))"
      ]
    },
    {
      "cell_type": "markdown",
      "metadata": {},
      "source": [
        "Powers:"
      ]
    },
    {
      "cell_type": "code",
      "execution_count": null,
      "metadata": {},
      "outputs": [],
      "source": [
        "h = 3**2\n",
        "\n",
        "print(h, type(h))\n",
        "\n",
        "h1 = 3.0**2\n",
        "\n",
        "print(h1, type(h1))\n",
        "\n",
        "h2 = 3**2.0\n",
        "\n",
        "print(h2, type(h2))\n",
        "\n",
        "h3 = 3.0**2.0\n",
        "\n",
        "print(h3, type(h3))"
      ]
    },
    {
      "cell_type": "markdown",
      "metadata": {},
      "source": [
        "Modulo:"
      ]
    },
    {
      "cell_type": "code",
      "execution_count": null,
      "metadata": {},
      "outputs": [],
      "source": [
        "a = 11\n",
        "b = 3\n",
        "\n",
        "c = a%b\n",
        "\n",
        "print(c, type(c))\n",
        "\n",
        "a = 11.42\n",
        "b = 3.21\n",
        "\n",
        "c = a%b\n",
        "\n",
        "print(c, type(c))"
      ]
    },
    {
      "cell_type": "markdown",
      "metadata": {},
      "source": [
        "Other operations with numbers:"
      ]
    },
    {
      "cell_type": "code",
      "execution_count": null,
      "metadata": {},
      "outputs": [],
      "source": [
        "from math import *\n",
        "\n",
        "c = sqrt(9)\n",
        "\n",
        "print(c)\n",
        "\n",
        "d = floor(27.25)\n",
        "\n",
        "print(d)\n",
        "\n",
        "f = log(1000)\n",
        "\n",
        "print(f)\n",
        "\n",
        "f = cos(0)\n",
        "\n",
        "print(f)"
      ]
    },
    {
      "cell_type": "markdown",
      "metadata": {},
      "source": [
        "Constant:"
      ]
    },
    {
      "cell_type": "code",
      "execution_count": null,
      "metadata": {},
      "outputs": [],
      "source": [
        "print(pi)\n",
        "print(e)"
      ]
    },
    {
      "cell_type": "code",
      "execution_count": null,
      "metadata": {},
      "outputs": [],
      "source": [
        "math.sqrt(-1) # <--- no"
      ]
    },
    {
      "cell_type": "markdown",
      "metadata": {},
      "source": [
        "There is a separate module for complex operations"
      ]
    },
    {
      "cell_type": "code",
      "execution_count": null,
      "metadata": {},
      "outputs": [],
      "source": [
        "import cmath\n",
        "\n",
        "cmath.sqrt(-1)"
      ]
    },
    {
      "cell_type": "code",
      "execution_count": null,
      "metadata": {},
      "outputs": [],
      "source": [
        "z = 3.0 + 3.0j\n",
        "\n",
        "print(z.real)\n",
        "\n",
        "print(z.conjugate())"
      ]
    },
    {
      "cell_type": "code",
      "execution_count": null,
      "metadata": {},
      "outputs": [],
      "source": [
        "import math\n",
        "\n",
        "print(cmath.phase(z)) \n",
        "\n",
        "print(math.degrees(cmath.phase(z)))\n",
        "\n",
        "print(abs(z))\n",
        "\n",
        "print(cmath.polar(z))"
      ]
    },
    {
      "cell_type": "markdown",
      "metadata": {},
      "source": [
        "#### Logical types (bool)"
      ]
    },
    {
      "cell_type": "code",
      "execution_count": null,
      "metadata": {},
      "outputs": [],
      "source": [
        "T = True\n",
        "F = False\n",
        "\n",
        "print(F)\n",
        "print(type(F))"
      ]
    },
    {
      "cell_type": "code",
      "execution_count": null,
      "metadata": {},
      "outputs": [],
      "source": [
        "print(T*F)\n",
        "print(2*T)"
      ]
    },
    {
      "cell_type": "code",
      "execution_count": null,
      "metadata": {},
      "outputs": [],
      "source": [
        "print(\"Hello\", 23)"
      ]
    },
    {
      "cell_type": "code",
      "execution_count": null,
      "metadata": {},
      "outputs": [],
      "source": [
        "a = 28.2\n",
        "\n",
        "b = a\n",
        "\n",
        "print(b)\n",
        "\n",
        "# # print ('greater/less than:', a <b)\n",
        "c = 99.8\n",
        "a = c\n",
        "\n",
        "print(a)\n",
        "print(b)\n",
        "# print('igual a: ', a == b)\n",
        "# print('distinto a: ', a != b)\n",
        "\n",
        "# print('es: ', a is b)\n",
        "# print('no es: ', a is not b)"
      ]
    },
    {
      "cell_type": "markdown",
      "metadata": {},
      "source": [
        "### Strings\n",
        "\n",
        "A string is a sequence of characters of any kind (letters, numbers, symbols, ...) that are defined using quotes (simple or double."
      ]
    },
    {
      "cell_type": "code",
      "execution_count": null,
      "metadata": {},
      "outputs": [],
      "source": [
        "a = \"Este es un ejemplo de un string\"\n",
        "\n",
        "print(a)\n",
        "print(type(a))\n",
        "a"
      ]
    },
    {
      "cell_type": "code",
      "execution_count": null,
      "metadata": {},
      "outputs": [],
      "source": [
        "print(a)"
      ]
    },
    {
      "cell_type": "code",
      "execution_count": null,
      "metadata": {},
      "outputs": [],
      "source": [
        "b = 'donde podemos usar comillas simples'\n",
        "c = \"o usar comillas dobles\"\n",
        "\n",
        "print(b, c)"
      ]
    },
    {
      "cell_type": "markdown",
      "metadata": {},
      "source": [
        "We can concatenate strings using +"
      ]
    },
    {
      "cell_type": "code",
      "execution_count": null,
      "metadata": {},
      "outputs": [],
      "source": [
        "d = a + b + c + \"y que podemos concatenar usando el signo '+', por ejemplo\" \n",
        "\n",
        "print(d)"
      ]
    },
    {
      "cell_type": "code",
      "execution_count": null,
      "metadata": {},
      "outputs": [],
      "source": [
        "f = 'También podemos usar \"comillas dobles\" dentro de comillas simple'\n",
        "print(f)\n",
        "g = \"o 'al revés', como en este caso\"\n",
        "print(g)"
      ]
    },
    {
      "cell_type": "markdown",
      "metadata": {},
      "source": [
        "We can add format characters:"
      ]
    },
    {
      "cell_type": "code",
      "execution_count": null,
      "metadata": {},
      "outputs": [],
      "source": [
        "h = \"Siempre quise aprender\\ncomo poner caracteres de formato\\nen un string de Python.\\n\"\n",
        "\n",
        "print(h)\n",
        "\n",
        "j = \"Supongamos que queremos hacer una lista que contenga los elementos:\\n\\t * elemento 1\\n\\t * elemento 2\\n\\t * and so on...\"\n",
        "\n",
        "print(j)"
      ]
    },
    {
      "cell_type": "code",
      "execution_count": null,
      "metadata": {},
      "outputs": [],
      "source": [
        "print('%s' % h)\n",
        "print('%r' % h)"
      ]
    },
    {
      "cell_type": "markdown",
      "metadata": {},
      "source": [
        "An example of docsting:"
      ]
    },
    {
      "cell_type": "code",
      "execution_count": null,
      "metadata": {},
      "outputs": [],
      "source": [
        "m = '''\n",
        "Acá puedo poner cuantas lineas \n",
        "quiera, sin preocuparme si son dos \n",
        "lineas, cuantro lineas, 6 lineas...\n",
        "¿habrá algún límite?\n",
        "'''\n",
        "\n",
        "\n",
        "\n",
        "print(m)"
      ]
    },
    {
      "cell_type": "markdown",
      "metadata": {},
      "source": [
        "#### Indexado (in strings)"
      ]
    },
    {
      "cell_type": "markdown",
      "metadata": {},
      "source": [
        "A string is an example of 'container' of elements (in this case, characters), which can be accessed by the index that indicates its position:"
      ]
    },
    {
      "cell_type": "code",
      "execution_count": null,
      "metadata": {},
      "outputs": [],
      "source": [
        "my_string = 'Hola mundo'\n",
        "\n",
        "print(my_string[0])\n",
        "print(my_string[4])\n",
        "print(my_string[5])"
      ]
    },
    {
      "cell_type": "code",
      "execution_count": null,
      "metadata": {},
      "outputs": [],
      "source": [
        "print(my_string[10]) # My index cannot be greater than the amount of elements"
      ]
    },
    {
      "cell_type": "markdown",
      "metadata": {},
      "source": [
        "Negative indices can be used to access the elements, referring to the last. That is, -1 is the last, the -2 is the penultimate, and so on the style:"
      ]
    },
    {
      "cell_type": "code",
      "execution_count": null,
      "metadata": {},
      "outputs": [],
      "source": [
        "print(my_string[-1])\n",
        "print(my_string[-2])\n",
        "print(my_string[-10])"
      ]
    },
    {
      "cell_type": "markdown",
      "metadata": {},
      "source": [
        "####  Slicing"
      ]
    },
    {
      "cell_type": "markdown",
      "metadata": {},
      "source": [
        "I can access a subset of elements, using a technique known as \"smlicing\", where, given a String ** A **, I get the subset as ** A [Home: End: Step] **, (where all arguments are optional):"
      ]
    },
    {
      "cell_type": "code",
      "execution_count": null,
      "metadata": {},
      "outputs": [],
      "source": [
        "print(my_string[1:6])\n",
        "\n",
        "sub_string = my_string[6:10]\n",
        "print(sub_string)\n",
        "\n",
        "print(my_string[0] + sub_string)"
      ]
    },
    {
      "cell_type": "code",
      "execution_count": null,
      "metadata": {},
      "outputs": [],
      "source": [
        "print(my_string[0:5])\n",
        "print(my_string[:5])\n",
        "\n",
        "print(my_string[5:10])\n",
        "print(my_string[5:])"
      ]
    },
    {
      "cell_type": "code",
      "execution_count": null,
      "metadata": {},
      "outputs": [],
      "source": [
        "print(my_string[::2])\n",
        "print(my_string[1::2])"
      ]
    },
    {
      "cell_type": "code",
      "execution_count": null,
      "metadata": {},
      "outputs": [],
      "source": [
        "print(my_string[::-2])"
      ]
    },
    {
      "cell_type": "markdown",
      "metadata": {},
      "source": [
        "#### Some strings methods"
      ]
    },
    {
      "cell_type": "code",
      "execution_count": null,
      "metadata": {},
      "outputs": [],
      "source": [
        "string_2 = \"se viene el estallido, de mi guitarra, y tu gobierno, también\"\n",
        "\n",
        "print(string_2)\n",
        "\n",
        "print(string_2.capitalize())\n",
        "\n",
        "print(string_2.upper())\n",
        "\n",
        "string_3 = string_2.upper()\n",
        "\n",
        "print(string_3.lower())"
      ]
    },
    {
      "cell_type": "code",
      "execution_count": null,
      "metadata": {},
      "outputs": [],
      "source": [
        "k = string_2.find('est')\n",
        "\n",
        "print(k)\n",
        "\n",
        "print(string_2[k:])\n",
        "\n",
        "N = string_2.count('i')\n",
        "\n",
        "print(N)\n",
        "\n",
        "N = string_2.count('ta')\n",
        "\n",
        "print(N)"
      ]
    },
    {
      "cell_type": "code",
      "execution_count": null,
      "metadata": {},
      "outputs": [],
      "source": [
        "string_separado = string_2.split(',')\n",
        "\n",
        "print(len(string_separado))\n",
        "\n",
        "string_4 = string_2.replace(', ', '\\n')\n",
        "\n",
        "print(string_4)\n",
        "\n",
        "string_separado_en_lineas = string_4.splitlines()\n",
        "\n",
        "print(string_separado_en_lineas)"
      ]
    },
    {
      "cell_type": "code",
      "execution_count": null,
      "metadata": {},
      "outputs": [],
      "source": [
        "string_de_numeros = '123456789asfdsfds'\n",
        "\n",
        "print(string_de_numeros.isnumeric())\n",
        "print(string_de_numeros.isalpha())\n",
        "print(string_de_numeros.isalnum())"
      ]
    },
    {
      "cell_type": "markdown",
      "metadata": {},
      "source": [
        "### Lists"
      ]
    },
    {
      "cell_type": "code",
      "execution_count": 11,
      "metadata": {},
      "outputs": [],
      "source": [
        "my_list = [4, 8, 15, 16, 23, 42]"
      ]
    },
    {
      "cell_type": "code",
      "execution_count": 12,
      "metadata": {},
      "outputs": [
        {
          "name": "stdout",
          "output_type": "stream",
          "text": [
            "<class 'list'>\n",
            "[4, 8, 15, 16, 23, 42]\n"
          ]
        }
      ],
      "source": [
        "print(type(my_list))\n",
        "\n",
        "print(my_list)"
      ]
    },
    {
      "cell_type": "markdown",
      "metadata": {},
      "source": [
        "The lists are also sequences, so the indexing and smlicing function as we have already seen with the strings"
      ]
    },
    {
      "cell_type": "code",
      "execution_count": 13,
      "metadata": {},
      "outputs": [
        {
          "data": {
            "text/plain": [
              "4"
            ]
          },
          "execution_count": 13,
          "metadata": {},
          "output_type": "execute_result"
        }
      ],
      "source": [
        "my_list[0]"
      ]
    },
    {
      "cell_type": "code",
      "execution_count": 14,
      "metadata": {},
      "outputs": [
        {
          "data": {
            "text/plain": [
              "[42, 23, 16, 15, 8, 4]"
            ]
          },
          "execution_count": 14,
          "metadata": {},
          "output_type": "execute_result"
        }
      ],
      "source": [
        "my_list[::-1]"
      ]
    },
    {
      "cell_type": "markdown",
      "metadata": {},
      "source": [
        "And they can contain any type of objects:"
      ]
    },
    {
      "cell_type": "code",
      "execution_count": 16,
      "metadata": {},
      "outputs": [],
      "source": [
        "nombre = 'Jack'\n",
        "\n",
        "lista_heterogenea = [108, 'Dharma', my_list, nombre]"
      ]
    },
    {
      "cell_type": "code",
      "execution_count": 17,
      "metadata": {},
      "outputs": [
        {
          "name": "stdout",
          "output_type": "stream",
          "text": [
            "[108, 'Dharma', [4, 8, 15, 16, 23, 42], 'Jack']\n",
            "4\n"
          ]
        }
      ],
      "source": [
        "print(lista_heterogenea)\n",
        "print(lista_heterogenea[2][0])"
      ]
    },
    {
      "cell_type": "markdown",
      "metadata": {},
      "source": [
        "Elements can be added to a list"
      ]
    },
    {
      "cell_type": "code",
      "execution_count": 21,
      "metadata": {},
      "outputs": [
        {
          "data": {
            "text/plain": [
              "[108, 323, [4, 8, 15, 16, 23, 42], 'Jack', 'Shepard', 'Shepard']"
            ]
          },
          "execution_count": 21,
          "metadata": {},
          "output_type": "execute_result"
        }
      ],
      "source": [
        "lista_heterogenea.append('Shepard')\n",
        "lista_heterogenea"
      ]
    },
    {
      "cell_type": "markdown",
      "metadata": {},
      "source": [
        "O Elements can be replaced"
      ]
    },
    {
      "cell_type": "code",
      "execution_count": 20,
      "metadata": {},
      "outputs": [
        {
          "data": {
            "text/plain": [
              "[108, 323, [4, 8, 15, 16, 23, 42], 'Jack', 'Shepard']"
            ]
          },
          "execution_count": 20,
          "metadata": {},
          "output_type": "execute_result"
        }
      ],
      "source": [
        "lista_heterogenea[1] = 323\n",
        "lista_heterogenea"
      ]
    },
    {
      "cell_type": "markdown",
      "metadata": {},
      "source": [
        "You can even make sequence assignments \"sliches\" sequences"
      ]
    },
    {
      "cell_type": "code",
      "execution_count": null,
      "metadata": {},
      "outputs": [],
      "source": [
        "lista_heterogenea[0:2] = ['A', 'B', 'C', 'D']     # Notice that the value is not necessary to be the same size as the slice\n",
        "lista_heterogenea"
      ]
    },
    {
      "cell_type": "markdown",
      "metadata": {},
      "source": [
        "Other operations between lists:"
      ]
    },
    {
      "cell_type": "code",
      "execution_count": null,
      "metadata": {},
      "outputs": [],
      "source": [
        "\n",
        "print(4 in my_list)\n",
        "print(4 not in my_list)\n",
        "\n",
        "L = my_list + lista_heterogenea\n",
        "\n",
        "print(L)\n",
        "\n",
        "L = 3*my_list\n",
        "\n",
        "print(L)\n",
        "\n",
        "print(sum(my_list))\n",
        "\n",
        "print(len(my_list))\n",
        "print(min(my_list))\n",
        "print(max(my_list))\n",
        "\n",
        "print(lista_heterogenea.index('B'))\n",
        "\n",
        "print(lista_heterogenea.count(42))"
      ]
    },
    {
      "cell_type": "code",
      "execution_count": null,
      "metadata": {},
      "outputs": [],
      "source": [
        "print(lista_heterogenea)\n",
        "print(lista_heterogenea.count([4, 8, 15, 16, 23, 42]))"
      ]
    },
    {
      "cell_type": "code",
      "execution_count": null,
      "metadata": {},
      "outputs": [],
      "source": [
        "my_list = [4,8,15,16,23,42]\n",
        "print(my_list)\n",
        "otra_lista = my_list[::-1]\n",
        "print(otra_lista)\n",
        "\n",
        "print(my_list)\n",
        "\n",
        "my_list.reverse()\n",
        "\n",
        "print(my_list)"
      ]
    },
    {
      "cell_type": "code",
      "execution_count": null,
      "metadata": {},
      "outputs": [],
      "source": [
        "del my_list[1:3]\n",
        "\n",
        "print(my_list)"
      ]
    },
    {
      "cell_type": "code",
      "execution_count": null,
      "metadata": {},
      "outputs": [],
      "source": [
        "list1 = [0,1,2]\n",
        "\n",
        "list2 = list1\n",
        "\n",
        "list2[0] = 8\n",
        "\n",
        "print(list1)\n",
        "print(list2)"
      ]
    },
    {
      "cell_type": "markdown",
      "metadata": {},
      "source": [
        "### Double"
      ]
    },
    {
      "cell_type": "markdown",
      "metadata": {},
      "source": [
        "The tuples are equal to the lists, with the difference is that the lists are mutable while the tuples do not."
      ]
    },
    {
      "cell_type": "code",
      "execution_count": null,
      "metadata": {},
      "outputs": [],
      "source": [
        "una_tupla = ('Benjamin', 108, my_list, ('Linus', my_list[0]))\n",
        "print(type(una_tupla))\n",
        "print(una_tupla[1:3])\n",
        "una_tupla"
      ]
    },
    {
      "cell_type": "code",
      "execution_count": null,
      "metadata": {},
      "outputs": [],
      "source": [
        "una_tupla.append('B')"
      ]
    },
    {
      "cell_type": "code",
      "execution_count": null,
      "metadata": {},
      "outputs": [],
      "source": [
        "una_tupla[-1] = 'osooo'"
      ]
    },
    {
      "cell_type": "code",
      "execution_count": null,
      "metadata": {},
      "outputs": [],
      "source": [
        "una_tupla.reverse()"
      ]
    },
    {
      "cell_type": "markdown",
      "metadata": {},
      "source": [
        "### Dictionaries"
      ]
    },
    {
      "cell_type": "markdown",
      "metadata": {},
      "source": [
        "The dictionaries are other types of high level structures that are already incorporated. Unlike sequences, values ​​are not in a position but under a key: they are key associations: value"
      ]
    },
    {
      "cell_type": "code",
      "execution_count": null,
      "metadata": {},
      "outputs": [],
      "source": [
        "stock = {'Manzanas': 1, 'Peras': 10, 'Bananas': 5, 'Frutillas': 'Fuera de temporada'} \n",
        "\n",
        "stock"
      ]
    },
    {
      "cell_type": "markdown",
      "metadata": {},
      "source": [
        "We access the value through a key"
      ]
    },
    {
      "cell_type": "code",
      "execution_count": null,
      "metadata": {},
      "outputs": [],
      "source": [
        "stock['Frutillas'] = 20\n",
        "\n",
        "stock"
      ]
    },
    {
      "cell_type": "code",
      "execution_count": null,
      "metadata": {},
      "outputs": [],
      "source": [
        "stock['Sandía'] = 1\n",
        "\n",
        "stock"
      ]
    },
    {
      "cell_type": "code",
      "execution_count": null,
      "metadata": {},
      "outputs": [],
      "source": [
        "del stock['Sandía']\n",
        "\n",
        "stock"
      ]
    },
    {
      "cell_type": "code",
      "execution_count": null,
      "metadata": {},
      "outputs": [],
      "source": [
        "list(stock.items())[1][0]"
      ]
    },
    {
      "cell_type": "code",
      "execution_count": null,
      "metadata": {},
      "outputs": [],
      "source": [
        "list(stock.items())"
      ]
    },
    {
      "cell_type": "code",
      "execution_count": null,
      "metadata": {},
      "outputs": [],
      "source": [
        "list(stock.keys())"
      ]
    },
    {
      "cell_type": "code",
      "execution_count": null,
      "metadata": {},
      "outputs": [],
      "source": [
        "stock.values()"
      ]
    },
    {
      "cell_type": "markdown",
      "metadata": {},
      "source": [
        "## Flow control\n",
        "\n",
        "One of the fundamental tools of programming is to be able to control the effects on the program when certain conditions are met, or to be able to repeat a number of operations in a simple way. These instructions are arranged in structures that allow to handle the flow of a program, and are present in all programming languages. The most fundamental are called practically the same in most languages.\n",
        "\n",
        "An important aspect presented by the flow structures in Python is that they require ** Indentation **, that is, to leave spaces in such a way that the structure can be well defined. Another of the eternal discussions of computing is how many spaces are used to indent. The correct answer in this course is ** 4 **."
      ]
    },
    {
      "cell_type": "markdown",
      "metadata": {},
      "source": [
        "### Conditional"
      ]
    },
    {
      "cell_type": "code",
      "execution_count": null,
      "metadata": {},
      "outputs": [],
      "source": [
        "Nota = 7\n",
        "if Nota >= 8:\n",
        "    print (\"Aprobó cómodo, felicidades!\")\n",
        "elif 6 <= Nota < 8:\n",
        "    print (\"Bueno, al menos aprobó!\")\n",
        "elif 4 <= Nota < 6 :\n",
        "    print (\"Bastante bien, pero no le alcanzó\")\n",
        "else:\n",
        "    print(\"We wait for it after the holidays!\")"
      ]
    },
    {
      "cell_type": "markdown",
      "metadata": {},
      "source": [
        "In an IF, Boolean conversion is implicit. The None type (empty), the 0, a sequence (list, tupla, string) (or set or dictionary, which we will see) always empties false. Any other object evaluates True."
      ]
    },
    {
      "cell_type": "code",
      "execution_count": null,
      "metadata": {},
      "outputs": [],
      "source": [
        "respuesta = 'lala'\n",
        "\n",
        "if respuesta:\n",
        "    print('replied!')\n",
        "else:\n",
        "    print('He did not answer!')"
      ]
    },
    {
      "cell_type": "markdown",
      "metadata": {},
      "source": [
        "### Iterations"
      ]
    },
    {
      "cell_type": "markdown",
      "metadata": {},
      "source": [
        "Loop for"
      ]
    },
    {
      "cell_type": "code",
      "execution_count": null,
      "metadata": {},
      "outputs": [],
      "source": [
        "for i in [0,1,2,3]:\n",
        "    print(i,i+1)"
      ]
    },
    {
      "cell_type": "code",
      "execution_count": null,
      "metadata": {},
      "outputs": [],
      "source": [
        "provincias_patagonicas = [\"Tierra del Fuego\", \"Santa Cruz\", \"Chubut\", \"Neuquén\", \"Río Negro\", \"La Pampa\"]\n",
        "\n",
        "for provincia in provincias_patagonicas:\n",
        "    print(provincia)"
      ]
    },
    {
      "cell_type": "code",
      "execution_count": null,
      "metadata": {},
      "outputs": [],
      "source": [
        "sumatoria = 0\n",
        "\n",
        "for elemento in [1, 2, 3.6]:\n",
        "    sumatoria += elemento\n",
        "    \n",
        "sumatoria"
      ]
    },
    {
      "cell_type": "markdown",
      "metadata": {},
      "source": [
        "### Iterators"
      ]
    },
    {
      "cell_type": "markdown",
      "metadata": {},
      "source": [
        "We will see a new guy, called `Range`, which is a _iterador_. It is created by any of the following calls:\n",
        "* `Range (stop)`\n",
        "* `Range (Start, Stop, Step)`"
      ]
    },
    {
      "cell_type": "code",
      "execution_count": null,
      "metadata": {},
      "outputs": [],
      "source": [
        "r = range(10)\n",
        "\n",
        "print(r)\n",
        "print(type(r))"
      ]
    },
    {
      "cell_type": "code",
      "execution_count": null,
      "metadata": {},
      "outputs": [],
      "source": [
        "r = list(range(10))\n",
        "\n",
        "print(r)\n",
        "print(type(r))"
      ]
    },
    {
      "cell_type": "code",
      "execution_count": null,
      "metadata": {},
      "outputs": [],
      "source": [
        "p = list(range(2,12,2))\n",
        "\n",
        "print(p)"
      ]
    },
    {
      "cell_type": "code",
      "execution_count": null,
      "metadata": {},
      "outputs": [],
      "source": [
        "p = list(range(20,10,-2))\n",
        "\n",
        "print(p)"
      ]
    },
    {
      "cell_type": "code",
      "execution_count": null,
      "metadata": {},
      "outputs": [],
      "source": [
        "for elemento in range(10):\n",
        "    print(elemento)\n"
      ]
    },
    {
      "cell_type": "code",
      "execution_count": null,
      "metadata": {},
      "outputs": [],
      "source": [
        "for (posicion, valor) in enumerate([4, 3, 19]):\n",
        "    \n",
        "    print('The position of the position', posicion, 'es', valor)"
      ]
    },
    {
      "cell_type": "code",
      "execution_count": null,
      "metadata": {},
      "outputs": [],
      "source": [
        "temp_min = [-3.2, -2, 0, -1, 4, -5, -2, 0, 4, 0]\n",
        "temp_max = [13.2, 12, 13, 7, 18, 5, 11, 14, 10 , 10]\n",
        "\n",
        "for t1, t2 in zip(temp_min, temp_max):\n",
        "  print('The minimum temperature was', t1, 'y la máxima fue', t2)"
      ]
    },
    {
      "cell_type": "markdown",
      "metadata": {},
      "source": [
        "### LOOPS FLOW CONTROL\n",
        "You can get out of the loop using `Break`"
      ]
    },
    {
      "cell_type": "code",
      "execution_count": null,
      "metadata": {},
      "outputs": [],
      "source": [
        "sumatoria = 0\n",
        "\n",
        "for elemento in range(1000):\n",
        "    \n",
        "    if elemento > 100:\n",
        "        break\n",
        "        \n",
        "    sumatoria = sumatoria + elemento\n",
        "    \n",
        "sumatoria, elemento"
      ]
    },
    {
      "cell_type": "code",
      "execution_count": null,
      "metadata": {},
      "outputs": [],
      "source": [
        "sumatoria = 0\n",
        "\n",
        "for elemento in range(101):\n",
        "    \n",
        "    sumatoria += elemento\n",
        "    \n",
        "sumatoria, elemento"
      ]
    },
    {
      "cell_type": "markdown",
      "metadata": {},
      "source": [
        "An iteration can be omitted using `continue"
      ]
    },
    {
      "cell_type": "code",
      "execution_count": null,
      "metadata": {},
      "outputs": [],
      "source": [
        "sumatoria = 0\n",
        "\n",
        "for elemento in range(20):\n",
        "    \n",
        "    if elemento % 2:\n",
        "        continue\n",
        "        \n",
        "    print(elemento, end=', ')\n",
        "    sumatoria = sumatoria + elemento\n",
        "    \n",
        "sumatoria"
      ]
    },
    {
      "cell_type": "markdown",
      "metadata": {},
      "source": [
        "A practical example is to create a list through a loop:"
      ]
    },
    {
      "cell_type": "code",
      "execution_count": null,
      "metadata": {},
      "outputs": [],
      "source": [
        "cuadrados = []\n",
        "\n",
        "for i in range(-3,15,1):\n",
        "    cuadrados.append(i**2)\n",
        "    \n",
        "print(cuadrados)"
      ]
    },
    {
      "cell_type": "markdown",
      "metadata": {},
      "source": [
        "Loop while"
      ]
    },
    {
      "cell_type": "code",
      "execution_count": null,
      "metadata": {},
      "outputs": [],
      "source": [
        "a = 0\n",
        "while a < 10:\n",
        "    print(a)\n",
        "    a += 1"
      ]
    },
    {
      "cell_type": "code",
      "execution_count": null,
      "metadata": {},
      "outputs": [],
      "source": [
        "n = 1\n",
        "while True:\n",
        "    n = n + 1\n",
        "    print(n, 'elefantes se balanceaban sobre la tela de una araña')\n",
        "    continuar = input('Desea invitar a otro elefante?')\n",
        "    if continuar.lower() == 'no':\n",
        "        break"
      ]
    },
    {
      "cell_type": "markdown",
      "metadata": {},
      "source": [
        "## Printing with format\n",
        "While Python is quite cunning when printing using the `print` instruction, you can format what one wants to print. There are a variety of ways to get a pleasant impression. Let's look at a couple of cases."
      ]
    },
    {
      "cell_type": "markdown",
      "metadata": {},
      "source": [
        "### Using `% \n",
        "The `%` symbol is used to define the format of each variable. Let's look at some examples"
      ]
    },
    {
      "cell_type": "code",
      "execution_count": 31,
      "metadata": {},
      "outputs": [],
      "source": [
        "s = 42"
      ]
    },
    {
      "cell_type": "code",
      "execution_count": 38,
      "metadata": {},
      "outputs": [
        {
          "name": "stdout",
          "output_type": "stream",
          "text": [
            "s (decimal): 42\n",
            "s (decimal):        042\n",
            "s (octal)  : 52\n",
            "s (hexadecimal)  : 2a\n"
          ]
        }
      ],
      "source": [
        "print(\"s (decimal): %d\" % s)\n",
        "print(\"s (decimal): %10.3d\" % s)\n",
        "print(\"s (octal)  : %o\" % s)\n",
        "print(\"s (hexadecimal)  : %x\" % s)\n"
      ]
    },
    {
      "cell_type": "code",
      "execution_count": 23,
      "metadata": {},
      "outputs": [],
      "source": [
        "from math import *\n",
        "\n",
        "golden_ratio = (1 + sqrt(5))/2"
      ]
    },
    {
      "cell_type": "code",
      "execution_count": 30,
      "metadata": {},
      "outputs": [
        {
          "name": "stdout",
          "output_type": "stream",
          "text": [
            "1.618033988749895\n",
            "Golden Ratio =  1.62\n",
            "Golden Ratio = 1.618 Golden Ratio/100 = 1.618e-02\n"
          ]
        }
      ],
      "source": [
        "print(golden_ratio)\n",
        "print(\"Golden Ratio = %5.2f\" % golden_ratio) # A 5 characters field, with two decimals\n",
        "print(\"Golden Ratio = %5.3f Golden Ratio/100 = %8.3e\" % (golden_ratio,golden_ratio/100)) # A 5 characters field, with three decimals, exponential notation\n"
      ]
    },
    {
      "cell_type": "markdown",
      "metadata": {},
      "source": [
        "### Using `format '"
      ]
    },
    {
      "cell_type": "code",
      "execution_count": 48,
      "metadata": {},
      "outputs": [
        {
          "name": "stdout",
          "output_type": "stream",
          "text": [
            "s (decimal): 42\n",
            "s (decimal):         42\n",
            "s (octal)  : 52\n",
            "s (hexadecimal)  : 2a\n"
          ]
        }
      ],
      "source": [
        "print(\"s (decimal): {0:d}\" .format(s))\n",
        "print(\"s (decimal): {0:10d}\".format(s))\n",
        "print(\"s (octal)  : {0:o}\".format(s))\n",
        "print(\"s (hexadecimal)  : {0:x}\".format(s))\n"
      ]
    },
    {
      "cell_type": "code",
      "execution_count": 51,
      "metadata": {},
      "outputs": [
        {
          "name": "stdout",
          "output_type": "stream",
          "text": [
            "1.618033988749895\n",
            "Golden Ratio =  1.62\n",
            "Golden Ratio = 1.618 Golden Ratio/100 = 1.618e-02\n"
          ]
        }
      ],
      "source": [
        "print(golden_ratio)\n",
        "print(\"Golden Ratio = {0:5.2f}\" .format(golden_ratio)) # A 5 characters field, with two decimals\n",
        "print(\"Golden Ratio = {0:5.3f} Golden Ratio/100 = {1:8.3e}\" .format(golden_ratio,golden_ratio/100)) # A 5 characters field, with three decimals, exponential notation\n"
      ]
    },
    {
      "cell_type": "markdown",
      "metadata": {},
      "source": [
        "The use of `format` is also called positional"
      ]
    },
    {
      "cell_type": "code",
      "execution_count": 52,
      "metadata": {},
      "outputs": [
        {
          "name": "stdout",
          "output_type": "stream",
          "text": [
            "Golden Ratio = 0.016 Golden Ratio/100 = 1.618e+00\n"
          ]
        }
      ],
      "source": [
        "print(\"Golden Ratio = {1:5.3f} Golden Ratio/100 = {0:8.3e}\" .format(golden_ratio,golden_ratio/100)) # A 5 characters field, with three decimals, exponential notation\n",
        "# A 5 characters field, with three decimals, exponential notation"
      ]
    },
    {
      "cell_type": "code",
      "execution_count": null,
      "metadata": {},
      "outputs": [],
      "source": []
    }
  ],
  "metadata": {
    "kernelspec": {
      "display_name": "Python 3 (ipykernel)",
      "language": "python",
      "name": "python3"
    },
    "language_info": {
      "codemirror_mode": {
        "name": "ipython",
        "version": 3
      },
      "file_extension": ".py",
      "mimetype": "text/x-python",
      "name": "python",
      "nbconvert_exporter": "python",
      "pygments_lexer": "ipython3",
      "version": "3.9.16"
    },
    "nbTranslate": {
      "displayLangs": [
        "*"
      ],
      "hotkey": "alt-t",
      "langInMainMenu": true,
      "sourceLang": "en",
      "targetLang": "fr",
      "useGoogleTranslate": true
    }
  },
  "nbformat": 4,
  "nbformat_minor": 2
}