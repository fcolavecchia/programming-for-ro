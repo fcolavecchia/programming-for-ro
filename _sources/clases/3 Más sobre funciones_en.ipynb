{
  "cells": [
    {
      "cell_type": "markdown",
      "metadata": {},
      "source": [
        "# More about functions"
      ]
    },
    {
      "cell_type": "markdown",
      "metadata": {},
      "source": [
        "In today's class we will see some pending themes of the last class.\n"
      ]
    },
    {
      "cell_type": "markdown",
      "metadata": {},
      "source": [
        "To define functions, we use the reserved word `def`. For example, we can define the function that verifies whether or not a leap a year:"
      ]
    },
    {
      "cell_type": "code",
      "execution_count": 3,
      "metadata": {},
      "outputs": [
        {
          "name": "stdout",
          "output_type": "stream",
          "text": [
            "Ingrese anio :mil novecientos veinte\n",
            "<class 'str'>\n"
          ]
        },
        {
          "ename": "ValueError",
          "evalue": "invalid literal for int() with base 10: 'mil novecientos veinte'",
          "output_type": "error",
          "traceback": [
            "\u001b[0;31m---------------------------------------------------------------------------\u001b[0m",
            "\u001b[0;31mValueError\u001b[0m                                Traceback (most recent call last)",
            "\u001b[0;32m<ipython-input-3-7be9f3f5aec4>\u001b[0m in \u001b[0;36m<module>\u001b[0;34m\u001b[0m\n\u001b[1;32m     11\u001b[0m \u001b[0mprint\u001b[0m\u001b[0;34m(\u001b[0m\u001b[0mtype\u001b[0m\u001b[0;34m(\u001b[0m\u001b[0manio\u001b[0m\u001b[0;34m)\u001b[0m\u001b[0;34m)\u001b[0m\u001b[0;34m\u001b[0m\u001b[0;34m\u001b[0m\u001b[0m\n\u001b[1;32m     12\u001b[0m \u001b[0;31m# Esto está bien:\u001b[0m\u001b[0;34m\u001b[0m\u001b[0;34m\u001b[0m\u001b[0;34m\u001b[0m\u001b[0m\n\u001b[0;32m---> 13\u001b[0;31m \u001b[0mprint\u001b[0m\u001b[0;34m(\u001b[0m\u001b[0mes_bisiesto\u001b[0m\u001b[0;34m(\u001b[0m\u001b[0mint\u001b[0m\u001b[0;34m(\u001b[0m\u001b[0manio\u001b[0m\u001b[0;34m)\u001b[0m\u001b[0;34m)\u001b[0m\u001b[0;34m)\u001b[0m\u001b[0;34m\u001b[0m\u001b[0;34m\u001b[0m\u001b[0m\n\u001b[0m\u001b[1;32m     14\u001b[0m \u001b[0;31m# Esto no va a andar:\u001b[0m\u001b[0;34m\u001b[0m\u001b[0;34m\u001b[0m\u001b[0;34m\u001b[0m\u001b[0m\n\u001b[1;32m     15\u001b[0m \u001b[0mprint\u001b[0m\u001b[0;34m(\u001b[0m\u001b[0mes_bisiesto\u001b[0m\u001b[0;34m(\u001b[0m\u001b[0manio\u001b[0m\u001b[0;34m)\u001b[0m\u001b[0;34m)\u001b[0m\u001b[0;34m\u001b[0m\u001b[0;34m\u001b[0m\u001b[0m\n",
            "\u001b[0;31mValueError\u001b[0m: invalid literal for int() with base 10: 'mil novecientos veinte'"
          ]
        }
      ],
      "source": [
        "def es_bisiesto(anio):\n",
        "    \"\"\" Esta función determina si\n",
        "        un año es bisiesto\"\"\"\n",
        "    \n",
        "    if(anio%4 == 0 and not anio%100==0 or anio%400==0):\n",
        "        return True\n",
        "    else:\n",
        "        return False\n",
        "        \n",
        "anio = input('Ingrese anio :')    \n",
        "print(type(anio))\n",
        "# This is fine:\n",
        "print(es_bisiesto(int(anio)))    \n",
        "# This is not going to walk:\n",
        "print(es_bisiesto(anio)) "
      ]
    },
    {
      "cell_type": "markdown",
      "metadata": {},
      "source": [
        "## Example"
      ]
    },
    {
      "cell_type": "markdown",
      "metadata": {},
      "source": [
        "### Pagogram\n",
        "\n",
        "A pan is a phrase that contains all the letters of the alphabet. We are going to use English, we avoid the accents and other issues of Spanish. For example\n",
        "\n",
        ">>*The Quick Brown Fox Jumps Over The Lazy Dog*\n",
        "\n",
        "It is a very used vaggram in the creation of *fonts *, that is, fonts or fonts, precisely because it contains all the letters of the alphabet.\n",
        "\n",
        "The problem is writing a function that determines whether a phrase is a pan or not."
      ]
    },
    {
      "cell_type": "code",
      "execution_count": 29,
      "metadata": {},
      "outputs": [],
      "source": [
        "s = \"the quick brown fox jumps over the lazy dog\"\n",
        "\n",
        "\n",
        "def is_pangram(frase):\n",
        "    \n",
        "    pass\n"
      ]
    },
    {
      "cell_type": "markdown",
      "metadata": {},
      "source": [
        "## Multiple entry and exit arguments"
      ]
    },
    {
      "cell_type": "code",
      "execution_count": null,
      "metadata": {},
      "outputs": [],
      "source": [
        "def divide_seguro(x,y):\n",
        "    if(y==0):\n",
        "        return None,\"Error: y vale 0\"\n",
        "    else:\n",
        "        return x/y, \"Ok\"\n",
        "\n",
        "a = 8.2\n",
        "b = 0\n",
        "    \n",
        "cociente, result = divide_seguro(a,b)\n",
        "print(\"quotient:\",cociente,\", result:\",result)\n",
        "\n",
        "c = 2.5\n",
        "cociente, result = divide_seguro(a,c)\n",
        "print(\"quotient:\",cociente,\", result:\",result)\n",
        "    "
      ]
    },
    {
      "cell_type": "markdown",
      "metadata": {},
      "source": [
        "#### A little help from my friends\n",
        "\n",
        "The `Help` function gives us help about functions, whether they program or those we program, if they have the right docstring`."
      ]
    },
    {
      "cell_type": "code",
      "execution_count": null,
      "metadata": {},
      "outputs": [],
      "source": [
        "help(sum)"
      ]
    },
    {
      "cell_type": "code",
      "execution_count": null,
      "metadata": {},
      "outputs": [],
      "source": [
        "help(fib)"
      ]
    },
    {
      "cell_type": "code",
      "execution_count": null,
      "metadata": {},
      "outputs": [],
      "source": [
        "help(al_cuadrado)"
      ]
    },
    {
      "cell_type": "markdown",
      "metadata": {},
      "source": [
        "## Optional arguments"
      ]
    },
    {
      "cell_type": "code",
      "execution_count": 2,
      "metadata": {},
      "outputs": [
        {
          "name": "stdout",
          "output_type": "stream",
          "text": [
            "-98.0\n",
            "509.99999999999994\n",
            "-120.0\n",
            "400.0\n"
          ]
        }
      ],
      "source": [
        "def caida_libre(t, h0, v0 = 0., g=9.8):\n",
        "    \"\"\"\n",
        "    Devuelve la velocidad y la posición de una partícula en\n",
        "    caída libre para condiciones iniciales dadas\n",
        "    \n",
        "    \"\"\"\n",
        "    v = v0 - g*t\n",
        "    h = h0 - v0*t - g*t**2/2.\n",
        "  \n",
        "    return v, h\n",
        "\n",
        "v1, h1 = caida_libre(10, 1000)\n",
        "\n",
        "print(v1)\n",
        "print(h1)\n",
        "\n",
        "v1, h1 = caida_libre(10, 1000, g = 12)\n",
        "\n",
        "print(v1)\n",
        "print(h1)"
      ]
    },
    {
      "cell_type": "markdown",
      "metadata": {},
      "source": [
        "## Scope of variables"
      ]
    },
    {
      "cell_type": "code",
      "execution_count": 4,
      "metadata": {},
      "outputs": [
        {
          "name": "stdout",
          "output_type": "stream",
          "text": [
            "Originalmente x vale 50\n",
            "x entró a la función con el valor 50\n",
            "El nuevo valor de x es 2\n",
            "Ahora y vale 50\n"
          ]
        }
      ],
      "source": [
        "def func1(x):\n",
        "    print('X entered the function with the value', x)\n",
        "    x = 2\n",
        "    print('The new X is', x)\n",
        "\n",
        "y = 50\n",
        "print('Originally x Vale',y)\n",
        "func1(y)\n",
        "print('Now and ok',y)  "
      ]
    },
    {
      "cell_type": "code",
      "execution_count": 6,
      "metadata": {},
      "outputs": [
        {
          "name": "stdout",
          "output_type": "stream",
          "text": [
            "Originalmente x vale [50]\n",
            "x entró a la función con el valor [50]\n",
            "El nuevo valor de x es [2]\n",
            "Ahora x vale [50]\n"
          ]
        }
      ],
      "source": [
        "x = [50]\n",
        "print('Originally x Vale',x)\n",
        "\n",
        "def func2(x):\n",
        "    print('X entered the function with the value', x)\n",
        "    x = [2]\n",
        "    print('The new X is', x)\n",
        "\n",
        "func2(x)\n",
        "print('Now x okay',x) "
      ]
    },
    {
      "cell_type": "code",
      "execution_count": 7,
      "metadata": {},
      "outputs": [
        {
          "name": "stdout",
          "output_type": "stream",
          "text": [
            "Originalmente x vale [50]\n",
            "x entró a la función con el valor [50]\n",
            "El nuevo valor de x es [2]\n",
            "Ahora x vale [2]\n"
          ]
        }
      ],
      "source": [
        "x = [50]\n",
        "print('Originally x Vale',x)\n",
        "\n",
        "def func3(x):\n",
        "    print('X entered the function with the value', x)\n",
        "    x[0] = 2\n",
        "    print('The new X is', x)\n",
        "\n",
        "func3(x)\n",
        "print('Now x okay',x)  "
      ]
    },
    {
      "cell_type": "code",
      "execution_count": 8,
      "metadata": {},
      "outputs": [
        {
          "name": "stdout",
          "output_type": "stream",
          "text": [
            "Originalmente x vale [50]\n",
            "x entró a la función con el valor [50]\n",
            "El nuevo valor de x es lala\n",
            "Ahora x vale [50]\n"
          ]
        }
      ],
      "source": [
        "x = [50]\n",
        "print('Originally x Vale',x)\n",
        "\n",
        "def func3(x):\n",
        "    print('X entered the function with the value', x)\n",
        "    x = 'lala'\n",
        "    print('The new X is', x)\n",
        "\n",
        "func3(x)\n",
        "print('Now x okay',x)  "
      ]
    },
    {
      "cell_type": "code",
      "execution_count": 9,
      "metadata": {},
      "outputs": [
        {
          "name": "stdout",
          "output_type": "stream",
          "text": [
            "Originalmente x vale [1, 2, 3, 4, 5]\n",
            "x entró a la función con el valor [1, 2, 3, 4, 5]\n",
            "El nuevo valor de x es [1, 2, 108, 4, 5]\n",
            "Ahora x vale [1, 2, 108, 4, 5]\n"
          ]
        }
      ],
      "source": [
        "x = [1,2,3,4,5]\n",
        "print('Originally x Vale',x)\n",
        "\n",
        "def func3(x):\n",
        "    print('X entered the function with the value', x)\n",
        "    x[2] = 108\n",
        "    print('The new X is', x)\n",
        "\n",
        "func3(x)\n",
        "print('Now x okay',x)  "
      ]
    },
    {
      "cell_type": "markdown",
      "metadata": {},
      "source": [
        "## Something I/O"
      ]
    },
    {
      "cell_type": "markdown",
      "metadata": {},
      "source": [
        "With the acronym * I/O *, the entry and exit procedures (of English, input/output) are usually referred. This refers most of the time to read or write data, either screen, file, etc.\n",
        "\n",
        "We already saw the `print` function that writes on the screen. Its counterpart is the `input`, which allows you to read data by screen:"
      ]
    },
    {
      "cell_type": "code",
      "execution_count": 13,
      "metadata": {},
      "outputs": [
        {
          "name": "stdout",
          "output_type": "stream",
          "text": [
            "Ingrese algo: True\n",
            "True\n",
            "El tipo de dato ingresado es: <class 'str'>\n"
          ]
        }
      ],
      "source": [
        "algo_ingresado = input('Ingrese algo: ')\n",
        "\n",
        "print(algo_ingresado)\n",
        "print(\"The type of data entered is:\",type(algo_ingresado))"
      ]
    },
    {
      "cell_type": "markdown",
      "metadata": {},
      "source": [
        "Like the `print` function, which always writes a` string`, `input` always receives the` string` type."
      ]
    },
    {
      "cell_type": "markdown",
      "metadata": {},
      "source": [
        "### Load and write text files\n",
        "\n",
        "Another fundamental operation of I/O is the data load from files, and its writing:"
      ]
    },
    {
      "cell_type": "code",
      "execution_count": 14,
      "metadata": {},
      "outputs": [
        {
          "name": "stdout",
          "output_type": "stream",
          "text": [
            "writeme es de tipo : <class '_io.TextIOWrapper'>\n"
          ]
        }
      ],
      "source": [
        "writeme = open('ejemplo.txt','w') \n",
        "# print('writeme es de tipo :',type(writeme))\n",
        "\n",
        "texto = 'Esta es la primer línea,\\nesta es la segunda\\ny esta es la tercera.'\n",
        "\n",
        "writeme.write(texto)\n",
        "\n",
        "writeme.close()"
      ]
    },
    {
      "cell_type": "code",
      "execution_count": 16,
      "metadata": {},
      "outputs": [
        {
          "name": "stdout",
          "output_type": "stream",
          "text": [
            "Esta es la primer línea,\n",
            "esta es la segunda\n",
            "y esta es la tercera.\n",
            "Esta es la cuarta línea.\n"
          ]
        }
      ],
      "source": [
        "readme = open('ejemplo.txt') \n",
        "\n",
        "texto_leido = readme.read()\n",
        "\n",
        "print(texto_leido)\n",
        "\n",
        "readme.close()"
      ]
    },
    {
      "cell_type": "code",
      "execution_count": 19,
      "metadata": {},
      "outputs": [
        {
          "name": "stdout",
          "output_type": "stream",
          "text": [
            "texto_leido: Esta es la prime\n",
            "mas_texto_leido: r línea,\n",
            "esta es la segunda\n",
            "y esta es la tercera.\n",
            "Esta es la cuarta línea.\n"
          ]
        }
      ],
      "source": [
        "readme = open('ejemplo.txt') \n",
        "\n",
        "texto_leido = readme.read(16)\n",
        "\n",
        "print('Text_leido:',texto_leido)\n",
        "\n",
        "mas_texto_leido = readme.read()\n",
        "\n",
        "print('more_text_leido:',mas_texto_leido)\n",
        "\n",
        "readme.close()"
      ]
    },
    {
      "cell_type": "code",
      "execution_count": 20,
      "metadata": {},
      "outputs": [
        {
          "name": "stdout",
          "output_type": "stream",
          "text": [
            "Esta es la primer línea,\n",
            "\n",
            "esta es la segunda\n",
            "\n",
            "y esta es la tercera.\n",
            "\n",
            "Esta es la cuarta línea.\n"
          ]
        }
      ],
      "source": [
        "readme = open('ejemplo.txt')\n",
        "\n",
        "for linea in readme:\n",
        "    print(linea)\n",
        "    \n",
        "readme.close() "
      ]
    },
    {
      "cell_type": "code",
      "execution_count": 22,
      "metadata": {},
      "outputs": [
        {
          "name": "stdout",
          "output_type": "stream",
          "text": [
            "<class 'list'>\n",
            "4\n",
            "['Esta es la primer línea,\\n', 'esta es la segunda\\n', 'y esta es la tercera.\\n', 'Esta es la cuarta línea.']\n",
            "Esta es la primer línea,\n",
            "\n"
          ]
        }
      ],
      "source": [
        "readme = open('ejemplo.txt')\n",
        "lineas = readme.readlines()\n",
        "\n",
        "print(type(lineas))\n",
        "print(len(lineas))\n",
        "print(lineas)\n",
        "print(lineas[0])"
      ]
    }
  ],
  "metadata": {
    "kernelspec": {
      "display_name": "Python 3 (ipykernel)",
      "language": "python",
      "name": "python3"
    },
    "language_info": {
      "codemirror_mode": {
        "name": "ipython",
        "version": 3
      },
      "file_extension": ".py",
      "mimetype": "text/x-python",
      "name": "python",
      "nbconvert_exporter": "python",
      "pygments_lexer": "ipython3",
      "version": "3.9.16"
    },
    "nbTranslate": {
      "displayLangs": [
        "*"
      ],
      "hotkey": "alt-t",
      "langInMainMenu": true,
      "sourceLang": "en",
      "targetLang": "fr",
      "useGoogleTranslate": true
    }
  },
  "nbformat": 4,
  "nbformat_minor": 2
}