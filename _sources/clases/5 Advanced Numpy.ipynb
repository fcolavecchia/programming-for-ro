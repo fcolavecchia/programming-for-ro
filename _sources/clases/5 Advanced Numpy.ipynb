{
  "cells": [
    {
      "cell_type": "markdown",
      "metadata": {},
      "source": [
        "# NUMPY - Advanced"
      ]
    },
    {
      "cell_type": "markdown",
      "metadata": {},
      "source": [
        "## Copies and views"
      ]
    },
    {
      "cell_type": "markdown",
      "metadata": {},
      "source": [
        "When operating and manipulating arrays, their data is sometimes copied to a new array and sometimes not. This can be very confusing. There are three cases:"
      ]
    },
    {
      "cell_type": "markdown",
      "metadata": {},
      "source": [
        "#### Simple assignments do not copy the array"
      ]
    },
    {
      "cell_type": "code",
      "execution_count": 1,
      "metadata": {},
      "outputs": [],
      "source": [
        "import numpy as np"
      ]
    },
    {
      "cell_type": "code",
      "execution_count": 13,
      "metadata": {},
      "outputs": [
        {
          "name": "stdout",
          "output_type": "stream",
          "text": [
            "[ 0  1  2  3  4  5  6  7  8  9 10 11]\n"
          ]
        },
        {
          "data": {
            "text/plain": [
              "True"
            ]
          },
          "execution_count": 13,
          "metadata": {},
          "output_type": "execute_result"
        }
      ],
      "source": [
        "A = np.arange(12)\n",
        "print(A)\n",
        "B = A            # A new array is not created\n",
        "B is A           # A and B are two names for the same array"
      ]
    },
    {
      "cell_type": "code",
      "execution_count": 4,
      "metadata": {},
      "outputs": [
        {
          "name": "stdout",
          "output_type": "stream",
          "text": [
            "[[ 0  1  2  3]\n",
            " [ 4  5  6  7]\n",
            " [ 8  9 10 11]]\n"
          ]
        }
      ],
      "source": [
        "B.shape = 3,4    # For example, changing the form A B, changes the form to A\n",
        "A.shape\n",
        "print(A)"
      ]
    },
    {
      "cell_type": "code",
      "execution_count": 6,
      "metadata": {},
      "outputs": [
        {
          "name": "stdout",
          "output_type": "stream",
          "text": [
            "[[80 80 80 80]\n",
            " [ 4  5  6  7]\n",
            " [ 8  9 10 11]]\n"
          ]
        }
      ],
      "source": [
        "B[0,:] = 80\n",
        "\n",
        "print(A)"
      ]
    },
    {
      "cell_type": "markdown",
      "metadata": {},
      "source": [
        "Python passes arrays 'as a reference', so calls to functions do not copy."
      ]
    },
    {
      "cell_type": "code",
      "execution_count": 8,
      "metadata": {},
      "outputs": [
        {
          "name": "stdout",
          "output_type": "stream",
          "text": [
            "Antes de llamar a la función: [1. 1. 1. 1. 1.]\n",
            "Luego de llamar a la función: [2. 2. 2. 2. 2.]\n"
          ]
        }
      ],
      "source": [
        "def f(X):\n",
        "    '''\n",
        "    Una función que espera un array X y cambia X[0] a 2.0\n",
        "    '''\n",
        "    X[0] = 2.0\n",
        "    \n",
        "\n",
        "A = np.ones([4,5])   # <--- array of about 4 rows and 5 columns\n",
        "\n",
        "print('Antes de llamar a la función:', A[0])          # <--- Print the first row\n",
        "\n",
        "f(A)\n",
        "\n",
        "print('After calling the function:', A[0])                        "
      ]
    },
    {
      "cell_type": "markdown",
      "metadata": {},
      "source": [
        "#### Views. \n",
        "Different arrays can share the same data. The view method creates a new array that \"looks\" for the same data."
      ]
    },
    {
      "cell_type": "code",
      "execution_count": 14,
      "metadata": {},
      "outputs": [
        {
          "name": "stdout",
          "output_type": "stream",
          "text": [
            "[ 0  1  2  3  4  5  6  7  8  9 10 11]\n"
          ]
        },
        {
          "data": {
            "text/plain": [
              "False"
            ]
          },
          "execution_count": 14,
          "metadata": {},
          "output_type": "execute_result"
        }
      ],
      "source": [
        "print(A)\n",
        "C = A.view()\n",
        "C is A"
      ]
    },
    {
      "cell_type": "code",
      "execution_count": 16,
      "metadata": {},
      "outputs": [
        {
          "name": "stdout",
          "output_type": "stream",
          "text": [
            "[[ 0  1  2  3  4  5]\n",
            " [ 6  7  8  9 10 11]]\n"
          ]
        },
        {
          "data": {
            "text/plain": [
              "(12,)"
            ]
          },
          "execution_count": 16,
          "metadata": {},
          "output_type": "execute_result"
        }
      ],
      "source": [
        "C.shape = 2,6                      # Change the C form, does not change the one\n",
        "print(C)\n",
        "A.shape"
      ]
    },
    {
      "cell_type": "code",
      "execution_count": 17,
      "metadata": {},
      "outputs": [
        {
          "data": {
            "text/plain": [
              "array([ 3,  3,  3,  3,  3,  3,  6,  7,  8,  9, 10, 11])"
            ]
          },
          "execution_count": 17,
          "metadata": {},
          "output_type": "execute_result"
        }
      ],
      "source": [
        "C[0,:] = 3.0                         # But change C data, change the data from A\n",
        "A"
      ]
    },
    {
      "cell_type": "markdown",
      "metadata": {},
      "source": [
        "Making a slice of an array returns a view:"
      ]
    },
    {
      "cell_type": "code",
      "execution_count": 19,
      "metadata": {},
      "outputs": [
        {
          "data": {
            "text/plain": [
              "array([ 3, 10, 10,  3,  3,  3,  6,  7,  8,  9, 10, 11])"
            ]
          },
          "execution_count": 19,
          "metadata": {},
          "output_type": "execute_result"
        }
      ],
      "source": [
        "S = A[1:3]     \n",
        "S[:] = 10           \n",
        "A"
      ]
    },
    {
      "cell_type": "markdown",
      "metadata": {},
      "source": [
        "#### Copy"
      ]
    },
    {
      "cell_type": "code",
      "execution_count": 20,
      "metadata": {},
      "outputs": [
        {
          "data": {
            "text/plain": [
              "False"
            ]
          },
          "execution_count": 20,
          "metadata": {},
          "output_type": "execute_result"
        }
      ],
      "source": [
        "D = A.copy()                          # A new array is created and the data is copied\n",
        "D is A"
      ]
    },
    {
      "cell_type": "code",
      "execution_count": 22,
      "metadata": {},
      "outputs": [
        {
          "name": "stdout",
          "output_type": "stream",
          "text": [
            "[23 10 10  3  3  3  6  7  8  9 10 11]\n",
            "[ 3 10 10  3  3  3  6  7  8  9 10 11]\n"
          ]
        }
      ],
      "source": [
        "D[0] = 23\n",
        "print(D)\n",
        "print(A)"
      ]
    },
    {
      "cell_type": "markdown",
      "metadata": {},
      "source": [
        "## Indexado (more sophisticated)\n",
        "\n",
        "Numpy offers more indexation techniques than the regular Python sequences. In addition to indexing whole and sectors, as we saw earlier, arrays can be indexed by means of integers and logical arrays.\n"
      ]
    },
    {
      "cell_type": "markdown",
      "metadata": {
        "collapsed": true
      },
      "source": [
        "### Indexed with an array of indices¶"
      ]
    },
    {
      "cell_type": "code",
      "execution_count": 12,
      "metadata": {},
      "outputs": [],
      "source": [
        "import numpy as np"
      ]
    },
    {
      "cell_type": "code",
      "execution_count": 14,
      "metadata": {},
      "outputs": [
        {
          "name": "stdout",
          "output_type": "stream",
          "text": [
            "[  0   1   4   9  16  25  36  49  64  81 100 121]\n"
          ]
        },
        {
          "data": {
            "text/plain": [
              "array([ 1,  1,  9, 64, 25])"
            ]
          },
          "execution_count": 14,
          "metadata": {},
          "output_type": "execute_result"
        }
      ],
      "source": [
        "A = np.arange(12)**2                       # Square array of the numbers from 0 to 11\n",
        "print(A)\n",
        "\n",
        "I = np.array([1, 1, 3, 8, 5])              # index array\n",
        "\n",
        "A[I]                                       # The elements of A in the positions given by i"
      ]
    },
    {
      "cell_type": "code",
      "execution_count": 15,
      "metadata": {},
      "outputs": [
        {
          "data": {
            "text/plain": [
              "array([[ 9, 16],\n",
              "       [81, 49]])"
            ]
          },
          "execution_count": 15,
          "metadata": {},
          "output_type": "execute_result"
        }
      ],
      "source": [
        "J = np.array([[3, 4], [9, 7]])      # Bidimensional array of indices\n",
        "\n",
        "A[J]                                # <--- In the same way as J"
      ]
    },
    {
      "cell_type": "markdown",
      "metadata": {},
      "source": [
        "When the indexed array is multidimensional, an array of indices refers to the first dimension of the indexed array.\n",
        "\n",
        "The following example shows this behavior by converting an 'grayscale' image into a 'thruecolor' (or RGB) image using a palette."
      ]
    },
    {
      "cell_type": "code",
      "execution_count": null,
      "metadata": {},
      "outputs": [],
      "source": [
        "paleta = np.array( [ [0.0, 0.0, 0.0],              # negro\n",
        "                      [1.0, 0.0, 0.0],             # rojo\n",
        "                      [0.0, 1.0, 0.0],             # verde\n",
        "                      [0.0, 0.0, 1.0],             # azul\n",
        "                      [1.0, 1.0, 1.0] ] )          # blanco\n",
        "\n",
        "imagen = np.array([[ 0, 1, 2, 0 ],           # Each value, serves as an index on the colors map (palette)\n",
        "                   [ 0, 3, 4, 0 ]])\n",
        "\n",
        "print(imagen.shape)\n",
        "print(paleta[imagen].shape)                         "
      ]
    },
    {
      "cell_type": "code",
      "execution_count": null,
      "metadata": {},
      "outputs": [],
      "source": [
        "import matplotlib.pyplot as plt\n",
        "\n",
        "plt.figure()\n",
        "plt.imshow(imagen, cmap = 'gray')\n",
        "plt.axis('off')\n",
        "plt.show()\n",
        "\n",
        "plt.figure()\n",
        "plt.imshow(paleta[imagen], cmap = 'gray')\n",
        "plt.axis('off')\n",
        "plt.show()"
      ]
    },
    {
      "cell_type": "markdown",
      "metadata": {},
      "source": [
        "We can also provide indices for more than one dimension. Index arrays for each dimension must have the same form."
      ]
    },
    {
      "cell_type": "code",
      "execution_count": null,
      "metadata": {},
      "outputs": [],
      "source": [
        "A = np.arange(12).reshape(3,4)\n",
        "A"
      ]
    },
    {
      "cell_type": "code",
      "execution_count": null,
      "metadata": {},
      "outputs": [],
      "source": [
        "I = np.array([[0,1],                        # Indices for the first dimension of A\n",
        "              [1,2]])\n",
        "\n",
        "J = np.array([[2,1],                        # Indices for the second dimension of A\n",
        "              [3,3]])\n",
        "\n",
        "A[I,J]                                      # I and J must have the same form"
      ]
    },
    {
      "cell_type": "code",
      "execution_count": null,
      "metadata": {},
      "outputs": [],
      "source": [
        "A[I,2]"
      ]
    },
    {
      "cell_type": "code",
      "execution_count": null,
      "metadata": {},
      "outputs": [],
      "source": [
        "A[:,J]                                     "
      ]
    },
    {
      "cell_type": "markdown",
      "metadata": {},
      "source": [
        "We can put I and J on a list and then do the indexation with the list"
      ]
    },
    {
      "cell_type": "code",
      "execution_count": null,
      "metadata": {},
      "outputs": [],
      "source": [
        "L = [I,J]\n",
        "print(L)\n",
        "\n",
        "A[L]                                       # equivalent to a [i, j]"
      ]
    },
    {
      "cell_type": "markdown",
      "metadata": {},
      "source": [
        "However, we cannot do this by putting I and J in an array, since this array will be interpreted as indexing the first dimension of A."
      ]
    },
    {
      "cell_type": "code",
      "execution_count": null,
      "metadata": {},
      "outputs": [],
      "source": [
        "S = np.array([I,J])\n",
        "print(S)\n",
        "\n",
        "A[S]                                       # It is not the same as seen above"
      ]
    },
    {
      "cell_type": "code",
      "execution_count": null,
      "metadata": {},
      "outputs": [],
      "source": [
        "A[tuple(S)]                                # The same as [I, J]"
      ]
    },
    {
      "cell_type": "markdown",
      "metadata": {},
      "source": [
        "Another example of indexation with indices arrays is the search for the maximum value of series dependent:"
      ]
    },
    {
      "cell_type": "code",
      "execution_count": null,
      "metadata": {},
      "outputs": [],
      "source": [
        "time = np.linspace(20, 145, 5)                 # arbitrary array that simulates time\n",
        "data = np.random.random((5,4))                 # 4 arbitrary series (columns) that simulate depending on the time\n",
        "\n",
        "print(time)\n",
        "\n",
        "print(data)"
      ]
    },
    {
      "cell_type": "code",
      "execution_count": null,
      "metadata": {},
      "outputs": [],
      "source": [
        "ind = data.argmax(axis=0)                   # Maximum indices for each column\n",
        "ind"
      ]
    },
    {
      "cell_type": "code",
      "execution_count": null,
      "metadata": {},
      "outputs": [],
      "source": [
        "time_max = time[ind]                        # times corresponding to the maximum\n",
        "data_max = data[ind, range(data.shape[1])]  # => data[ind[0],0], data[ind[1],1]...\n",
        "\n",
        "print(time_max)\n",
        "\n",
        "print(data_max)"
      ]
    },
    {
      "cell_type": "code",
      "execution_count": null,
      "metadata": {},
      "outputs": [],
      "source": [
        "# graphing the results ...\n",
        "\n",
        "plt.figure()\n",
        "plt.plot(time, data)\n",
        "plt.plot(time_max, data_max, 'ok')\n",
        "plt.show()"
      ]
    },
    {
      "cell_type": "markdown",
      "metadata": {},
      "source": [
        "You can also use indexation to assign values ​​to arrays:"
      ]
    },
    {
      "cell_type": "code",
      "execution_count": null,
      "metadata": {},
      "outputs": [],
      "source": [
        "A = np.arange(5)\n",
        "A"
      ]
    },
    {
      "cell_type": "code",
      "execution_count": null,
      "metadata": {},
      "outputs": [],
      "source": [
        "A[[1,3,4]] = 0\n",
        "A"
      ]
    },
    {
      "cell_type": "markdown",
      "metadata": {},
      "source": [
        "However, when the indices list contains repetitions, the allocation is made several times, stepping on the last value:"
      ]
    },
    {
      "cell_type": "code",
      "execution_count": null,
      "metadata": {},
      "outputs": [],
      "source": [
        "A = np.arange(5)\n",
        "A"
      ]
    },
    {
      "cell_type": "code",
      "execution_count": null,
      "metadata": {},
      "outputs": [],
      "source": [
        "A[[0,0,2]] = [1,2,3]\n",
        "A"
      ]
    },
    {
      "cell_type": "markdown",
      "metadata": {},
      "source": [
        "### Logical"
      ]
    },
    {
      "cell_type": "code",
      "execution_count": null,
      "metadata": {},
      "outputs": [],
      "source": [
        "A = np.arange(12).reshape(3,4)\n",
        "B = A > 4\n",
        "\n",
        "print(A)\n",
        "print(B)                                          # B is a logical array of the same form as"
      ]
    },
    {
      "cell_type": "code",
      "execution_count": null,
      "metadata": {},
      "outputs": [],
      "source": [
        "A[B]                                       # Array 1d with the elements of where b is true"
      ]
    },
    {
      "cell_type": "markdown",
      "metadata": {},
      "source": [
        "This is very useful to make assignments based on a criterion:"
      ]
    },
    {
      "cell_type": "code",
      "execution_count": null,
      "metadata": {},
      "outputs": [],
      "source": [
        "A[B] = 0                                   # This makes all the elements that are greater than 4\n",
        "A"
      ]
    },
    {
      "cell_type": "markdown",
      "metadata": {},
      "source": [
        "As an example, logical indexing, we will try to segment the \"soft tissue\" of a fantome:"
      ]
    },
    {
      "cell_type": "code",
      "execution_count": null,
      "metadata": {},
      "outputs": [],
      "source": [
        "import matplotlib.pyplot as plt\n",
        "\n",
        "I = plt.imread('./Data/cirs_slice.png')[...,0]\n",
        "\n",
        "\n",
        "plt.figure(figsize = (6,6))\n",
        "plt.imshow(I, cmap = 'gray')\n",
        "plt.show()"
      ]
    },
    {
      "cell_type": "code",
      "execution_count": null,
      "metadata": {},
      "outputs": [],
      "source": [
        "plt.figure()\n",
        "plt.hist(I.ravel(), bins=100, normed=1)       # matplotlib version (plot)\n",
        "plt.show()"
      ]
    },
    {
      "cell_type": "code",
      "execution_count": null,
      "metadata": {},
      "outputs": [],
      "source": [
        "Mask = np.zeros(I.shape)\n",
        "\n",
        "Mask[(I>0.4) & (I<0.45)] = 1 # Use 0.6 and 0.8 for marrow and 0.4 and 0.45 for soft tissue. And for lung?\n",
        "\n",
        "print(Mask.max())\n",
        "print(Mask.min())"
      ]
    },
    {
      "cell_type": "code",
      "execution_count": null,
      "metadata": {},
      "outputs": [],
      "source": [
        "plt.figure(figsize = (6,6))\n",
        "plt.imshow(Mask, cmap = 'gray')\n",
        "plt.show()"
      ]
    },
    {
      "cell_type": "code",
      "execution_count": null,
      "metadata": {},
      "outputs": [],
      "source": [
        "red_mask = np.dstack([Mask, np.zeros_like(Mask), np.zeros_like(Mask)])\n",
        "\n",
        "print(red_mask.shape)"
      ]
    },
    {
      "cell_type": "code",
      "execution_count": null,
      "metadata": {},
      "outputs": [],
      "source": [
        "\n",
        "plt.figure(figsize = (6,6))\n",
        "plt.imshow(I, cmap = 'gray')\n",
        "plt.imshow(red_mask, alpha = 0.5, cmap = 'gray')\n",
        "plt.show()\n"
      ]
    },
    {
      "cell_type": "markdown",
      "metadata": {},
      "source": [
        "## A bit of Io\n",
        "\n",
        "### From and to text"
      ]
    },
    {
      "cell_type": "code",
      "execution_count": null,
      "metadata": {},
      "outputs": [],
      "source": [
        "data = np.loadtxt('./Data/ejemplo_texto_tabla.txt', delimiter = ',', skiprows = 7)\n",
        "data.shape"
      ]
    },
    {
      "cell_type": "code",
      "execution_count": null,
      "metadata": {},
      "outputs": [],
      "source": [
        "plt.figure()\n",
        "plt.plot(data[:,0], data[:,1], '-*')\n",
        "plt.show()"
      ]
    },
    {
      "cell_type": "code",
      "execution_count": null,
      "metadata": {},
      "outputs": [],
      "source": [
        "z = -np.cos(data[:,0])\n",
        "\n",
        "print(z.shape)\n",
        "\n",
        "nueva_data = np.concatenate([data, z[:,np.newaxis]], axis = 1)\n",
        "\n",
        "plt.figure()\n",
        "plt.plot(nueva_data[:,0], nueva_data[:,1], '-*')\n",
        "plt.plot(nueva_data[:,0], nueva_data[:,2], '-+')\n",
        "plt.show()"
      ]
    },
    {
      "cell_type": "code",
      "execution_count": null,
      "metadata": {
        "collapsed": true
      },
      "outputs": [],
      "source": [
        "mi_header = \"Este es un ejemplo de header\\ncon más de una línea\\n\\nx, y, z\\n\\n\"\n",
        "\n",
        "np.savetxt('otro_ejemplo.txt', nueva_data, delimiter=',', header = mi_header) "
      ]
    },
    {
      "cell_type": "markdown",
      "metadata": {},
      "source": [
        "### Own formats"
      ]
    },
    {
      "cell_type": "code",
      "execution_count": null,
      "metadata": {
        "collapsed": true
      },
      "outputs": [],
      "source": [
        "X = np.ones((3, 3))\n",
        "\n",
        "np.save('mi_array.npy', X)"
      ]
    },
    {
      "cell_type": "code",
      "execution_count": null,
      "metadata": {},
      "outputs": [],
      "source": [
        "X2 = np.load('mi_array.npy')\n",
        "\n",
        "print(X2)"
      ]
    },
    {
      "cell_type": "code",
      "execution_count": null,
      "metadata": {},
      "outputs": [],
      "source": [
        "Y = 2*X\n",
        "Z = Y + 23\n",
        "\n",
        "np.savez('mis_arrays.npz', a = X, b = Y, c = Z)"
      ]
    },
    {
      "cell_type": "code",
      "execution_count": null,
      "metadata": {},
      "outputs": [],
      "source": [
        "data = np.load('mis_arrays.npz')\n",
        "\n",
        "print(data['a'])\n",
        "print(data['b'])\n",
        "print(data['c'])"
      ]
    }
  ],
  "metadata": {
    "kernelspec": {
      "display_name": "Python 3",
      "language": "python",
      "name": "python3"
    },
    "language_info": {
      "codemirror_mode": {
        "name": "ipython",
        "version": 3
      },
      "file_extension": ".py",
      "mimetype": "text/x-python",
      "name": "python",
      "nbconvert_exporter": "python",
      "pygments_lexer": "ipython3",
      "version": "3.7.10"
    }
  },
  "nbformat": 4,
  "nbformat_minor": 2
}