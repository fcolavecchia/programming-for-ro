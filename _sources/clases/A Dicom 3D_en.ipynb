{
  "cells": [
    {
      "cell_type": "markdown",
      "metadata": {},
      "source": [
        "# Medical Images - Dicom 3D"
      ]
    },
    {
      "cell_type": "code",
      "execution_count": null,
      "metadata": {},
      "outputs": [],
      "source": [
        "import matplotlib.pyplot as plt\n",
        "import numpy as np\n",
        "import pydicom"
      ]
    },
    {
      "cell_type": "markdown",
      "metadata": {},
      "source": [
        "### Open a Dicom file"
      ]
    },
    {
      "cell_type": "code",
      "execution_count": null,
      "metadata": {},
      "outputs": [],
      "source": [
        "DCM = pydicom.dcmread(r'../Assets/CT/IM-0001-0200-0001.dcm')"
      ]
    },
    {
      "cell_type": "code",
      "execution_count": null,
      "metadata": {},
      "outputs": [],
      "source": [
        "type(DCM)"
      ]
    },
    {
      "cell_type": "code",
      "execution_count": null,
      "metadata": {},
      "outputs": [],
      "source": [
        "DCM"
      ]
    },
    {
      "cell_type": "markdown",
      "metadata": {},
      "source": [
        "To access each of the attributes of the DICOM file the name of the attribute is used"
      ]
    },
    {
      "cell_type": "code",
      "execution_count": null,
      "metadata": {},
      "outputs": [],
      "source": [
        "DCM.PatientName"
      ]
    },
    {
      "cell_type": "code",
      "execution_count": null,
      "metadata": {},
      "outputs": [],
      "source": [
        "DCM.StudyDescription"
      ]
    },
    {
      "cell_type": "code",
      "execution_count": null,
      "metadata": {},
      "outputs": [],
      "source": [
        "DCM.ProtocolName"
      ]
    },
    {
      "cell_type": "markdown",
      "metadata": {},
      "source": [
        "But I also have the information from the TAG, using the group and element on hexadecimal:"
      ]
    },
    {
      "cell_type": "code",
      "execution_count": null,
      "metadata": {},
      "outputs": [],
      "source": [
        "print(\"Tag  :\",DCM[0x0018,0x1030].tag)\n",
        "print(\"VR   :\",DCM[0x0018,0x1030].VR)\n",
        "print(\"valor:\",DCM[0x0018,0x1030].value)"
      ]
    },
    {
      "cell_type": "markdown",
      "metadata": {},
      "source": [
        "#### typical visualization windows in CT\n",
        "\n",
        "- Head and neck\n",
        "    - Brain W: 80 C: 40\n",
        "    -W: 130-300 c: 50-100\n",
        "    - ACV W: 8 C: 32 / W: 40 C: 40\n",
        "    - Bone W: 2800 C: 600\n",
        "    - soft fabric: W: 350–400 C: 20–60\n",
        "    \n",
        "- Chest\n",
        "    - Lungs W: 1500 C: -600\n",
        "    - Mediastino W: 350 C: 50\n",
        "    \n",
        "- Abdomen\n",
        "    - soft fabric W: 400 c: 50\n",
        "    - Liver W: 150 C: 30\n",
        "\n",
        "- Column\n",
        "    - Soft fabric W: 250 C: 50\n",
        "    - Bone W: 1800 C: 400\n"
      ]
    },
    {
      "cell_type": "markdown",
      "metadata": {},
      "source": [
        "## Multipanar reconstruction\n",
        "\n",
        "Tomographies are a set of images (cuts, slices) that are acquired in the same diagnostic act. That is why they allow reconstructions, that is, to obtain an image in any plane that intersects the overturned volume. \n",
        "\n",
        "It is usually established to use the tranversal, coronal and sagittal cuts to analyze the image.\n"
      ]
    },
    {
      "cell_type": "markdown",
      "metadata": {},
      "source": [
        "### 1 Load all the cuts of tomography\n",
        "\n",
        "In order to make a reconstruction, it is necessary to have all the tomographic cuts. For them we are going to use the `Glob` module, which allows access to the complete information of a directory on our computer."
      ]
    },
    {
      "cell_type": "code",
      "execution_count": null,
      "metadata": {},
      "outputs": [],
      "source": [
        "import glob\n",
        "\n",
        "directorio = '../Assets/CT/*.dcm'\n",
        "\n",
        "archivos = glob.glob(directorio, recursive=False)\n",
        "\n",
        "print(type(archivos))\n",
        "print(archivos[0:10])\n",
        "print(len(archivos))\n"
      ]
    },
    {
      "cell_type": "markdown",
      "metadata": {},
      "source": [
        "You can see that `Glob.glob` return in` files' a list of files in the directory. However, the file list is messy. To do this, we have to make a parenthesis and analyze how to order the list."
      ]
    },
    {
      "cell_type": "markdown",
      "metadata": {},
      "source": [
        "#### *Intermezzo *: Sort and mutability \n",
        "\n",
        "Python, of course, gives us the `SORTED` function that can order a list. But it also gives us the `Sort` method that rearranges a list. What is the difference? Let's see:\n"
      ]
    },
    {
      "cell_type": "code",
      "execution_count": null,
      "metadata": {},
      "outputs": [],
      "source": [
        "a = [3,4,1,5]\n",
        "b = sorted(a,reverse = True)\n",
        "print(b)"
      ]
    },
    {
      "cell_type": "code",
      "execution_count": null,
      "metadata": {},
      "outputs": [],
      "source": [
        "c = ['monoambiente', 'casa', 'departamento']\n",
        "print(c)\n",
        "b = c.sort()\n",
        "print(b)\n",
        "print(c)"
      ]
    },
    {
      "cell_type": "code",
      "execution_count": null,
      "metadata": {},
      "outputs": [],
      "source": [
        "def largo(palabra):\n",
        "    \"\"\"\n",
        "        función de ordenamiento, recibe un sólo argumento\n",
        "        y retorna un solo valor, correspondiente al criterio \n",
        "        de ordenamiento de la lista\n",
        "    \"\"\"\n",
        "    return len(palabra)\n",
        "\n",
        "\n",
        "print(largo('hola'))\n",
        "\n",
        "c = ['monoambiente', 'casa', 'departamento','posada']\n",
        "print(c)\n",
        "b = sorted(c)\n",
        "print(\"c alphabetically:\",b)\n",
        "d = sorted(c,key=largo)\n",
        "print(\"C Ordered by long word:\",d)\n",
        "f = sorted(c,key=largo,reverse=True)\n",
        "print(\"C Ordered by long word, inverse:\",f)\n",
        "\n"
      ]
    },
    {
      "cell_type": "markdown",
      "metadata": {},
      "source": [
        "> While `SORTED` Returns an orderly list,` Sort` reorder the list itself\n",
        "\n",
        "In this sense, we say that `Sort` is a function that *mutates *a variable in the same place (in English, *in place *). On the other hand, `SORTED` does not change the function input variable, and returns a new variable.\n",
        "\n",
        "#### *End Intermezzo *"
      ]
    },
    {
      "cell_type": "markdown",
      "metadata": {},
      "source": [
        "Returning to our example with files"
      ]
    },
    {
      "cell_type": "code",
      "execution_count": null,
      "metadata": {},
      "outputs": [],
      "source": [
        "archivos_ordenados = sorted(archivos)\n",
        "print(archivos_ordenados[0:10])"
      ]
    },
    {
      "cell_type": "code",
      "execution_count": null,
      "metadata": {},
      "outputs": [],
      "source": [
        "dicoms = []\n",
        "for fname in archivos_ordenados:\n",
        "    dicoms.append(pydicom.read_file(fname))\n",
        "\n",
        "print(\"Number of tomographic cuts:\",len(dicoms))"
      ]
    },
    {
      "cell_type": "markdown",
      "metadata": {},
      "source": [
        "Now our list `dicom` contains the dicom data of ** all ** the tomographic cuts. Let's see if so:"
      ]
    },
    {
      "cell_type": "code",
      "execution_count": null,
      "metadata": {},
      "outputs": [],
      "source": [
        "n_cts = len(dicoms)\n",
        "\n",
        "for (i,dcm) in zip(range(0,n_cts),dicoms):\n",
        "    print(\"Patient\",i, \":\", dcm.PatientName)"
      ]
    },
    {
      "cell_type": "markdown",
      "metadata": {},
      "source": [
        "It is clear that all cuts must have the same patient name. There are other DICOM data that change according to the tomographic cut, for example:"
      ]
    },
    {
      "cell_type": "code",
      "execution_count": null,
      "metadata": {},
      "outputs": [],
      "source": [
        "for (i,dcm) in zip(range(0,n_cts),dicoms):\n",
        "    print(\"Cut position\",i, \":\", dcm.SliceLocation, \" mm\")"
      ]
    },
    {
      "cell_type": "markdown",
      "metadata": {},
      "source": [
        "#### 2 Construction of the volume volume\n",
        "\n",
        "Convinced that we effectively have the DICOM information on our list, we must now recover the image of each court, and build a volume with them. For that we are going to use a 3D arrangement of `numpy`.\n"
      ]
    },
    {
      "cell_type": "code",
      "execution_count": null,
      "metadata": {},
      "outputs": [],
      "source": [
        "slice0 = dicoms[0]   # First cut, I use it to recover common data to all cuts\n",
        "vol_shape = list(slice0.pixel_array.shape) # 2D image size\n",
        "print(vol_shape)\n",
        "vol_shape.append(len(dicoms))   # We add the image size to the list along z\n",
        "# If we have little RAM, we can set the number of cuts on the Z axis\n",
        "# vol_shape.append (100) # We add to the list the size of the image along z\n",
        "\n",
        "print(vol_shape)\n",
        "\n",
        "matriz3D = np.zeros(vol_shape)\n",
        "print(matriz3D.shape)"
      ]
    },
    {
      "cell_type": "markdown",
      "metadata": {},
      "source": [
        "We already have our tomographic volume ready to be filled with the images:"
      ]
    },
    {
      "cell_type": "code",
      "execution_count": null,
      "metadata": {},
      "outputs": [],
      "source": [
        "# If we have little RAM, we can read only the cuts we want, chord\n",
        "# to the amount of cuts we define before\n",
        "# for i, slice in enumerate(dicoms[100:200]):\n",
        "\n",
        "for i, slice in enumerate(dicoms):\n",
        "\n",
        "    corte = slice.pixel_array * slice.RescaleSlope + slice.RescaleIntercept\n",
        "    matriz3D[:, :, i] = corte"
      ]
    },
    {
      "cell_type": "markdown",
      "metadata": {},
      "source": [
        "#### 3 Image extraction"
      ]
    },
    {
      "cell_type": "code",
      "execution_count": null,
      "metadata": {},
      "outputs": [],
      "source": [
        "# \n",
        "# Window and level\n",
        "# \n",
        "c = 40\n",
        "w = 400\n",
        "ventmax = c + w/2\n",
        "ventmin = c - w/2\n",
        "\n",
        "\n",
        "fig_1 = plt.figure(1, figsize=(10,10))\n",
        "a1 = fig_1.add_subplot(111)\n",
        "a1.imshow(matriz3D[255, :, :].T, cmap='gray', vmin=ventmin, vmax=ventmax)\n",
        "plt.show()\n"
      ]
    },
    {
      "cell_type": "markdown",
      "metadata": {},
      "source": [
        "#### 4 aspect relationship\n",
        "\n",
        "As can be seen, the image appears 'crushed' in the longitudinal direction. This is because ** Voxels are not isotropic ** in CT, that is, they do not have the same dimensions:"
      ]
    },
    {
      "cell_type": "code",
      "execution_count": null,
      "metadata": {},
      "outputs": [],
      "source": [
        "espaciadoX,espaciadoY = slice0.PixelSpacing\n",
        "espesor = slice0.SliceThickness\n",
        "print('El espesor de corte es de: {:.2f} mm'.format(espesor))\n",
        "print('La dimension en el plano X,Y es de {:.2f} mm x {:.2f} mm '.format(espaciadoX,espaciadoY))"
      ]
    },
    {
      "cell_type": "markdown",
      "metadata": {},
      "source": [
        "With these data we can define the appearance ratio between the Z axis and the X axis (O Y):\n",
        "\n",
        "$$\n",
        "\\ Texttt {Aspectrio} = \\ fraud\n",
        "$$"
      ]
    },
    {
      "cell_type": "code",
      "execution_count": null,
      "metadata": {
        "scrolled": true
      },
      "outputs": [],
      "source": [
        "aspecto = espesor/espaciadoX\n",
        "print(\"ASPECT RELATIONSHIP:\",aspecto)\n",
        "fig_1 = plt.figure(1, figsize=(15,15))\n",
        "a1 = fig_1.add_subplot(111)\n",
        "a1.imshow(matriz3D[280, :, :].T, cmap='gray', vmin=ventmin, vmax=ventmax)\n",
        "a1.set_aspect(aspecto)\n",
        "a1.set_title('MPR CORONAL')\n",
        "plt.show()"
      ]
    },
    {
      "cell_type": "markdown",
      "metadata": {},
      "source": [
        "### one more thing ...\n",
        "\n",
        "> ** Not always the order of the names of the Dicom files of a CT corresponds to the order along the z axis !!! **\n",
        "\n",
        "Indeed, it could well be that when ordering the files by name, as we did above, the tomographic cuts are disorderly. \n",
        "\n",
        "Luckily, as we saw before, `SORTED` comes to the rescue."
      ]
    },
    {
      "cell_type": "code",
      "execution_count": null,
      "metadata": {},
      "outputs": [],
      "source": [
        "help(sorted)"
      ]
    },
    {
      "cell_type": "markdown",
      "metadata": {},
      "source": [
        "The `SORTED` can optionally receive a function used to order the list, in the` Key` parameter.\n",
        "\n",
        "In our case, the function we need is one that returns the value of `slicelocation`, which effectively indicates the position of the cut along the Z axis."
      ]
    },
    {
      "cell_type": "code",
      "execution_count": null,
      "metadata": {},
      "outputs": [],
      "source": [
        "def z_mm(archivo):\n",
        "    dcm = pydicom.read_file(archivo)\n",
        "    return dcm.SliceLocation\n",
        "\n",
        "z_mm('../Assets/CT/IM-0001-0145-0001.dcm')"
      ]
    },
    {
      "cell_type": "code",
      "execution_count": null,
      "metadata": {},
      "outputs": [],
      "source": [
        "print(archivos[0:10])"
      ]
    },
    {
      "cell_type": "code",
      "execution_count": null,
      "metadata": {
        "scrolled": true
      },
      "outputs": [],
      "source": [
        "archivos_reordenados = sorted(archivos,key = z_mm, reverse = True)\n",
        "print(archivos_reordenados[0:10])"
      ]
    },
    {
      "cell_type": "code",
      "execution_count": null,
      "metadata": {},
      "outputs": [],
      "source": [
        "dicoms = []\n",
        "for fname in archivos_reordenados:\n",
        "    dicoms.append(pydicom.read_file(fname))\n",
        "\n",
        "print(\"Number of tomographic cuts:\",len(dicoms))"
      ]
    },
    {
      "cell_type": "code",
      "execution_count": null,
      "metadata": {},
      "outputs": [],
      "source": [
        "for i, slice in enumerate(dicoms):\n",
        "    corte = slice.pixel_array * slice.RescaleSlope + slice.RescaleIntercept\n",
        "    matriz3D[:, :, i] = corte"
      ]
    },
    {
      "cell_type": "code",
      "execution_count": null,
      "metadata": {
        "scrolled": false
      },
      "outputs": [],
      "source": [
        "aspecto = espesor/espaciadoX\n",
        "print(\"ASPECT RELATIONSHIP:\",aspecto)\n",
        "fig_1 = plt.figure(1, figsize=(15,15))\n",
        "a1 = fig_1.add_subplot(111)\n",
        "a1.imshow(matriz3D[280, :, :].T, cmap='gray', vmin=ventmin, vmax=ventmax)\n",
        "a1.set_aspect(aspecto)\n",
        "a1.set_title('MPR CORONAL')\n",
        "plt.show()"
      ]
    }
  ],
  "metadata": {
    "kernelspec": {
      "display_name": "Python 3",
      "language": "python",
      "name": "python3"
    },
    "language_info": {
      "codemirror_mode": {
        "name": "ipython",
        "version": 3
      },
      "file_extension": ".py",
      "mimetype": "text/x-python",
      "name": "python",
      "nbconvert_exporter": "python",
      "pygments_lexer": "ipython3",
      "version": "3.7.10"
    }
  },
  "nbformat": 4,
  "nbformat_minor": 2
}