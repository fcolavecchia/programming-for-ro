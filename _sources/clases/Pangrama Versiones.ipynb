{
  "cells": [
    {
      "cell_type": "markdown",
      "metadata": {},
      "source": [
        "### Commander"
      ]
    },
    {
      "cell_type": "markdown",
      "metadata": {},
      "source": [
        "A pan is a phrase that contains all the letters of the alphabet. We are going to use English, we avoid the accents and other issues of Spanish. For example\n",
        "\n",
        ">>*The Quick Brown Fox Jumps Over The Lazy Dog*\n",
        "\n",
        "It is a very used vaggram in the creation of *fonts *, that is, fonts or fonts, precisely because it contains all the letters of the alphabet.\n",
        "\n",
        "The problem is writing a function that determines whether a phrase is a pan or not."
      ]
    },
    {
      "cell_type": "code",
      "execution_count": 7,
      "metadata": {},
      "outputs": [
        {
          "name": "stdout",
          "output_type": "stream",
          "text": [
            "a\n",
            "b\n",
            "c\n",
            "d\n",
            "e\n",
            "f\n",
            "g\n",
            "h\n",
            "i\n",
            "j\n",
            "k\n",
            "l\n",
            "m\n",
            "n\n",
            "o\n",
            "p\n",
            "q\n",
            "r\n",
            "s\n",
            "t\n",
            "u\n",
            "v\n",
            "w\n",
            "x\n",
            "y\n",
            "z\n",
            "letra  a  está en  the quick brown fox jumps over the lazy dog\n"
          ]
        }
      ],
      "source": [
        "s = \"the quick brown fox jumps over the lazy dog\"\n",
        "\n",
        "abcd = 'abcdefghijklmnopqrstuvwxyz'\n",
        "\n",
        "\n",
        "\n",
        "\n",
        "def is_pangram(frase):\n",
        "   \n",
        "    for x in abcd:\n",
        "        letra = x\n",
        "    \n",
        "    letra = 'a'\n",
        "    \n",
        "    for c in frase:\n",
        "        if letra == c:\n",
        "            print('letter', letra,' está en ',frase)\n",
        "# else:\n",
        "# Print ('letter', letter, 'no.')\n",
        "# print(c)\n",
        "        \n",
        "\n",
        "is_pangram(s)"
      ]
    },
    {
      "cell_type": "markdown",
      "metadata": {},
      "source": [
        "### Version 1 with accountant"
      ]
    },
    {
      "cell_type": "code",
      "execution_count": 28,
      "metadata": {},
      "outputs": [
        {
          "name": "stdout",
          "output_type": "stream",
          "text": [
            "cuenta_letras:  26\n",
            "True\n",
            "cuenta_letras:  8\n",
            "False\n",
            "cuenta_letras:  13\n",
            "False\n"
          ]
        }
      ],
      "source": [
        "s = \"the quick brown fox jumps over the lazy dog\"\n",
        "\n",
        "hola = \"hola mundo\"\n",
        "\n",
        "abcd = 'abcdefghijklmnopqrstuvwxyz'\n",
        "\n",
        "\n",
        "def is_pangram(frase):\n",
        "   \n",
        "    cuenta_letras = 0\n",
        "    # Loop in the alphabet letters\n",
        "    for x in abcd:\n",
        "        letra = x\n",
        "    \n",
        "        # Loop in the letters of the phrase\n",
        "        for c in frase:\n",
        "            if letra == c:\n",
        "                # print ('lyrics', letter, 'is in', phrase)\n",
        "                cuenta_letras = cuenta_letras + 1\n",
        "                # print(letra)\n",
        "                break\n",
        "\n",
        "    print(\"account_leras:\",cuenta_letras)\n",
        "    if(cuenta_letras == 26):\n",
        "        return True  \n",
        "    else:\n",
        "        return False\n",
        "\n",
        "\n",
        "\n",
        "print(is_pangram(s))\n",
        "print(is_pangram(hola))\n",
        "print(is_pangram(\"la bella y graciosa moza\"))"
      ]
    },
    {
      "cell_type": "markdown",
      "metadata": {},
      "source": [
        "### Version 2 with `.Append`"
      ]
    },
    {
      "cell_type": "code",
      "execution_count": 36,
      "metadata": {},
      "outputs": [
        {
          "name": "stdout",
          "output_type": "stream",
          "text": [
            "True\n",
            "False\n",
            "False\n"
          ]
        }
      ],
      "source": [
        "s = \"the quick brown fox jumps over the lazy dog\"\n",
        "\n",
        "hola = \"hola mundo\"\n",
        "\n",
        "abcd = 'abcdefghijklmnopqrstuvwxyz'\n",
        "\n",
        "\n",
        "def is_pangram(frase):\n",
        "   \n",
        "    resultado = []\n",
        "    # Loop in the alphabet letters\n",
        "    for x in abcd:\n",
        "        letra = x\n",
        "    \n",
        "        # Loop in the letters of the phrase\n",
        "        for c in frase:\n",
        "            if letra == c:\n",
        "                # print ('lyrics', letter, 'is in', phrase)\n",
        "                resultado.append(letra)\n",
        "                # print(letra)\n",
        "                break\n",
        "    \n",
        "    if(len(resultado) == 26):\n",
        "        return True  \n",
        "    else:\n",
        "        return False\n",
        "\n",
        "\n",
        "print(is_pangram(s))\n",
        "print(is_pangram(hola))\n",
        "print(is_pangram(\"la bella y graciosa moza\"))"
      ]
    },
    {
      "cell_type": "markdown",
      "metadata": {},
      "source": [
        "### Version 3 with `string.join`"
      ]
    },
    {
      "cell_type": "code",
      "execution_count": 37,
      "metadata": {},
      "outputs": [
        {
          "name": "stdout",
          "output_type": "stream",
          "text": [
            "nuevo_abcd:  abcdefghijklmnopqrstuvwxyz\n",
            "True\n",
            "nuevo_abcd:  adhlmnou\n",
            "False\n",
            "nuevo_abcd:  abcegilmorsyz\n",
            "False\n"
          ]
        }
      ],
      "source": [
        "s = \"the quick brown fox jumps over the lazy dog\"\n",
        "\n",
        "hola = \"hola mundo\"\n",
        "\n",
        "abcd = 'abcdefghijklmnopqrstuvwxyz'\n",
        "\n",
        "\n",
        "def is_pangram(frase):\n",
        "   \n",
        "    resultado = []\n",
        "    # Loop in the alphabet letters\n",
        "    for x in abcd:\n",
        "        letra = x\n",
        "    \n",
        "        # Loop in the letters of the phrase\n",
        "        for c in frase:\n",
        "            if letra == c:\n",
        "                # print ('lyrics', letter, 'is in', phrase)\n",
        "                resultado.append(letra)\n",
        "                # print(letra)\n",
        "                break\n",
        "\n",
        "    nuevo_abcd = \"\"\n",
        "    nuevo_abcd = nuevo_abcd.join(resultado)\n",
        "    \n",
        "    print(\"NEW_ABCD:\",nuevo_abcd)\n",
        "\n",
        "    if(nuevo_abcd == abcd):\n",
        "        return True  \n",
        "    else:\n",
        "        return False\n",
        "\n",
        "\n",
        "\n",
        "print(is_pangram(s))\n",
        "print(is_pangram(hola))\n",
        "print(is_pangram(\"la bella y graciosa moza\"))"
      ]
    },
    {
      "cell_type": "markdown",
      "metadata": {},
      "source": [
        "### Version 4 with `sets`\n",
        "\n",
        "This version uses `sets`, which are sets of elements all different from each other, without particular order.\n",
        "\n",
        "*To observe*: the `Len` function applied to a` set` returns the cardinal of the element."
      ]
    },
    {
      "cell_type": "code",
      "execution_count": 40,
      "metadata": {},
      "outputs": [
        {
          "name": "stdout",
          "output_type": "stream",
          "text": [
            "{'a', 'l', 'b', 'z', 't', 'g', 's', 'w', 'c', 'i', 'f', 'k', 'u', 'n', 'm', 'q', 'y', 'h', 'e', 'j', 'v', 'r', 'p', 'x', 'd', 'o'}\n",
            "True\n",
            "{'u', 'a', 'm', 'n', 'd', 'l', 'o', 'h'}\n",
            "False\n",
            "{'i', 'z', 'r', 'a', 'm', 'l', 'y', 'g', 's', 'o', 'e', 'b', 'c'}\n",
            "False\n"
          ]
        }
      ],
      "source": [
        "s = \"the quick brown fox jumps over the lazy dog\"\n",
        "\n",
        "hola = \"hola mundo\"\n",
        "\n",
        "# In this version the ABCD variable is not even necessary\n",
        "# abcd = 'abcdefghijklmnopqrstuvwxyz'\n",
        "\n",
        "len_abcd = 26\n",
        "\n",
        "def is_pangram(frase):\n",
        "   \n",
        "    resultado = frase.replace(\" \",\"\") # Delete the spaces of the phrase, so as not to count it inside the set\n",
        "    resultado = set(resultado)        # Converts the phrase without spaces (which is a list) into a set, stirring the\n",
        "                                      # Equal elements.\n",
        "    print(resultado)\n",
        "\n",
        "    if(len(resultado) == len_abcd):\n",
        "        return True  \n",
        "    else:\n",
        "        return False\n",
        "\n",
        "\n",
        "\n",
        "print(is_pangram(s))\n",
        "print(is_pangram(hola))\n",
        "print(is_pangram(\"la bella y graciosa moza\"))"
      ]
    }
  ],
  "metadata": {
    "kernelspec": {
      "display_name": "Python 3",
      "language": "python",
      "name": "python3"
    },
    "language_info": {
      "codemirror_mode": {
        "name": "ipython",
        "version": 3
      },
      "file_extension": ".py",
      "mimetype": "text/x-python",
      "name": "python",
      "nbconvert_exporter": "python",
      "pygments_lexer": "ipython3",
      "version": "3.7.10"
    }
  },
  "nbformat": 4,
  "nbformat_minor": 2
}