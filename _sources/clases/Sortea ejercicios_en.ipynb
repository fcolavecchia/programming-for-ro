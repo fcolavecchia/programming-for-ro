{
  "cells": [
    {
      "cell_type": "markdown",
      "id": "0bd90682",
      "metadata": {},
      "source": [
        "## Draw exercises\n",
        "\n",
        "With some interesting things to handle lists, and the contribution of `numpy.random.choice` to solve the second part of the problem."
      ]
    },
    {
      "cell_type": "code",
      "execution_count": 10,
      "id": "7cbad05c",
      "metadata": {},
      "outputs": [],
      "source": [
        "import random\n",
        "import numpy as np"
      ]
    },
    {
      "cell_type": "code",
      "execution_count": 6,
      "id": "7fc509a8",
      "metadata": {},
      "outputs": [],
      "source": [
        "ejercicioxAlumno = [\"Luisa\", \"Gerardo\", \"Agustina\", \"Sharon\", \"Juana\", \"Luis\", \"Gonzalo\"]"
      ]
    },
    {
      "cell_type": "markdown",
      "id": "db93bfb1",
      "metadata": {},
      "source": [
        "Given the list `Exercisexalumno`, and a student name, generate a list` StudentsMenosuno` without that student name."
      ]
    },
    {
      "cell_type": "code",
      "execution_count": 3,
      "id": "cb70d437",
      "metadata": {},
      "outputs": [
        {
          "name": "stdout",
          "output_type": "stream",
          "text": [
            "['Gerardo', 'Agustina', 'Sharon', 'Juana', 'Luis', 'Gonzalo']\n"
          ]
        }
      ],
      "source": [
        "# EYE!! Stir erase the element from the list\n",
        "ejercicioxAlumno.remove(\"Luisa\")\n",
        "print(ejercicioxAlumno)"
      ]
    },
    {
      "cell_type": "code",
      "execution_count": 4,
      "id": "1cfd6e19",
      "metadata": {},
      "outputs": [],
      "source": [
        "def sacaAlumno(nombre,todos):\n",
        "    todos  = todos.copy()  # 'Deep Copy', I copy the list into all\n",
        "    todos.remove(nombre)\n",
        "    return todos"
      ]
    },
    {
      "cell_type": "code",
      "execution_count": 7,
      "id": "72f5f59b",
      "metadata": {},
      "outputs": [
        {
          "name": "stdout",
          "output_type": "stream",
          "text": [
            "['Luisa', 'Gerardo', 'Agustina', 'Juana', 'Luis', 'Gonzalo']\n"
          ]
        }
      ],
      "source": [
        "alumnosmenosuno = sacaAlumno(\"Sharon\",ejercicioxAlumno)\n",
        "print(alumnosmenosuno)"
      ]
    },
    {
      "cell_type": "code",
      "execution_count": 8,
      "id": "e15fd068",
      "metadata": {},
      "outputs": [
        {
          "name": "stdout",
          "output_type": "stream",
          "text": [
            "['Luisa', 'Gerardo', 'Agustina', 'Sharon', 'Juana', 'Gonzalo']\n"
          ]
        }
      ],
      "source": [
        "alumnosmenosuno = sacaAlumno(\"Luis\",ejercicioxAlumno)\n",
        "print(alumnosmenosuno)"
      ]
    },
    {
      "cell_type": "markdown",
      "id": "799b9e51",
      "metadata": {},
      "source": [
        "Given a student from the `Exercisexalumno`, obtain two random names from the` StudentsMenosuno`."
      ]
    },
    {
      "cell_type": "code",
      "execution_count": 21,
      "id": "34866eba",
      "metadata": {},
      "outputs": [
        {
          "name": "stdout",
          "output_type": "stream",
          "text": [
            "Luisa: 2 6\n",
            "Gerardo: 7 1\n",
            "Agustina: 5 2\n",
            "Sharon: 7 5\n",
            "Juana: 7 2\n",
            "Luis: 3 5\n",
            "Gonzalo: 4 3\n"
          ]
        }
      ],
      "source": [
        "for a in ejercicioxAlumno:\n",
        "    alumnosmenosuno = sacaAlumno(a,ejercicioxAlumno)\n",
        "    ej1 = random.choice(alumnosmenosuno)\n",
        "    \n",
        "    alumnosmenosdos = sacaAlumno(ej1,alumnosmenosuno)\n",
        "    ej2 = random.choice(alumnosmenosdos)\n",
        "# print(a,alumnosmenosuno)\n",
        "# print (a, alumnosmenosos)\n",
        "    print(a + \":\",ejercicioxAlumno.index(ej1)+1,ejercicioxAlumno.index(ej2)+1)    "
      ]
    },
    {
      "cell_type": "code",
      "execution_count": 20,
      "id": "3a7ec8ab",
      "metadata": {},
      "outputs": [
        {
          "name": "stdout",
          "output_type": "stream",
          "text": [
            "['Juana' 'Gonzalo']\n"
          ]
        }
      ],
      "source": [
        "ej12 = np.random.choice(ejercicioxAlumno, size=2, replace=False)\n",
        "print(ej12)"
      ]
    }
  ],
  "metadata": {
    "kernelspec": {
      "display_name": "Python 3",
      "language": "python",
      "name": "python3"
    },
    "language_info": {
      "codemirror_mode": {
        "name": "ipython",
        "version": 3
      },
      "file_extension": ".py",
      "mimetype": "text/x-python",
      "name": "python",
      "nbconvert_exporter": "python",
      "pygments_lexer": "ipython3",
      "version": "3.7.10"
    }
  },
  "nbformat": 4,
  "nbformat_minor": 5
}