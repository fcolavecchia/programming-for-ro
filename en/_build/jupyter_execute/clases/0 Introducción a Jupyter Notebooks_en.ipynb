{
 "cells": [
  {
   "cell_type": "markdown",
   "metadata": {},
   "source": [
    "# Bases de **Jupyter Notebooks**"
   ]
  },
  {
   "cell_type": "markdown",
   "metadata": {},
   "source": [
    "** Jupyter Notebooks ** works with two modes: the `command 'mode that is accessed with the` EC` key, and the editing mode, which is accessed by pressing `enter`. Notice that in the `edition 'mode, an icon of a pencil in the menu right sector appears."
   ]
  },
  {
   "cell_type": "markdown",
   "metadata": {},
   "source": [
    "** Jupyter Notebooks ** It works based on _Celadas_ that are added or erased according to what one wants to do."
   ]
  },
  {
   "cell_type": "markdown",
   "metadata": {},
   "source": [
    "The cells are executed with the combination `CRTL` +` ENTER`."
   ]
  },
  {
   "cell_type": "markdown",
   "metadata": {},
   "source": [
    "To add a cell below the current cell you have to select the command mode (`esc`) and then the letter` b` (from English _below_). You can also add going to the menu, selecting `insert` and then` insert Cell Below`."
   ]
  },
  {
   "cell_type": "markdown",
   "metadata": {},
   "source": [
    "To add a cell above the current cell you have to select the command mode (`ESC`) and then the letter` a` (from English _above_). You can also add by going to the menu, selecting `insert` and then` insert Cell Above`."
   ]
  },
  {
   "cell_type": "markdown",
   "metadata": {},
   "source": [
    "By default, the cells expect sentences in Python (as clarified in the menu to the right), however, they also accept other types of languages ​​that are used to write documentation: ** Markdown ** and ** Latex **. The first is used in the creation of web content, while the latter is the language for the writing of scientific documents."
   ]
  },
  {
   "cell_type": "markdown",
   "metadata": {},
   "source": [
    "In command mode, with the `m` we pass by ** Markdown **, while with the` and` we return to the code mode."
   ]
  },
  {
   "cell_type": "markdown",
   "metadata": {},
   "source": [
    "** Markdown ** is a very simple edition language, but at the same time very powerful. If you want more information, you can look for it here, XX_MARKDOWN_LINK_XX."
   ]
  },
  {
   "cell_type": "markdown",
   "metadata": {},
   "source": [
    ">>> It is not mandatory to use ** Markdown ** in the course, but since we are going to use it a lot, I recommend learning it as we learn to program."
   ]
  },
  {
   "cell_type": "markdown",
   "metadata": {},
   "source": [
    "There is another cell style called `Heading`, which is a quick way to create a title in the notebook. However, it is possible to do it directly in ** Markdown ** using the symbol `#`. The same in the last versions of ** Jupyter ** directly suggests using `#`:"
   ]
  },
  {
   "cell_type": "markdown",
   "metadata": {},
   "source": [
    "## Level 2 title\n",
    "### Level 3 title\n",
    "#### Level 4 title"
   ]
  },
  {
   "cell_type": "markdown",
   "metadata": {},
   "source": [
    "### Exercise"
   ]
  },
  {
   "cell_type": "markdown",
   "metadata": {},
   "source": [
    "The exercise we are going to do now is to create a new notebook, and add some things as a workforce for future works."
   ]
  }
 ],
 "metadata": {
  "kernelspec": {
   "display_name": "Python 3",
   "language": "python",
   "name": "python3"
  },
  "language_info": {
   "codemirror_mode": {
    "name": "ipython",
    "version": 3
   },
   "file_extension": ".py",
   "mimetype": "text/x-python",
   "name": "python",
   "nbconvert_exporter": "python",
   "pygments_lexer": "ipython3",
   "version": "3.7.10"
  }
 },
 "nbformat": 4,
 "nbformat_minor": 2
}