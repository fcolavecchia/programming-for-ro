{
 "cells": [
  {
   "cell_type": "markdown",
   "metadata": {},
   "source": [
    "# Functions"
   ]
  },
  {
   "cell_type": "markdown",
   "metadata": {},
   "source": [
    "In the last class we saw the foundations of language: reserved words, types of variables and flow control structures. Today we are going to see a fundamental concept in every programming language: the *functions *. The functions allow * structuring * the code of a program in units that deal with a particular task.\n",
    "\n",
    "We already saw an important function, which is what allows me to see the result of a program: the `print` function.\n",
    "\n",
    "The functions receive a certain amount of input data, called *arguments of the *function, and can return (or not) one or more results.\n"
   ]
  },
  {
   "cell_type": "markdown",
   "metadata": {},
   "source": [
    "To define functions, we use the reserved word `def`. Let's start by defining a function similar to `print`:"
   ]
  },
  {
   "cell_type": "code",
   "execution_count": 1,
   "metadata": {},
   "outputs": [],
   "source": [
    "# Definition (or declaration) of the function\n",
    "def saluda():\n",
    "    \n",
    "    print('Chau world!')\n",
    "    "
   ]
  },
  {
   "cell_type": "markdown",
   "metadata": {},
   "source": [
    "We have defined the `greeting 'function that does not receive any argument. The function is called `greeting`, and does not receive any argument, hence the empty parentheses` () `. Note also *indentation *, which is also mandatory in this case, as in control structures.\n",
    "\n",
    "What is the name of, that is, it is executed, to the function?"
   ]
  },
  {
   "cell_type": "code",
   "execution_count": 2,
   "metadata": {},
   "outputs": [
    {
     "name": "stdout",
     "output_type": "stream",
     "text": [
      "Chau world!\n"
     ]
    }
   ],
   "source": [
    "# We execute the Said Function ()\n",
    "saluda()"
   ]
  },
  {
   "cell_type": "code",
   "execution_count": 3,
   "metadata": {},
   "outputs": [
    {
     "name": "stdout",
     "output_type": "stream",
     "text": [
      "Hello world!\n"
     ]
    }
   ],
   "source": [
    "def saluda():\n",
    "    \n",
    "    print('Hello world!')\n",
    "    \n",
    "saluda()"
   ]
  },
  {
   "cell_type": "code",
   "execution_count": 4,
   "metadata": {},
   "outputs": [
    {
     "name": "stdout",
     "output_type": "stream",
     "text": [
      "Hello, John  !\n",
      "Hello, 3  !\n"
     ]
    }
   ],
   "source": [
    "# We define the function\n",
    "def saluda_a(amigo):\n",
    "    \n",
    "    print('Hello,', amigo,\" !\")\n",
    "\n",
    "# We execute the function\n",
    "saluda_a(\"John\")\n",
    "saluda_a(3)"
   ]
  },
  {
   "cell_type": "code",
   "execution_count": 5,
   "metadata": {},
   "outputs": [
    {
     "name": "stdout",
     "output_type": "stream",
     "text": [
      "Hello, Carlos  !\n"
     ]
    }
   ],
   "source": [
    "mi_amigo = \"Carlos\"\n",
    "saluda_a(mi_amigo)"
   ]
  },
  {
   "cell_type": "markdown",
   "metadata": {},
   "source": [
    "I can't call this function with more arguments:"
   ]
  },
  {
   "cell_type": "code",
   "execution_count": 6,
   "metadata": {},
   "outputs": [
    {
     "ename": "TypeError",
     "evalue": "saluda_a() takes 1 positional argument but 2 were given",
     "output_type": "error",
     "traceback": [
      "\u001b[31m---------------------------------------------------------------------------\u001b[39m",
      "\u001b[31mTypeError\u001b[39m                                 Traceback (most recent call last)",
      "\u001b[36mCell\u001b[39m\u001b[36m \u001b[39m\u001b[32mIn[6]\u001b[39m\u001b[32m, line 3\u001b[39m\n\u001b[32m      1\u001b[39m lennon = \u001b[33m\"\u001b[39m\u001b[33mJohn\u001b[39m\u001b[33m\"\u001b[39m\n\u001b[32m      2\u001b[39m mccartney = \u001b[33m\"\u001b[39m\u001b[33mPaul\u001b[39m\u001b[33m\"\u001b[39m\n\u001b[32m----> \u001b[39m\u001b[32m3\u001b[39m \u001b[43msaluda_a\u001b[49m\u001b[43m(\u001b[49m\u001b[43mlennon\u001b[49m\u001b[43m,\u001b[49m\u001b[43mmccartney\u001b[49m\u001b[43m)\u001b[49m\n",
      "\u001b[31mTypeError\u001b[39m: saluda_a() takes 1 positional argument but 2 were given"
     ]
    }
   ],
   "source": [
    "lennon = \"John\"\n",
    "mccartney = \"Paul\"\n",
    "saluda_a(lennon,mccartney)\n"
   ]
  },
  {
   "cell_type": "markdown",
   "metadata": {},
   "source": [
    "Not with less:"
   ]
  },
  {
   "cell_type": "code",
   "execution_count": 7,
   "metadata": {},
   "outputs": [
    {
     "ename": "TypeError",
     "evalue": "saluda_a() missing 1 required positional argument: 'amigo'",
     "output_type": "error",
     "traceback": [
      "\u001b[31m---------------------------------------------------------------------------\u001b[39m",
      "\u001b[31mTypeError\u001b[39m                                 Traceback (most recent call last)",
      "\u001b[36mCell\u001b[39m\u001b[36m \u001b[39m\u001b[32mIn[7]\u001b[39m\u001b[32m, line 1\u001b[39m\n\u001b[32m----> \u001b[39m\u001b[32m1\u001b[39m \u001b[43msaluda_a\u001b[49m\u001b[43m(\u001b[49m\u001b[43m)\u001b[49m\n",
      "\u001b[31mTypeError\u001b[39m: saluda_a() missing 1 required positional argument: 'amigo'"
     ]
    }
   ],
   "source": [
    "saluda_a()\n"
   ]
  },
  {
   "cell_type": "markdown",
   "metadata": {},
   "source": [
    "The functions can return values, the reserved word `return`:"
   ]
  },
  {
   "cell_type": "code",
   "execution_count": 8,
   "metadata": {},
   "outputs": [
    {
     "name": "stdout",
     "output_type": "stream",
     "text": [
      "z inside al_cuadrado: 3\n",
      "2  al cuadrado es: 4\n",
      "and outside of al_cuadrado: 5\n"
     ]
    },
    {
     "ename": "NameError",
     "evalue": "name 'z' is not defined",
     "output_type": "error",
     "traceback": [
      "\u001b[31m---------------------------------------------------------------------------\u001b[39m",
      "\u001b[31mNameError\u001b[39m                                 Traceback (most recent call last)",
      "\u001b[36mCell\u001b[39m\u001b[36m \u001b[39m\u001b[32mIn[8]\u001b[39m\u001b[32m, line 18\u001b[39m\n\u001b[32m     16\u001b[39m \u001b[38;5;28mprint\u001b[39m(a,\u001b[33m\"\u001b[39m\u001b[33m al cuadrado es:\u001b[39m\u001b[33m\"\u001b[39m, b)\n\u001b[32m     17\u001b[39m \u001b[38;5;28mprint\u001b[39m(\u001b[33m\"\u001b[39m\u001b[33mand outside of al_cuadrado:\u001b[39m\u001b[33m\"\u001b[39m, y)\n\u001b[32m---> \u001b[39m\u001b[32m18\u001b[39m \u001b[38;5;28mprint\u001b[39m(\u001b[33m\"\u001b[39m\u001b[33mz outside al_cuadrado:\u001b[39m\u001b[33m\"\u001b[39m, \u001b[43mz\u001b[49m)\n",
      "\u001b[31mNameError\u001b[39m: name 'z' is not defined"
     ]
    }
   ],
   "source": [
    "# x is the formal argument of the function\n",
    "def al_cuadrado(x): \n",
    "    \"\"\" Esta función eleva al cuadrado\n",
    "        el valor de entrada\"\"\"\n",
    "    z = 3 \n",
    "    print(\"z inside al_cuadrado:\", z)\n",
    "    y = x**2\n",
    "    # Function output value\n",
    "    return y\n",
    "    \n",
    "    \n",
    "a = 2\n",
    "# a is the real argument of the function\n",
    "b = al_cuadrado(a)\n",
    "y = 5\n",
    "print(a,\" al cuadrado es:\", b)\n",
    "print(\"and outside of al_cuadrado:\", y)\n",
    "print(\"z outside al_cuadrado:\", z)"
   ]
  },
  {
   "cell_type": "code",
   "execution_count": 9,
   "metadata": {},
   "outputs": [
    {
     "name": "stdout",
     "output_type": "stream",
     "text": [
      "z inside al_cuadrado: 3\n",
      "81\n"
     ]
    }
   ],
   "source": [
    "c = 9\n",
    "d = al_cuadrado(c)\n",
    "print(d)"
   ]
  },
  {
   "cell_type": "markdown",
   "metadata": {},
   "source": [
    "Several important things to notice\n",
    "\n",
    "- I can define variables within a function. In fact, anything that can be done in Python can be done within a function\n",
    "- In the expression `b = al_cuadrado (a)` * we assign * the result of the function to the `b` variable.\n",
    "- `X` is called the` formal `argument of the function\n",
    "- `A` is the` real 'argument of the function, when we use it in `b = al_cuadrado (a)`. That is, when the function is executed, the formal argument `X` adopts the value of the real argument` a`. This is exactly the same as when in mathematics we do\n",
    "$$ f (x) = x^2 $$\n",
    "and given $ a = $ 23, we want to calculate $ f (a) $. We simply replace the $ A $ x $ value in the definition of the function.\n"
   ]
  },
  {
   "cell_type": "markdown",
   "metadata": {},
   "source": [
    "You have to be attentive to the type of argument"
   ]
  },
  {
   "cell_type": "code",
   "execution_count": 10,
   "metadata": {},
   "outputs": [
    {
     "name": "stdout",
     "output_type": "stream",
     "text": [
      "z inside al_cuadrado: 3\n"
     ]
    },
    {
     "ename": "TypeError",
     "evalue": "unsupported operand type(s) for ** or pow(): 'str' and 'int'",
     "output_type": "error",
     "traceback": [
      "\u001b[31m---------------------------------------------------------------------------\u001b[39m",
      "\u001b[31mTypeError\u001b[39m                                 Traceback (most recent call last)",
      "\u001b[36mCell\u001b[39m\u001b[36m \u001b[39m\u001b[32mIn[10]\u001b[39m\u001b[32m, line 2\u001b[39m\n\u001b[32m      1\u001b[39m john = \u001b[33m\"\u001b[39m\u001b[33mLennon\u001b[39m\u001b[33m\"\u001b[39m\n\u001b[32m----> \u001b[39m\u001b[32m2\u001b[39m \u001b[43mal_cuadrado\u001b[49m\u001b[43m(\u001b[49m\u001b[43mjohn\u001b[49m\u001b[43m)\u001b[49m\n",
      "\u001b[36mCell\u001b[39m\u001b[36m \u001b[39m\u001b[32mIn[8]\u001b[39m\u001b[32m, line 7\u001b[39m, in \u001b[36mal_cuadrado\u001b[39m\u001b[34m(x)\u001b[39m\n\u001b[32m      5\u001b[39m z = \u001b[32m3\u001b[39m \n\u001b[32m      6\u001b[39m \u001b[38;5;28mprint\u001b[39m(\u001b[33m\"\u001b[39m\u001b[33mz inside al_cuadrado:\u001b[39m\u001b[33m\"\u001b[39m, z)\n\u001b[32m----> \u001b[39m\u001b[32m7\u001b[39m y = \u001b[43mx\u001b[49m\u001b[43m*\u001b[49m\u001b[43m*\u001b[49m\u001b[32;43m2\u001b[39;49m\n\u001b[32m      8\u001b[39m \u001b[38;5;66;03m# Function output value\u001b[39;00m\n\u001b[32m      9\u001b[39m \u001b[38;5;28;01mreturn\u001b[39;00m y\n",
      "\u001b[31mTypeError\u001b[39m: unsupported operand type(s) for ** or pow(): 'str' and 'int'"
     ]
    }
   ],
   "source": [
    "john = \"Lennon\"\n",
    "al_cuadrado(john)"
   ]
  },
  {
   "cell_type": "code",
   "execution_count": 11,
   "metadata": {},
   "outputs": [
    {
     "name": "stdout",
     "output_type": "stream",
     "text": [
      "27\n",
      "531441\n"
     ]
    }
   ],
   "source": [
    "def al_cubo(x):\n",
    "    \n",
    "    y = x*x*x\n",
    "    \n",
    "    return y\n",
    "\n",
    "def ala_cuarta(x):\n",
    "    \n",
    "    y = x**4\n",
    "    \n",
    "    return y\n",
    "\n",
    "b = al_cubo(3)\n",
    "print(b)\n",
    "b = ala_cuarta(b)\n",
    "print(b)\n"
   ]
  },
  {
   "cell_type": "code",
   "execution_count": 12,
   "metadata": {},
   "outputs": [
    {
     "name": "stdout",
     "output_type": "stream",
     "text": [
      "None\n"
     ]
    }
   ],
   "source": [
    "def al_cubo_no_devuelve_nada(x):\n",
    "    \n",
    "    y = x*x*x\n",
    "   \n",
    "    # Here is missing a return and ...\n",
    "    \n",
    "b = al_cubo_no_devuelve_nada(4)\n",
    "print(b)"
   ]
  },
  {
   "cell_type": "markdown",
   "metadata": {},
   "source": [
    "## Examples"
   ]
  },
  {
   "cell_type": "markdown",
   "metadata": {},
   "source": [
    "### The Fibonacci sequence"
   ]
  },
  {
   "cell_type": "markdown",
   "metadata": {},
   "source": [
    "One of the most important sequences in mathematics (and in art!) Is the fibonacci sequence:\n",
    "$$ F_0 = 0 $$\n",
    "$$ F_1 = 1 $$\n",
    "$$ f_n = f_ {n-1} + f_ {n-2} $$"
   ]
  },
  {
   "cell_type": "markdown",
   "metadata": {},
   "source": [
    "La Secuencia de Fibonacci Es responsible of the *número de Oro *:\n",
    "$$ \\ phi = \\ lim_ {n \\ RigHtarrow \\ infsty} \\ FRACC {f_n} {f_ {n-11}} = \\ FRACC {1 + \\ sqrt {5}} {2} $$"
   ]
  },
  {
   "cell_type": "code",
   "execution_count": 13,
   "metadata": {},
   "outputs": [],
   "source": [
    "def fib(n):\n",
    "    \"\"\"Devuelve una lista con los términos\n",
    "    de la serie de Fibonacci hasta n.\"\"\"\n",
    "    \n",
    "    result = [0,1]\n",
    "    i = 2\n",
    "    \n",
    "    while i < n:\n",
    "        fn = result[i-1] + result[i-2]\n",
    "        result.append(fn)\n",
    "        print(\"iteration:\",i, \"sec: \",result)\n",
    "        i = i + 1\n",
    "        \n",
    "    return result\n"
   ]
  },
  {
   "cell_type": "code",
   "execution_count": 14,
   "metadata": {},
   "outputs": [
    {
     "data": {
      "text/plain": [
       "[0, 1]"
      ]
     },
     "execution_count": 14,
     "metadata": {},
     "output_type": "execute_result"
    }
   ],
   "source": [
    "# \n",
    "# FIB (N) raise FIB (0) of how\n",
    "# Result 0\n",
    "# \n",
    "\n",
    "fib(0)"
   ]
  },
  {
   "cell_type": "markdown",
   "metadata": {},
   "source": [
    "## Multiple entry and exit arguments"
   ]
  },
  {
   "cell_type": "code",
   "execution_count": 15,
   "metadata": {},
   "outputs": [
    {
     "name": "stdout",
     "output_type": "stream",
     "text": [
      "quotient: None , result: Error: y vale 0\n",
      "quotient: 3.28 , result: Ok\n"
     ]
    }
   ],
   "source": [
    "def divide_seguro(x,y):\n",
    "    \"\"\" Calcula x/y, pero devuelve un\n",
    "        error si y es cero\"\"\"\n",
    "    if(y==0):\n",
    "        return None,\"Error: y vale 0\"\n",
    "    else:\n",
    "        return x/y, \"Ok\"\n",
    "\n",
    "a = 8.2\n",
    "b = 0\n",
    "    \n",
    "cociente, result = divide_seguro(a,b)\n",
    "print(\"quotient:\",cociente,\", result:\",result)\n",
    "\n",
    "c = 2.5\n",
    "cociente, result = divide_seguro(a,c)\n",
    "print(\"quotient:\",cociente,\", result:\",result)\n",
    "    "
   ]
  },
  {
   "cell_type": "markdown",
   "metadata": {},
   "source": [
    "#### A little help from my friends\n",
    "\n",
    "The `Help` function gives us help about functions, whether they program or those we program, if they have the right docstring`."
   ]
  },
  {
   "cell_type": "code",
   "execution_count": 16,
   "metadata": {},
   "outputs": [
    {
     "name": "stdout",
     "output_type": "stream",
     "text": [
      "Help on built-in function print in module builtins:\n",
      "\n",
      "print(*args, sep=' ', end='\\n', file=None, flush=False)\n",
      "    Prints the values to a stream, or to sys.stdout by default.\n",
      "\n",
      "    sep\n",
      "      string inserted between values, default a space.\n",
      "    end\n",
      "      string appended after the last value, default a newline.\n",
      "    file\n",
      "      a file-like object (stream); defaults to the current sys.stdout.\n",
      "    flush\n",
      "      whether to forcibly flush the stream.\n",
      "\n"
     ]
    }
   ],
   "source": [
    "help(print)"
   ]
  },
  {
   "cell_type": "code",
   "execution_count": 17,
   "metadata": {},
   "outputs": [
    {
     "name": "stdout",
     "output_type": "stream",
     "text": [
      "Help on function fib in module __main__:\n",
      "\n",
      "fib(n)\n",
      "    Devuelve una lista con los términos\n",
      "    de la serie de Fibonacci hasta n.\n",
      "\n"
     ]
    }
   ],
   "source": [
    "help(fib)"
   ]
  },
  {
   "cell_type": "code",
   "execution_count": 18,
   "metadata": {},
   "outputs": [
    {
     "name": "stdout",
     "output_type": "stream",
     "text": [
      "Help on function divide_seguro in module __main__:\n",
      "\n",
      "divide_seguro(x, y)\n",
      "    Calcula x/y, pero devuelve un\n",
      "    error si y es cero\n",
      "\n"
     ]
    }
   ],
   "source": [
    "help(divide_seguro)"
   ]
  },
  {
   "cell_type": "markdown",
   "metadata": {},
   "source": [
    ">>> Now we go to TP2 ..."
   ]
  },
  {
   "cell_type": "markdown",
   "metadata": {},
   "source": [
    "## Optional arguments"
   ]
  },
  {
   "cell_type": "code",
   "execution_count": 19,
   "metadata": {},
   "outputs": [
    {
     "name": "stdout",
     "output_type": "stream",
     "text": [
      "-98.0\n",
      "509.99999999999994\n",
      "-120.0\n",
      "400.0\n"
     ]
    }
   ],
   "source": [
    "def caida_libre(t, h0, v0 = 0., g=9.8):\n",
    "    \"\"\"\n",
    "    Devuelve la velocidad y la posición de una partícula en\n",
    "    caída libre para condiciones iniciales dadas\n",
    "    \n",
    "    \"\"\"\n",
    "    v = v0 - g*t\n",
    "    h = h0 - v0*t - g*t**2/2.\n",
    "  \n",
    "    return v, h\n",
    "\n",
    "v1, h1 = caida_libre(10, 1000)\n",
    "\n",
    "print(v1)\n",
    "print(h1)\n",
    "\n",
    "v1, h1 = caida_libre(10, 1000, g = 12)\n",
    "\n",
    "print(v1)\n",
    "print(h1)"
   ]
  },
  {
   "cell_type": "markdown",
   "metadata": {},
   "source": [
    "## Scope of variables"
   ]
  },
  {
   "cell_type": "code",
   "execution_count": 20,
   "metadata": {},
   "outputs": [
    {
     "name": "stdout",
     "output_type": "stream",
     "text": [
      "Originally x Vale 50\n",
      "X entered the function with the value 50\n",
      "The new X is 2\n",
      "Now x okay 50\n"
     ]
    }
   ],
   "source": [
    "def func1(x):\n",
    "    print('X entered the function with the value', x)\n",
    "    x = 2\n",
    "    print('The new X is', x)\n",
    "\n",
    "y = 50\n",
    "print('Originally x Vale',y)\n",
    "func1(y)\n",
    "print('Now x okay',y)  "
   ]
  },
  {
   "cell_type": "code",
   "execution_count": 21,
   "metadata": {},
   "outputs": [
    {
     "name": "stdout",
     "output_type": "stream",
     "text": [
      "Originally x Vale [50]\n",
      "X entered the function with the value [50]\n",
      "The new X is [2]\n",
      "Now x okay [50]\n"
     ]
    }
   ],
   "source": [
    "x = [50]\n",
    "print('Originally x Vale',x)\n",
    "\n",
    "def func2(x):\n",
    "    print('X entered the function with the value', x)\n",
    "    x = [2]\n",
    "    print('The new X is', x)\n",
    "\n",
    "func2(x)\n",
    "print('Now x okay',x) "
   ]
  },
  {
   "cell_type": "code",
   "execution_count": 22,
   "metadata": {},
   "outputs": [
    {
     "name": "stdout",
     "output_type": "stream",
     "text": [
      "Originally x Vale [50]\n",
      "X entered the function with the value [50]\n",
      "The new X is [2]\n",
      "Now x okay [2]\n"
     ]
    }
   ],
   "source": [
    "x = [50]\n",
    "print('Originally x Vale',x)\n",
    "\n",
    "def func3(x):\n",
    "    print('X entered the function with the value', x)\n",
    "    x[0] = 2\n",
    "    print('The new X is', x)\n",
    "\n",
    "func3(x)\n",
    "print('Now x okay',x)  "
   ]
  },
  {
   "cell_type": "code",
   "execution_count": 23,
   "metadata": {},
   "outputs": [
    {
     "name": "stdout",
     "output_type": "stream",
     "text": [
      "Originally x Vale [50]\n",
      "X entered the function with the value [50]\n",
      "The new X is lala\n",
      "Now x okay [50]\n"
     ]
    }
   ],
   "source": [
    "x = [50]\n",
    "print('Originally x Vale',x)\n",
    "\n",
    "def func3(x):\n",
    "    print('X entered the function with the value', x)\n",
    "    x = 'lala'\n",
    "    print('The new X is', x)\n",
    "\n",
    "func3(x)\n",
    "print('Now x okay',x)  "
   ]
  },
  {
   "cell_type": "code",
   "execution_count": 24,
   "metadata": {},
   "outputs": [
    {
     "name": "stdout",
     "output_type": "stream",
     "text": [
      "Originally x Vale [1, 2, 3, 4, 5]\n",
      "X entered the function with the value [1, 2, 3, 4, 5]\n",
      "The new X is [1, 2, 108, 4, 5]\n",
      "Now x okay [1, 2, 108, 4, 5]\n"
     ]
    }
   ],
   "source": [
    "x = [1,2,3,4,5]\n",
    "print('Originally x Vale',x)\n",
    "\n",
    "def func3(x):\n",
    "    print('X entered the function with the value', x)\n",
    "    x[2] = 108\n",
    "    print('The new X is', x)\n",
    "\n",
    "func3(x)\n",
    "print('Now x okay',x)  "
   ]
  },
  {
   "cell_type": "markdown",
   "metadata": {},
   "source": [
    "## Something I/O"
   ]
  },
  {
   "cell_type": "markdown",
   "metadata": {},
   "source": [
    "With the acronym * I/O *, the entry and exit procedures (of English, input/output) are usually referred. This refers most of the time to read or write data, either screen, file, etc.\n",
    "\n",
    "We already saw the `print` function that writes on the screen. Its counterpart is the `input`, which allows you to read data by screen:"
   ]
  },
  {
   "cell_type": "code",
   "execution_count": 25,
   "metadata": {},
   "outputs": [
    {
     "ename": "StdinNotImplementedError",
     "evalue": "raw_input was called, but this frontend does not support input requests.",
     "output_type": "error",
     "traceback": [
      "\u001b[31m---------------------------------------------------------------------------\u001b[39m",
      "\u001b[31mStdinNotImplementedError\u001b[39m                  Traceback (most recent call last)",
      "\u001b[36mCell\u001b[39m\u001b[36m \u001b[39m\u001b[32mIn[25]\u001b[39m\u001b[32m, line 1\u001b[39m\n\u001b[32m----> \u001b[39m\u001b[32m1\u001b[39m algo_ingresado = \u001b[38;5;28;43minput\u001b[39;49m\u001b[43m(\u001b[49m\u001b[33;43m'\u001b[39;49m\u001b[33;43mIngrese algo: \u001b[39;49m\u001b[33;43m'\u001b[39;49m\u001b[43m)\u001b[49m\n\u001b[32m      3\u001b[39m \u001b[38;5;28mprint\u001b[39m(algo_ingresado)\n\u001b[32m      4\u001b[39m \u001b[38;5;28mprint\u001b[39m(\u001b[33m\"\u001b[39m\u001b[33mThe type of data entered is:\u001b[39m\u001b[33m\"\u001b[39m,\u001b[38;5;28mtype\u001b[39m(algo_ingresado))\n",
      "\u001b[36mFile \u001b[39m\u001b[32m~/Codes/GitHub/taller-de-informatica/.venv/lib/python3.12/site-packages/ipykernel/kernelbase.py:1281\u001b[39m, in \u001b[36mKernel.raw_input\u001b[39m\u001b[34m(self, prompt)\u001b[39m\n\u001b[32m   1279\u001b[39m \u001b[38;5;28;01mif\u001b[39;00m \u001b[38;5;129;01mnot\u001b[39;00m \u001b[38;5;28mself\u001b[39m._allow_stdin:\n\u001b[32m   1280\u001b[39m     msg = \u001b[33m\"\u001b[39m\u001b[33mraw_input was called, but this frontend does not support input requests.\u001b[39m\u001b[33m\"\u001b[39m\n\u001b[32m-> \u001b[39m\u001b[32m1281\u001b[39m     \u001b[38;5;28;01mraise\u001b[39;00m StdinNotImplementedError(msg)\n\u001b[32m   1282\u001b[39m \u001b[38;5;28;01mreturn\u001b[39;00m \u001b[38;5;28mself\u001b[39m._input_request(\n\u001b[32m   1283\u001b[39m     \u001b[38;5;28mstr\u001b[39m(prompt),\n\u001b[32m   1284\u001b[39m     \u001b[38;5;28mself\u001b[39m._parent_ident[\u001b[33m\"\u001b[39m\u001b[33mshell\u001b[39m\u001b[33m\"\u001b[39m],\n\u001b[32m   1285\u001b[39m     \u001b[38;5;28mself\u001b[39m.get_parent(\u001b[33m\"\u001b[39m\u001b[33mshell\u001b[39m\u001b[33m\"\u001b[39m),\n\u001b[32m   1286\u001b[39m     password=\u001b[38;5;28;01mFalse\u001b[39;00m,\n\u001b[32m   1287\u001b[39m )\n",
      "\u001b[31mStdinNotImplementedError\u001b[39m: raw_input was called, but this frontend does not support input requests."
     ]
    }
   ],
   "source": [
    "algo_ingresado = input('Ingrese algo: ')\n",
    "\n",
    "print(algo_ingresado)\n",
    "print(\"The type of data entered is:\",type(algo_ingresado))"
   ]
  },
  {
   "cell_type": "markdown",
   "metadata": {},
   "source": [
    "Like the `print` function, which always writes a` string`, `input` always receives the` string` type."
   ]
  },
  {
   "cell_type": "markdown",
   "metadata": {},
   "source": [
    "### Load and write text files\n",
    "\n",
    "Another fundamental operation of I/O is the data load from files, and its writing:"
   ]
  },
  {
   "cell_type": "code",
   "execution_count": 26,
   "metadata": {},
   "outputs": [],
   "source": [
    "writeme = open('ejemplo.txt','w',encoding = 'utf-8') # 'W' is Write, that is, write\n",
    "\n",
    "texto = 'Esta es la primer línea,\\nesta es la segunda\\ny esta es la tercera.'\n",
    "\n",
    "writeme.write(texto)\n",
    "\n",
    "writeme.close()"
   ]
  },
  {
   "cell_type": "markdown",
   "metadata": {},
   "source": [
    "Text codifications:\n",
    "ASCII\n",
    "UTF-8 \n",
    "etc etc"
   ]
  },
  {
   "cell_type": "code",
   "execution_count": 27,
   "metadata": {},
   "outputs": [
    {
     "name": "stdout",
     "output_type": "stream",
     "text": [
      "Esta es la primer línea,\n",
      "esta es la segunda\n",
      "y esta es la tercera.\n"
     ]
    }
   ],
   "source": [
    "readme = open('ejemplo.txt') \n",
    "\n",
    "texto_leido = readme.read()\n",
    "\n",
    "print(texto_leido)\n",
    "\n",
    "readme.close()"
   ]
  },
  {
   "cell_type": "code",
   "execution_count": 28,
   "metadata": {},
   "outputs": [
    {
     "name": "stdout",
     "output_type": "stream",
     "text": [
      "Esta es la prime\n",
      "r línea,\n",
      "esta es la segunda\n",
      "y esta es la tercera.\n"
     ]
    }
   ],
   "source": [
    "readme = open('ejemplo.txt') \n",
    "\n",
    "texto_leido = readme.read(16)\n",
    "\n",
    "print(texto_leido)\n",
    "\n",
    "mas_texto_leido = readme.read()\n",
    "\n",
    "print(mas_texto_leido)\n",
    "\n",
    "readme.close()"
   ]
  },
  {
   "cell_type": "code",
   "execution_count": 29,
   "metadata": {},
   "outputs": [
    {
     "name": "stdout",
     "output_type": "stream",
     "text": [
      "Esta es la primer línea,\n",
      "\n",
      "esta es la segunda\n",
      "\n",
      "y esta es la tercera.\n"
     ]
    }
   ],
   "source": [
    "readme = open('ejemplo.txt')\n",
    "\n",
    "for linea in readme:\n",
    "    print(linea)\n",
    "    \n",
    "readme.close() "
   ]
  },
  {
   "cell_type": "code",
   "execution_count": 30,
   "metadata": {},
   "outputs": [
    {
     "name": "stdout",
     "output_type": "stream",
     "text": [
      "<class 'list'>\n",
      "3\n",
      "Esta es la primer línea,\n",
      "\n",
      "['Esta es la primer línea,\\n', 'esta es la segunda\\n', 'y esta es la tercera.']\n"
     ]
    }
   ],
   "source": [
    "readme = open('ejemplo.txt')\n",
    "lineas = readme.readlines()\n",
    "\n",
    "print(type(lineas))\n",
    "print(len(lineas))\n",
    "print(lineas[0])\n",
    "print(lineas)"
   ]
  }
 ],
 "metadata": {
  "kernelspec": {
   "display_name": "Python 3",
   "language": "python",
   "name": "python3"
  },
  "language_info": {
   "codemirror_mode": {
    "name": "ipython",
    "version": 3
   },
   "file_extension": ".py",
   "mimetype": "text/x-python",
   "name": "python",
   "nbconvert_exporter": "python",
   "pygments_lexer": "ipython3",
   "version": "3.12.8"
  }
 },
 "nbformat": 4,
 "nbformat_minor": 2
}