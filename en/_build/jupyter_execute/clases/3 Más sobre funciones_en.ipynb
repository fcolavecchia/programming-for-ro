{
 "cells": [
  {
   "cell_type": "markdown",
   "metadata": {},
   "source": [
    "# More about functions"
   ]
  },
  {
   "cell_type": "markdown",
   "metadata": {},
   "source": [
    "In today's class we will see some pending themes of the last class.\n"
   ]
  },
  {
   "cell_type": "markdown",
   "metadata": {},
   "source": [
    "To define functions, we use the reserved word `def`. For example, we can define the function that verifies whether or not a leap a year:"
   ]
  },
  {
   "cell_type": "code",
   "execution_count": 1,
   "metadata": {},
   "outputs": [
    {
     "ename": "StdinNotImplementedError",
     "evalue": "raw_input was called, but this frontend does not support input requests.",
     "output_type": "error",
     "traceback": [
      "\u001b[31m---------------------------------------------------------------------------\u001b[39m",
      "\u001b[31mStdinNotImplementedError\u001b[39m                  Traceback (most recent call last)",
      "\u001b[36mCell\u001b[39m\u001b[36m \u001b[39m\u001b[32mIn[1]\u001b[39m\u001b[32m, line 10\u001b[39m\n\u001b[32m      7\u001b[39m     \u001b[38;5;28;01melse\u001b[39;00m:\n\u001b[32m      8\u001b[39m         \u001b[38;5;28;01mreturn\u001b[39;00m \u001b[38;5;28;01mFalse\u001b[39;00m\n\u001b[32m---> \u001b[39m\u001b[32m10\u001b[39m anio = \u001b[38;5;28;43minput\u001b[39;49m\u001b[43m(\u001b[49m\u001b[33;43m'\u001b[39;49m\u001b[33;43mIngrese anio :\u001b[39;49m\u001b[33;43m'\u001b[39;49m\u001b[43m)\u001b[49m    \n\u001b[32m     11\u001b[39m \u001b[38;5;28mprint\u001b[39m(\u001b[38;5;28mtype\u001b[39m(anio))\n\u001b[32m     12\u001b[39m \u001b[38;5;66;03m# This is fine:\u001b[39;00m\n",
      "\u001b[36mFile \u001b[39m\u001b[32m~/Codes/GitHub/taller-de-informatica/.venv/lib/python3.12/site-packages/ipykernel/kernelbase.py:1281\u001b[39m, in \u001b[36mKernel.raw_input\u001b[39m\u001b[34m(self, prompt)\u001b[39m\n\u001b[32m   1279\u001b[39m \u001b[38;5;28;01mif\u001b[39;00m \u001b[38;5;129;01mnot\u001b[39;00m \u001b[38;5;28mself\u001b[39m._allow_stdin:\n\u001b[32m   1280\u001b[39m     msg = \u001b[33m\"\u001b[39m\u001b[33mraw_input was called, but this frontend does not support input requests.\u001b[39m\u001b[33m\"\u001b[39m\n\u001b[32m-> \u001b[39m\u001b[32m1281\u001b[39m     \u001b[38;5;28;01mraise\u001b[39;00m StdinNotImplementedError(msg)\n\u001b[32m   1282\u001b[39m \u001b[38;5;28;01mreturn\u001b[39;00m \u001b[38;5;28mself\u001b[39m._input_request(\n\u001b[32m   1283\u001b[39m     \u001b[38;5;28mstr\u001b[39m(prompt),\n\u001b[32m   1284\u001b[39m     \u001b[38;5;28mself\u001b[39m._parent_ident[\u001b[33m\"\u001b[39m\u001b[33mshell\u001b[39m\u001b[33m\"\u001b[39m],\n\u001b[32m   1285\u001b[39m     \u001b[38;5;28mself\u001b[39m.get_parent(\u001b[33m\"\u001b[39m\u001b[33mshell\u001b[39m\u001b[33m\"\u001b[39m),\n\u001b[32m   1286\u001b[39m     password=\u001b[38;5;28;01mFalse\u001b[39;00m,\n\u001b[32m   1287\u001b[39m )\n",
      "\u001b[31mStdinNotImplementedError\u001b[39m: raw_input was called, but this frontend does not support input requests."
     ]
    }
   ],
   "source": [
    "def es_bisiesto(anio):\n",
    "    \"\"\" Esta función determina si\n",
    "        un año es bisiesto\"\"\"\n",
    "    \n",
    "    if(anio%4 == 0 and not anio%100==0 or anio%400==0):\n",
    "        return True\n",
    "    else:\n",
    "        return False\n",
    "        \n",
    "anio = input('Ingrese anio :')    \n",
    "print(type(anio))\n",
    "# This is fine:\n",
    "print(es_bisiesto(int(anio)))    \n",
    "# This is not going to walk:\n",
    "print(es_bisiesto(anio)) "
   ]
  },
  {
   "cell_type": "markdown",
   "metadata": {},
   "source": [
    "## Example"
   ]
  },
  {
   "cell_type": "markdown",
   "metadata": {},
   "source": [
    "### Pagogram\n",
    "\n",
    "A pan is a phrase that contains all the letters of the alphabet. We are going to use English, we avoid the accents and other issues of Spanish. For example\n",
    "\n",
    ">>*The Quick Brown Fox Jumps Over The Lazy Dog*\n",
    "\n",
    "It is a very used vaggram in the creation of *fonts *, that is, fonts or fonts, precisely because it contains all the letters of the alphabet.\n",
    "\n",
    "The problem is writing a function that determines whether a phrase is a pan or not."
   ]
  },
  {
   "cell_type": "code",
   "execution_count": 2,
   "metadata": {},
   "outputs": [],
   "source": [
    "s = \"the quick brown fox jumps over the lazy dog\"\n",
    "\n",
    "\n",
    "def is_pangram(frase):\n",
    "    \n",
    "    pass\n"
   ]
  },
  {
   "cell_type": "markdown",
   "metadata": {},
   "source": [
    "## Multiple entry and exit arguments"
   ]
  },
  {
   "cell_type": "code",
   "execution_count": 3,
   "metadata": {},
   "outputs": [
    {
     "name": "stdout",
     "output_type": "stream",
     "text": [
      "quotient: None , result: Error: y vale 0\n",
      "quotient: 3.28 , result: Ok\n"
     ]
    }
   ],
   "source": [
    "def divide_seguro(x,y):\n",
    "    if(y==0):\n",
    "        return None,\"Error: y vale 0\"\n",
    "    else:\n",
    "        return x/y, \"Ok\"\n",
    "\n",
    "a = 8.2\n",
    "b = 0\n",
    "    \n",
    "cociente, result = divide_seguro(a,b)\n",
    "print(\"quotient:\",cociente,\", result:\",result)\n",
    "\n",
    "c = 2.5\n",
    "cociente, result = divide_seguro(a,c)\n",
    "print(\"quotient:\",cociente,\", result:\",result)\n",
    "    "
   ]
  },
  {
   "cell_type": "markdown",
   "metadata": {},
   "source": [
    "#### A little help from my friends\n",
    "\n",
    "The `Help` function gives us help about functions, whether they program or those we program, if they have the right docstring`."
   ]
  },
  {
   "cell_type": "code",
   "execution_count": 4,
   "metadata": {},
   "outputs": [
    {
     "name": "stdout",
     "output_type": "stream",
     "text": [
      "Help on built-in function sum in module builtins:\n",
      "\n",
      "sum(iterable, /, start=0)\n",
      "    Return the sum of a 'start' value (default: 0) plus an iterable of numbers\n",
      "\n",
      "    When the iterable is empty, return the start value.\n",
      "    This function is intended specifically for use with numeric values and may\n",
      "    reject non-numeric types.\n",
      "\n"
     ]
    }
   ],
   "source": [
    "help(sum)"
   ]
  },
  {
   "cell_type": "code",
   "execution_count": 5,
   "metadata": {},
   "outputs": [
    {
     "ename": "NameError",
     "evalue": "name 'fib' is not defined",
     "output_type": "error",
     "traceback": [
      "\u001b[31m---------------------------------------------------------------------------\u001b[39m",
      "\u001b[31mNameError\u001b[39m                                 Traceback (most recent call last)",
      "\u001b[36mCell\u001b[39m\u001b[36m \u001b[39m\u001b[32mIn[5]\u001b[39m\u001b[32m, line 1\u001b[39m\n\u001b[32m----> \u001b[39m\u001b[32m1\u001b[39m help(\u001b[43mfib\u001b[49m)\n",
      "\u001b[31mNameError\u001b[39m: name 'fib' is not defined"
     ]
    }
   ],
   "source": [
    "help(fib)"
   ]
  },
  {
   "cell_type": "code",
   "execution_count": 6,
   "metadata": {},
   "outputs": [
    {
     "ename": "NameError",
     "evalue": "name 'al_cuadrado' is not defined",
     "output_type": "error",
     "traceback": [
      "\u001b[31m---------------------------------------------------------------------------\u001b[39m",
      "\u001b[31mNameError\u001b[39m                                 Traceback (most recent call last)",
      "\u001b[36mCell\u001b[39m\u001b[36m \u001b[39m\u001b[32mIn[6]\u001b[39m\u001b[32m, line 1\u001b[39m\n\u001b[32m----> \u001b[39m\u001b[32m1\u001b[39m help(\u001b[43mal_cuadrado\u001b[49m)\n",
      "\u001b[31mNameError\u001b[39m: name 'al_cuadrado' is not defined"
     ]
    }
   ],
   "source": [
    "help(al_cuadrado)"
   ]
  },
  {
   "cell_type": "markdown",
   "metadata": {},
   "source": [
    "## Optional arguments"
   ]
  },
  {
   "cell_type": "code",
   "execution_count": 7,
   "metadata": {},
   "outputs": [
    {
     "name": "stdout",
     "output_type": "stream",
     "text": [
      "-98.0\n",
      "509.99999999999994\n",
      "-120.0\n",
      "400.0\n"
     ]
    }
   ],
   "source": [
    "def caida_libre(t, h0, v0 = 0., g=9.8):\n",
    "    \"\"\"\n",
    "    Devuelve la velocidad y la posición de una partícula en\n",
    "    caída libre para condiciones iniciales dadas\n",
    "    \n",
    "    \"\"\"\n",
    "    v = v0 - g*t\n",
    "    h = h0 - v0*t - g*t**2/2.\n",
    "  \n",
    "    return v, h\n",
    "\n",
    "v1, h1 = caida_libre(10, 1000)\n",
    "\n",
    "print(v1)\n",
    "print(h1)\n",
    "\n",
    "v1, h1 = caida_libre(10, 1000, g = 12)\n",
    "\n",
    "print(v1)\n",
    "print(h1)"
   ]
  },
  {
   "cell_type": "markdown",
   "metadata": {},
   "source": [
    "## Scope of variables"
   ]
  },
  {
   "cell_type": "code",
   "execution_count": 8,
   "metadata": {},
   "outputs": [
    {
     "name": "stdout",
     "output_type": "stream",
     "text": [
      "Originally x Vale 50\n",
      "X entered the function with the value 50\n",
      "The new X is 2\n",
      "Now and ok 50\n"
     ]
    }
   ],
   "source": [
    "def func1(x):\n",
    "    print('X entered the function with the value', x)\n",
    "    x = 2\n",
    "    print('The new X is', x)\n",
    "\n",
    "y = 50\n",
    "print('Originally x Vale',y)\n",
    "func1(y)\n",
    "print('Now and ok',y)  "
   ]
  },
  {
   "cell_type": "code",
   "execution_count": 9,
   "metadata": {},
   "outputs": [
    {
     "name": "stdout",
     "output_type": "stream",
     "text": [
      "Originally x Vale [50]\n",
      "X entered the function with the value [50]\n",
      "The new X is [2]\n",
      "Now x okay [50]\n"
     ]
    }
   ],
   "source": [
    "x = [50]\n",
    "print('Originally x Vale',x)\n",
    "\n",
    "def func2(x):\n",
    "    print('X entered the function with the value', x)\n",
    "    x = [2]\n",
    "    print('The new X is', x)\n",
    "\n",
    "func2(x)\n",
    "print('Now x okay',x) "
   ]
  },
  {
   "cell_type": "code",
   "execution_count": 10,
   "metadata": {},
   "outputs": [
    {
     "name": "stdout",
     "output_type": "stream",
     "text": [
      "Originally x Vale [50]\n",
      "X entered the function with the value [50]\n",
      "The new X is [2]\n",
      "Now x okay [2]\n"
     ]
    }
   ],
   "source": [
    "x = [50]\n",
    "print('Originally x Vale',x)\n",
    "\n",
    "def func3(x):\n",
    "    print('X entered the function with the value', x)\n",
    "    x[0] = 2\n",
    "    print('The new X is', x)\n",
    "\n",
    "func3(x)\n",
    "print('Now x okay',x)  "
   ]
  },
  {
   "cell_type": "code",
   "execution_count": 11,
   "metadata": {},
   "outputs": [
    {
     "name": "stdout",
     "output_type": "stream",
     "text": [
      "Originally x Vale [50]\n",
      "X entered the function with the value [50]\n",
      "The new X is lala\n",
      "Now x okay [50]\n"
     ]
    }
   ],
   "source": [
    "x = [50]\n",
    "print('Originally x Vale',x)\n",
    "\n",
    "def func3(x):\n",
    "    print('X entered the function with the value', x)\n",
    "    x = 'lala'\n",
    "    print('The new X is', x)\n",
    "\n",
    "func3(x)\n",
    "print('Now x okay',x)  "
   ]
  },
  {
   "cell_type": "code",
   "execution_count": 12,
   "metadata": {},
   "outputs": [
    {
     "name": "stdout",
     "output_type": "stream",
     "text": [
      "Originally x Vale [1, 2, 3, 4, 5]\n",
      "X entered the function with the value [1, 2, 3, 4, 5]\n",
      "The new X is [1, 2, 108, 4, 5]\n",
      "Now x okay [1, 2, 108, 4, 5]\n"
     ]
    }
   ],
   "source": [
    "x = [1,2,3,4,5]\n",
    "print('Originally x Vale',x)\n",
    "\n",
    "def func3(x):\n",
    "    print('X entered the function with the value', x)\n",
    "    x[2] = 108\n",
    "    print('The new X is', x)\n",
    "\n",
    "func3(x)\n",
    "print('Now x okay',x)  "
   ]
  },
  {
   "cell_type": "markdown",
   "metadata": {},
   "source": [
    "## Something I/O"
   ]
  },
  {
   "cell_type": "markdown",
   "metadata": {},
   "source": [
    "With the acronym * I/O *, the entry and exit procedures (of English, input/output) are usually referred. This refers most of the time to read or write data, either screen, file, etc.\n",
    "\n",
    "We already saw the `print` function that writes on the screen. Its counterpart is the `input`, which allows you to read data by screen:"
   ]
  },
  {
   "cell_type": "code",
   "execution_count": 13,
   "metadata": {},
   "outputs": [
    {
     "ename": "StdinNotImplementedError",
     "evalue": "raw_input was called, but this frontend does not support input requests.",
     "output_type": "error",
     "traceback": [
      "\u001b[31m---------------------------------------------------------------------------\u001b[39m",
      "\u001b[31mStdinNotImplementedError\u001b[39m                  Traceback (most recent call last)",
      "\u001b[36mCell\u001b[39m\u001b[36m \u001b[39m\u001b[32mIn[13]\u001b[39m\u001b[32m, line 1\u001b[39m\n\u001b[32m----> \u001b[39m\u001b[32m1\u001b[39m algo_ingresado = \u001b[38;5;28;43minput\u001b[39;49m\u001b[43m(\u001b[49m\u001b[33;43m'\u001b[39;49m\u001b[33;43mIngrese algo: \u001b[39;49m\u001b[33;43m'\u001b[39;49m\u001b[43m)\u001b[49m\n\u001b[32m      3\u001b[39m \u001b[38;5;28mprint\u001b[39m(algo_ingresado)\n\u001b[32m      4\u001b[39m \u001b[38;5;28mprint\u001b[39m(\u001b[33m\"\u001b[39m\u001b[33mThe type of data entered is:\u001b[39m\u001b[33m\"\u001b[39m,\u001b[38;5;28mtype\u001b[39m(algo_ingresado))\n",
      "\u001b[36mFile \u001b[39m\u001b[32m~/Codes/GitHub/taller-de-informatica/.venv/lib/python3.12/site-packages/ipykernel/kernelbase.py:1281\u001b[39m, in \u001b[36mKernel.raw_input\u001b[39m\u001b[34m(self, prompt)\u001b[39m\n\u001b[32m   1279\u001b[39m \u001b[38;5;28;01mif\u001b[39;00m \u001b[38;5;129;01mnot\u001b[39;00m \u001b[38;5;28mself\u001b[39m._allow_stdin:\n\u001b[32m   1280\u001b[39m     msg = \u001b[33m\"\u001b[39m\u001b[33mraw_input was called, but this frontend does not support input requests.\u001b[39m\u001b[33m\"\u001b[39m\n\u001b[32m-> \u001b[39m\u001b[32m1281\u001b[39m     \u001b[38;5;28;01mraise\u001b[39;00m StdinNotImplementedError(msg)\n\u001b[32m   1282\u001b[39m \u001b[38;5;28;01mreturn\u001b[39;00m \u001b[38;5;28mself\u001b[39m._input_request(\n\u001b[32m   1283\u001b[39m     \u001b[38;5;28mstr\u001b[39m(prompt),\n\u001b[32m   1284\u001b[39m     \u001b[38;5;28mself\u001b[39m._parent_ident[\u001b[33m\"\u001b[39m\u001b[33mshell\u001b[39m\u001b[33m\"\u001b[39m],\n\u001b[32m   1285\u001b[39m     \u001b[38;5;28mself\u001b[39m.get_parent(\u001b[33m\"\u001b[39m\u001b[33mshell\u001b[39m\u001b[33m\"\u001b[39m),\n\u001b[32m   1286\u001b[39m     password=\u001b[38;5;28;01mFalse\u001b[39;00m,\n\u001b[32m   1287\u001b[39m )\n",
      "\u001b[31mStdinNotImplementedError\u001b[39m: raw_input was called, but this frontend does not support input requests."
     ]
    }
   ],
   "source": [
    "algo_ingresado = input('Ingrese algo: ')\n",
    "\n",
    "print(algo_ingresado)\n",
    "print(\"The type of data entered is:\",type(algo_ingresado))"
   ]
  },
  {
   "cell_type": "markdown",
   "metadata": {},
   "source": [
    "Like the `print` function, which always writes a` string`, `input` always receives the` string` type."
   ]
  },
  {
   "cell_type": "markdown",
   "metadata": {},
   "source": [
    "### Load and write text files\n",
    "\n",
    "Another fundamental operation of I/O is the data load from files, and its writing:"
   ]
  },
  {
   "cell_type": "code",
   "execution_count": 14,
   "metadata": {},
   "outputs": [],
   "source": [
    "writeme = open('ejemplo.txt','w') \n",
    "# print('writeme es de tipo :',type(writeme))\n",
    "\n",
    "texto = 'Esta es la primer línea,\\nesta es la segunda\\ny esta es la tercera.'\n",
    "\n",
    "writeme.write(texto)\n",
    "\n",
    "writeme.close()"
   ]
  },
  {
   "cell_type": "code",
   "execution_count": 15,
   "metadata": {},
   "outputs": [
    {
     "name": "stdout",
     "output_type": "stream",
     "text": [
      "Esta es la primer línea,\n",
      "esta es la segunda\n",
      "y esta es la tercera.\n"
     ]
    }
   ],
   "source": [
    "readme = open('ejemplo.txt') \n",
    "\n",
    "texto_leido = readme.read()\n",
    "\n",
    "print(texto_leido)\n",
    "\n",
    "readme.close()"
   ]
  },
  {
   "cell_type": "code",
   "execution_count": 16,
   "metadata": {},
   "outputs": [
    {
     "name": "stdout",
     "output_type": "stream",
     "text": [
      "Text_leido: Esta es la prime\n",
      "more_text_leido: r línea,\n",
      "esta es la segunda\n",
      "y esta es la tercera.\n"
     ]
    }
   ],
   "source": [
    "readme = open('ejemplo.txt') \n",
    "\n",
    "texto_leido = readme.read(16)\n",
    "\n",
    "print('Text_leido:',texto_leido)\n",
    "\n",
    "mas_texto_leido = readme.read()\n",
    "\n",
    "print('more_text_leido:',mas_texto_leido)\n",
    "\n",
    "readme.close()"
   ]
  },
  {
   "cell_type": "code",
   "execution_count": 17,
   "metadata": {},
   "outputs": [
    {
     "name": "stdout",
     "output_type": "stream",
     "text": [
      "Esta es la primer línea,\n",
      "\n",
      "esta es la segunda\n",
      "\n",
      "y esta es la tercera.\n"
     ]
    }
   ],
   "source": [
    "readme = open('ejemplo.txt')\n",
    "\n",
    "for linea in readme:\n",
    "    print(linea)\n",
    "    \n",
    "readme.close() "
   ]
  },
  {
   "cell_type": "code",
   "execution_count": 18,
   "metadata": {},
   "outputs": [
    {
     "name": "stdout",
     "output_type": "stream",
     "text": [
      "<class 'list'>\n",
      "3\n",
      "['Esta es la primer línea,\\n', 'esta es la segunda\\n', 'y esta es la tercera.']\n",
      "Esta es la primer línea,\n",
      "\n"
     ]
    }
   ],
   "source": [
    "readme = open('ejemplo.txt')\n",
    "lineas = readme.readlines()\n",
    "\n",
    "print(type(lineas))\n",
    "print(len(lineas))\n",
    "print(lineas)\n",
    "print(lineas[0])"
   ]
  }
 ],
 "metadata": {
  "kernelspec": {
   "display_name": "Python 3 (ipykernel)",
   "language": "python",
   "name": "python3"
  },
  "language_info": {
   "codemirror_mode": {
    "name": "ipython",
    "version": 3
   },
   "file_extension": ".py",
   "mimetype": "text/x-python",
   "name": "python",
   "nbconvert_exporter": "python",
   "pygments_lexer": "ipython3",
   "version": "3.12.8"
  },
  "nbTranslate": {
   "displayLangs": [
    "*"
   ],
   "hotkey": "alt-t",
   "langInMainMenu": true,
   "sourceLang": "en",
   "targetLang": "fr",
   "useGoogleTranslate": true
  }
 },
 "nbformat": 4,
 "nbformat_minor": 2
}