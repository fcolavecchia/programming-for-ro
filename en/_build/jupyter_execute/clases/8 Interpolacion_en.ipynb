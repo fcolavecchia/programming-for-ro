{
 "cells": [
  {
   "cell_type": "markdown",
   "metadata": {},
   "source": [
    "# Interpolation - Scipy\n"
   ]
  },
  {
   "cell_type": "code",
   "execution_count": 1,
   "metadata": {},
   "outputs": [],
   "source": [
    "import matplotlib.pyplot as plt\n",
    "import numpy as np"
   ]
  },
  {
   "cell_type": "markdown",
   "metadata": {},
   "source": [
    "# Interpolation\n",
    "\n",
    "## Fundamentals\n",
    "\n",
    "The * interpolation * consists in finding a function $ f (x) $ such that, given the abscissa \n",
    "$$\n",
    "x_0, x_1, \\ cdots, x_ {n-1}\n",
    "$$\n",
    "and its corresponding ordered values\n",
    "$$\n",
    "Y_0, Y_1, \\ cdots, y_ {n-1}\n",
    "$$\n",
    "It is verified that:\n",
    "$$\n",
    "f (x_i) = y_i \\; \\; \\; \\ textrm {for any} \\; \\; 0 \\ le i <n\n",
    "$$\n",
    "\n",
    "If we think about the plane, we want to look for a $ f (x) curve that passes through all points $ (x_i, y_i) $, with $ 0 \\ le i <n $.\n"
   ]
  },
  {
   "cell_type": "code",
   "execution_count": 2,
   "metadata": {},
   "outputs": [
    {
     "data": {
      "text/plain": [
       "array([-3. , -2.4, -1.8, -1.2, -0.6,  0. ,  0.6,  1.2,  1.8,  2.4,  3. ])"
      ]
     },
     "execution_count": 2,
     "metadata": {},
     "output_type": "execute_result"
    }
   ],
   "source": [
    "xData = np.linspace(-3,3,11)\n",
    "xData"
   ]
  },
  {
   "cell_type": "code",
   "execution_count": 3,
   "metadata": {},
   "outputs": [
    {
     "data": {
      "text/plain": [
       "array([1.23409804e-04, 3.15111160e-03, 3.91638951e-02, 2.36927759e-01,\n",
       "       6.97676326e-01, 1.00000000e+00, 6.97676326e-01, 2.36927759e-01,\n",
       "       3.91638951e-02, 3.15111160e-03, 1.23409804e-04])"
      ]
     },
     "execution_count": 3,
     "metadata": {},
     "output_type": "execute_result"
    }
   ],
   "source": [
    "yData = np.array([1.23409804e-04, 3.15111160e-03, 3.91638951e-02, 2.36927759e-01,\n",
    "       6.97676326e-01, 1.00000000e+00, 6.97676326e-01, 2.36927759e-01,\n",
    "       3.91638951e-02, 3.15111160e-03, 1.23409804e-04])\n",
    "yData"
   ]
  },
  {
   "cell_type": "code",
   "execution_count": 4,
   "metadata": {},
   "outputs": [
    {
     "data": {
      "image/png": "[encoded data removed]",
      "text/plain": [
       "<Figure size 640x480 with 1 Axes>"
      ]
     },
     "metadata": {},
     "output_type": "display_data"
    }
   ],
   "source": [
    "plt.plot(xData,yData, marker = 'o',linestyle = 'None')\n",
    "plt.show()"
   ]
  },
  {
   "cell_type": "markdown",
   "metadata": {},
   "source": [
    "> Interpolation has two stages:\n",
    "1. Find the interpolation function $ f (x) $\n",
    "2. Evaluate the interpolation function in the desired values"
   ]
  },
  {
   "cell_type": "markdown",
   "metadata": {},
   "source": [
    "## Polynomial interpolation (Newton)\n",
    "\n",
    "Of course it is extremely difficult to find a function $ f (x) $ general for any number of points $ (x_i, y_i) $ as data. That is why * Polynomials * of different degrees are used to satisfy the conditions of the interpolation. \n",
    "\n",
    "One of the possible functional forms corresponds to Newton's polynomials, defined as:\n",
    "\n",
    "$$\n",
    "P_n (x) = a_0 + a_1 (x-x_0) + a_2 (x-x_0) (x-x_1) + \\ cdots + a_n (x-x_0) (x-x_1) (x-x_2) \\ cdots (x-x_ {n-1})\n",
    "$$\n",
    "\n",
    "For example, Newton's polynomial to adjust three points $ (x_0, y_0) $, $ (x_1, y_1) $ and $ (x_2, y_2) $ is:\n",
    "\n",
    "$$\n",
    "P_2 (x) = a_0 + a_1 (x-x_0) + a_2 (x-x_0) (x-x_1)\n",
    "$$\n",
    "\n",
    "And in this case, we have to look for values ​​$ a_0, a_1, a_2 $ so that:\n",
    "\n",
    "\\ Begin {align}\n",
    "Y_0 & = P_2 (x_0) \\\\\n",
    "Y_1 & = P_2 (x_1) \\\\\n",
    "Y_2 & = P_2 (x_2) \n",
    "\\ end {align}\n",
    "Replacing:\n",
    "\n",
    "\\ Begin {align}\n",
    "Y_0 & = a_0 \\\\\n",
    "y_1 & = a_0 + a_1 (x_1 - x_0) \\\\\n",
    "Y_2 & = a_0 + a_1 (x_2-x_0) + a_2 (x_2-x_0) (x_2-x_1)\n",
    "\\ end {align}\n",
    "\n",
    "This system is simple to solve, starting with the first equation\n",
    "\n",
    "$$\n",
    "a_0 = y_0\n",
    "$$\n",
    "\n",
    "Continuing for the second:\n",
    "\\ Begin {align}\n",
    "y_1 & = y_0 + a_1 (x_1 - x_0) \\\\\n",
    "y_1 - y_0 & = a_1 (x_1 - x_0) \\\\\n",
    "a_1 & = \\ fraud {y_1 - y_0} {x_1 - x_0}\n",
    "\\ end {align}\n",
    "\n",
    "and finally replacing $ a_0 and $ a_1 $ in the third equation:\n",
    "\\ Begin {align}\n",
    "y_2 & = a_0 + a_1 (x_2-x_0) + a_2 (x_2-x_0) (x_2-x_1) \\\\\n",
    "y_2 & = y_0 + \\ fraud {y_1 - y_0} {x_1 - x_0} (x_2 - x_0) + a_2 (x_2 -x_0) (x_2 -x_1) \\\\\n",
    "a_2 (x_2 -x_0) (x_2 -x_1) & = y_2 - y_0 - \\ fraud {y_1 - y_0} {x_1 - x_0} (x_2 - x_0) \n",
    "\\ end {align}\n",
    "with\n",
    "\n",
    "$$\n",
    "a_2 = \\ fraud {y_2 - y_0} {(x_2 -x_0) (x_2 -x_1)} - \\ fraud {y_1 - y_0} {x_1 - x_0} \\ fraud {x_2 - x_0} {(x_2 -x_0) (x_2 -x_1) \n",
    "$$\n",
    "\n",
    "Simplifying:\n",
    "\n",
    "$$\n",
    "a_2 = \\ fraud {y_2 - y_0} {(x_2 -x_0) (x_2 -x_1)} - \\ fraud {y_1 - y_0} {(x_1 - x_0) (x_2 -x_1)}}}}  \n",
    "$$\n",
    "\n",
    "\n",
    "\n",
    "Polynomials are built in such a way that:\n",
    "\n",
    "#### They are easy to evaluate numerically\n",
    "\n",
    "For example, in the case of $ P_3 (x) $:\n",
    "\n",
    "\\ Begin {align}\n",
    "P_3 (x) & = a_0 + a_1 (x-x_0) + a_2 (x-x_0) (x-x_1) + a_3 (x-x_0) (x-x_1) (x-x_2) \\\\\n",
    "       & = a_0 + (x - x_0) \\ left [a_1 + a_2 (x - x_1) + a_3 (x -x_1) (x -x_2) \\ right] \\\\\n",
    "      & = a_0 + (x - x_0) \\ left \\ {a_1 + (x - x_1) \\ left [a_2 + a_3 (x -x_2) \\ right] \\ right \\}\n",
    "\\ end {align}\n",
    "\n",
    "that if evaluated from behind forward, it remains:\n",
    "\\ Begin {align}\n",
    "Q_0 (x) & = a_3 \\\\\n",
    "Q_1 (x) & = a_2 + q_0 (x) (x - x_2) \\\\\n",
    "Q_2 (x) & = a_1 + q_1 (x) (x - x_1) \\\\\n",
    "Q_3 (x) & = a_0 + q_2 (x) (x - x_0)\n",
    "\\ end {align}\n",
    "and obviously, $ q_3 (x) = p_3 (x) $\n",
    "\n",
    "In general\n",
    "\n",
    "$$\n",
    "Q_0 (x) = a_n \\; \\; \\; Q_k (x) = a_ {n-k} + (x-x_ {n-k}) q_ {k-1} (x)\n",
    "$$\n",
    "\n",
    "\n",
    "\n",
    "#### Find the values ​​of the coefficients is simple\n",
    "\n",
    "As we saw before, the system of equations to be solved is triangular, and is easily resolved.\n"
   ]
  },
  {
   "cell_type": "markdown",
   "metadata": {},
   "source": [
    "### Example\n",
    "\n",
    "We copy the `Newtonpoly.py` module in the Labor Board."
   ]
  },
  {
   "cell_type": "code",
   "execution_count": 5,
   "metadata": {},
   "outputs": [
    {
     "ename": "ModuleNotFoundError",
     "evalue": "No module named 'newtonPoly'",
     "output_type": "error",
     "traceback": [
      "\u001b[31m---------------------------------------------------------------------------\u001b[39m",
      "\u001b[31mModuleNotFoundError\u001b[39m                       Traceback (most recent call last)",
      "\u001b[36mCell\u001b[39m\u001b[36m \u001b[39m\u001b[32mIn[5]\u001b[39m\u001b[32m, line 1\u001b[39m\n\u001b[32m----> \u001b[39m\u001b[32m1\u001b[39m \u001b[38;5;28;01mimport\u001b[39;00m\u001b[38;5;250m \u001b[39m\u001b[34;01mnewtonPoly\u001b[39;00m\u001b[38;5;250m \u001b[39m\u001b[38;5;28;01mas\u001b[39;00m\u001b[38;5;250m \u001b[39m\u001b[34;01mnewton\u001b[39;00m\n",
      "\u001b[31mModuleNotFoundError\u001b[39m: No module named 'newtonPoly'"
     ]
    }
   ],
   "source": [
    "import newtonPoly as newton"
   ]
  },
  {
   "cell_type": "code",
   "execution_count": 6,
   "metadata": {},
   "outputs": [
    {
     "ename": "NameError",
     "evalue": "name 'newton' is not defined",
     "output_type": "error",
     "traceback": [
      "\u001b[31m---------------------------------------------------------------------------\u001b[39m",
      "\u001b[31mNameError\u001b[39m                                 Traceback (most recent call last)",
      "\u001b[36mCell\u001b[39m\u001b[36m \u001b[39m\u001b[32mIn[6]\u001b[39m\u001b[32m, line 1\u001b[39m\n\u001b[32m----> \u001b[39m\u001b[32m1\u001b[39m help(\u001b[43mnewton\u001b[49m)\n",
      "\u001b[31mNameError\u001b[39m: name 'newton' is not defined"
     ]
    }
   ],
   "source": [
    "help(newton)"
   ]
  },
  {
   "cell_type": "markdown",
   "metadata": {},
   "source": [
    "Let's evaluate the coefficients for the data we had before"
   ]
  },
  {
   "cell_type": "code",
   "execution_count": 7,
   "metadata": {},
   "outputs": [
    {
     "ename": "NameError",
     "evalue": "name 'newton' is not defined",
     "output_type": "error",
     "traceback": [
      "\u001b[31m---------------------------------------------------------------------------\u001b[39m",
      "\u001b[31mNameError\u001b[39m                                 Traceback (most recent call last)",
      "\u001b[36mCell\u001b[39m\u001b[36m \u001b[39m\u001b[32mIn[7]\u001b[39m\u001b[32m, line 1\u001b[39m\n\u001b[32m----> \u001b[39m\u001b[32m1\u001b[39m a = \u001b[43mnewton\u001b[49m.coeffts(xData,yData)\n\u001b[32m      2\u001b[39m a\n",
      "\u001b[31mNameError\u001b[39m: name 'newton' is not defined"
     ]
    }
   ],
   "source": [
    "a = newton.coeffts(xData,yData)\n",
    "a"
   ]
  },
  {
   "cell_type": "markdown",
   "metadata": {},
   "source": [
    "To graph, we generate a dense grid"
   ]
  },
  {
   "cell_type": "code",
   "execution_count": 8,
   "metadata": {},
   "outputs": [],
   "source": [
    "xpoly = np.linspace(-3,3,100)"
   ]
  },
  {
   "cell_type": "markdown",
   "metadata": {},
   "source": [
    "and we evaluate polynomial at all those points"
   ]
  },
  {
   "cell_type": "code",
   "execution_count": 9,
   "metadata": {},
   "outputs": [
    {
     "ename": "NameError",
     "evalue": "name 'newton' is not defined",
     "output_type": "error",
     "traceback": [
      "\u001b[31m---------------------------------------------------------------------------\u001b[39m",
      "\u001b[31mNameError\u001b[39m                                 Traceback (most recent call last)",
      "\u001b[36mCell\u001b[39m\u001b[36m \u001b[39m\u001b[32mIn[9]\u001b[39m\u001b[32m, line 1\u001b[39m\n\u001b[32m----> \u001b[39m\u001b[32m1\u001b[39m ypoly = \u001b[43mnewton\u001b[49m.evalPoly(a,xData,xpoly)\n",
      "\u001b[31mNameError\u001b[39m: name 'newton' is not defined"
     ]
    }
   ],
   "source": [
    "ypoly = newton.evalPoly(a,xData,xpoly)"
   ]
  },
  {
   "cell_type": "code",
   "execution_count": 10,
   "metadata": {},
   "outputs": [
    {
     "ename": "NameError",
     "evalue": "name 'ypoly' is not defined",
     "output_type": "error",
     "traceback": [
      "\u001b[31m---------------------------------------------------------------------------\u001b[39m",
      "\u001b[31mNameError\u001b[39m                                 Traceback (most recent call last)",
      "\u001b[36mCell\u001b[39m\u001b[36m \u001b[39m\u001b[32mIn[10]\u001b[39m\u001b[32m, line 2\u001b[39m\n\u001b[32m      1\u001b[39m plt.plot(xData,yData, marker = \u001b[33m'\u001b[39m\u001b[33mo\u001b[39m\u001b[33m'\u001b[39m,linestyle = \u001b[33m'\u001b[39m\u001b[33mNone\u001b[39m\u001b[33m'\u001b[39m)\n\u001b[32m----> \u001b[39m\u001b[32m2\u001b[39m plt.plot(xpoly,\u001b[43mypoly\u001b[49m,linestyle = \u001b[33m'\u001b[39m\u001b[33mdotted\u001b[39m\u001b[33m'\u001b[39m)\n\u001b[32m      3\u001b[39m plt.show()\n",
      "\u001b[31mNameError\u001b[39m: name 'ypoly' is not defined"
     ]
    },
    {
     "data": {
      "image/png": "[encoded data removed]",
      "text/plain": [
       "<Figure size 640x480 with 1 Axes>"
      ]
     },
     "metadata": {},
     "output_type": "display_data"
    }
   ],
   "source": [
    "plt.plot(xData,yData, marker = 'o',linestyle = 'None')\n",
    "plt.plot(xpoly,ypoly,linestyle = 'dotted')\n",
    "plt.show()"
   ]
  },
  {
   "cell_type": "code",
   "execution_count": 11,
   "metadata": {},
   "outputs": [
    {
     "ename": "NameError",
     "evalue": "name 'newton' is not defined",
     "output_type": "error",
     "traceback": [
      "\u001b[31m---------------------------------------------------------------------------\u001b[39m",
      "\u001b[31mNameError\u001b[39m                                 Traceback (most recent call last)",
      "\u001b[36mCell\u001b[39m\u001b[36m \u001b[39m\u001b[32mIn[11]\u001b[39m\u001b[32m, line 2\u001b[39m\n\u001b[32m      1\u001b[39m xpoly = np.linspace(-\u001b[32m4\u001b[39m,\u001b[32m4\u001b[39m,\u001b[32m100\u001b[39m)\n\u001b[32m----> \u001b[39m\u001b[32m2\u001b[39m ypoly = \u001b[43mnewton\u001b[49m.evalPoly(a,xData,xpoly)\n\u001b[32m      3\u001b[39m plt.plot(xData,yData, marker = \u001b[33m'\u001b[39m\u001b[33mo\u001b[39m\u001b[33m'\u001b[39m,linestyle = \u001b[33m'\u001b[39m\u001b[33mNone\u001b[39m\u001b[33m'\u001b[39m)\n\u001b[32m      4\u001b[39m plt.plot(xpoly,ypoly,linestyle = \u001b[33m'\u001b[39m\u001b[33mdotted\u001b[39m\u001b[33m'\u001b[39m)\n",
      "\u001b[31mNameError\u001b[39m: name 'newton' is not defined"
     ]
    }
   ],
   "source": [
    "xpoly = np.linspace(-4,4,100)\n",
    "ypoly = newton.evalPoly(a,xData,xpoly)\n",
    "plt.plot(xData,yData, marker = 'o',linestyle = 'None')\n",
    "plt.plot(xpoly,ypoly,linestyle = 'dotted')\n",
    "plt.show()"
   ]
  },
  {
   "cell_type": "markdown",
   "metadata": {},
   "source": [
    "## Interpolation to pieces (*Piecewise interpolation*)\n",
    "\n",
    "As seen in the previous example, it is difficult to find a single function that can function as an interporator, and that in turn has a soft shape. That is why interpolation methods *to pieces *are used. For that, a set of functions $ \\ {f (x) \\} $ is defined so that each of them is used to interpolate only one particular sector of the domain $ x_0, x_1, \\ cdots, x_n $.\n",
    "\n",
    "Once the interpolation has been carried out, that is, once the functions $ \\ {f (x) \\} $, the evaluation of these functions (that is, stage 2. described before) is known, requires in turn two steps:\n",
    "\n",
    "- Find what function should be used according to the $ x $ value\n",
    "- Evaluate the selected function at $ x $\n",
    "\n",
    "The first step is usually known as *lookup *.\n",
    "\n",
    "We will see in detail the example of the *linear interpolation *."
   ]
  },
  {
   "cell_type": "markdown",
   "metadata": {},
   "source": [
    "### Linear interpolation\n",
    "\n",
    "Undoubtedly, linear interpolation is the most used in medical physics. It consists in defining linear functions that will be used to interpolate all the values ​​of $ x $ between two adjacent abscissas $ x_i $ and $ x_ {i+1} $:\n",
    "\n",
    "$$\n",
    "p_i (x) = \\ fraud {y_ {i+1} - y_i} {x_ {i+1} - x_i} (x - x_i)+y_i\n",
    "$$\n",
    "\n",
    "Indeed, \n",
    "\n",
    "$$\n",
    "p_i (x_i) = \\ fraud {y_ {i+1} - y_i} {x_ {i+1} - x_i} (x_i - x_i)+y_i = \\ fraud\n",
    "$$\n",
    "\n",
    "while\n",
    "\n",
    "$$\n",
    "p_i (x_ {i+1}) = \\ fraud\n",
    "$$\n",
    "\n",
    "That is to say that the function $ p_i (x) $ verifies the interpolation condition at $ x_i $ and $ x_ {i+1} $.\n"
   ]
  },
  {
   "cell_type": "code",
   "execution_count": 12,
   "metadata": {},
   "outputs": [
    {
     "data": {
      "image/png": "[encoded data removed]",
      "text/plain": [
       "<Figure size 640x480 with 1 Axes>"
      ]
     },
     "metadata": {},
     "output_type": "display_data"
    }
   ],
   "source": [
    "plt.plot(xData,yData, marker = 'o',linestyle = 'dashed')\n",
    "plt.show()"
   ]
  },
  {
   "cell_type": "markdown",
   "metadata": {},
   "source": [
    "### Cubic Splines\n",
    "\n",
    "The other type of interpolation frequently corresponds to the so -called *cubic splines *. These are third order polynomials that are built between two contiguous abscissa $ x_i $ and $ x_ {i+1} $. However, in these cases, in addition to the conditions \n",
    "\n",
    "\\ Begin {align}\n",
    "y_i & = f (x_i) \\\\\n",
    "y_ {i+1} & = f (x_ {i+1}),\n",
    "\\ end {align}\n",
    "\n",
    "It is necessary to impose extra conditions since a polynomial of order 3 has 4 coefficients to be determined. In general, conditions can be imposed on the first derivatives of the function:\n",
    "\\ Begin {align}\n",
    "y_i & = f '(x_i) \\\\\n",
    "and '_ {i+1} & = f' (x_ {i+1}),\n",
    "\\ end {align}\n",
    "Or the most common case, of the natural splines * in which it is requested\n",
    "\\ Begin {align}\n",
    "f '' (x_i) & = 0 \\\\\n",
    "f '' (x_ {i+1}) & = 0.\n",
    "\\ end {align}\n",
    "\n",
    "The algebra to obtain them is a cumbersome, so they can consult it XX_MARKDOWN_LINK_XX.\n"
   ]
  },
  {
   "cell_type": "markdown",
   "metadata": {},
   "source": [
    "## Rescue modules: Scipy\n",
    "\n",
    "Fortunately, there is a module that does this kind of thing, and many more. This is the module XX_MarkDown_link_xx. In particular, we will use the `interpolate`:"
   ]
  },
  {
   "cell_type": "code",
   "execution_count": 13,
   "metadata": {},
   "outputs": [
    {
     "ename": "ModuleNotFoundError",
     "evalue": "No module named 'scipy'",
     "output_type": "error",
     "traceback": [
      "\u001b[31m---------------------------------------------------------------------------\u001b[39m",
      "\u001b[31mModuleNotFoundError\u001b[39m                       Traceback (most recent call last)",
      "\u001b[36mCell\u001b[39m\u001b[36m \u001b[39m\u001b[32mIn[13]\u001b[39m\u001b[32m, line 1\u001b[39m\n\u001b[32m----> \u001b[39m\u001b[32m1\u001b[39m \u001b[38;5;28;01mfrom\u001b[39;00m\u001b[38;5;250m \u001b[39m\u001b[34;01mscipy\u001b[39;00m\u001b[34;01m.\u001b[39;00m\u001b[34;01minterpolate\u001b[39;00m\u001b[38;5;250m \u001b[39m\u001b[38;5;28;01mimport\u001b[39;00m interp1d\n",
      "\u001b[31mModuleNotFoundError\u001b[39m: No module named 'scipy'"
     ]
    }
   ],
   "source": [
    "from scipy.interpolate import interp1d"
   ]
  },
  {
   "cell_type": "markdown",
   "metadata": {},
   "source": [
    "#### Linear interpolation"
   ]
  },
  {
   "cell_type": "code",
   "execution_count": 14,
   "metadata": {},
   "outputs": [
    {
     "ename": "NameError",
     "evalue": "name 'interp1d' is not defined",
     "output_type": "error",
     "traceback": [
      "\u001b[31m---------------------------------------------------------------------------\u001b[39m",
      "\u001b[31mNameError\u001b[39m                                 Traceback (most recent call last)",
      "\u001b[36mCell\u001b[39m\u001b[36m \u001b[39m\u001b[32mIn[14]\u001b[39m\u001b[32m, line 1\u001b[39m\n\u001b[32m----> \u001b[39m\u001b[32m1\u001b[39m f_lineal = \u001b[43minterp1d\u001b[49m(xData,yData)  \u001b[38;5;66;03m# By default, interp1d interpolation is linear\u001b[39;00m\n\u001b[32m      2\u001b[39m xs = np.linspace(-\u001b[32m3\u001b[39m,\u001b[32m3\u001b[39m,\u001b[32m100\u001b[39m)\n\u001b[32m      3\u001b[39m ylineal = f_lineal(xs)\n",
      "\u001b[31mNameError\u001b[39m: name 'interp1d' is not defined"
     ]
    }
   ],
   "source": [
    "f_lineal = interp1d(xData,yData)  # By default, interp1d interpolation is linear\n",
    "xs = np.linspace(-3,3,100)\n",
    "ylineal = f_lineal(xs)\n",
    "\n",
    "plt.plot(xData,yData, marker = 'o',linestyle = 'None')\n",
    "plt.plot(xs,ylineal,linestyle = 'dotted')\n",
    "plt.show()"
   ]
  },
  {
   "cell_type": "code",
   "execution_count": 15,
   "metadata": {},
   "outputs": [
    {
     "ename": "NameError",
     "evalue": "name 'f_lineal' is not defined",
     "output_type": "error",
     "traceback": [
      "\u001b[31m---------------------------------------------------------------------------\u001b[39m",
      "\u001b[31mNameError\u001b[39m                                 Traceback (most recent call last)",
      "\u001b[36mCell\u001b[39m\u001b[36m \u001b[39m\u001b[32mIn[15]\u001b[39m\u001b[32m, line 1\u001b[39m\n\u001b[32m----> \u001b[39m\u001b[32m1\u001b[39m \u001b[38;5;28mprint\u001b[39m(\u001b[43mf_lineal\u001b[49m(\u001b[32m0.5\u001b[39m))\n",
      "\u001b[31mNameError\u001b[39m: name 'f_lineal' is not defined"
     ]
    }
   ],
   "source": [
    "print(f_lineal(0.5))"
   ]
  },
  {
   "cell_type": "markdown",
   "metadata": {},
   "source": [
    "#### Quadratic interpolation"
   ]
  },
  {
   "cell_type": "code",
   "execution_count": 16,
   "metadata": {
    "scrolled": true
   },
   "outputs": [
    {
     "ename": "NameError",
     "evalue": "name 'interp1d' is not defined",
     "output_type": "error",
     "traceback": [
      "\u001b[31m---------------------------------------------------------------------------\u001b[39m",
      "\u001b[31mNameError\u001b[39m                                 Traceback (most recent call last)",
      "\u001b[36mCell\u001b[39m\u001b[36m \u001b[39m\u001b[32mIn[16]\u001b[39m\u001b[32m, line 1\u001b[39m\n\u001b[32m----> \u001b[39m\u001b[32m1\u001b[39m f_quad = \u001b[43minterp1d\u001b[49m(xData,yData,kind=\u001b[33m'\u001b[39m\u001b[33mquadratic\u001b[39m\u001b[33m'\u001b[39m) \u001b[38;5;66;03m# Defining the Kind parameter, other interpolations are obtained\u001b[39;00m\n\u001b[32m      2\u001b[39m yquad = f_quad(xs)\n\u001b[32m      4\u001b[39m plt.plot(xData,yData, marker = \u001b[33m'\u001b[39m\u001b[33mo\u001b[39m\u001b[33m'\u001b[39m,linestyle = \u001b[33m'\u001b[39m\u001b[33mNone\u001b[39m\u001b[33m'\u001b[39m)\n",
      "\u001b[31mNameError\u001b[39m: name 'interp1d' is not defined"
     ]
    }
   ],
   "source": [
    "f_quad = interp1d(xData,yData,kind='quadratic') # Defining the Kind parameter, other interpolations are obtained\n",
    "yquad = f_quad(xs)\n",
    "\n",
    "plt.plot(xData,yData, marker = 'o',linestyle = 'None')\n",
    "plt.plot(xs,yquad,linestyle = 'dotted')\n",
    "plt.show()"
   ]
  },
  {
   "cell_type": "markdown",
   "metadata": {},
   "source": [
    "#### Cubic interpolation"
   ]
  },
  {
   "cell_type": "code",
   "execution_count": 17,
   "metadata": {
    "scrolled": true
   },
   "outputs": [
    {
     "ename": "NameError",
     "evalue": "name 'interp1d' is not defined",
     "output_type": "error",
     "traceback": [
      "\u001b[31m---------------------------------------------------------------------------\u001b[39m",
      "\u001b[31mNameError\u001b[39m                                 Traceback (most recent call last)",
      "\u001b[36mCell\u001b[39m\u001b[36m \u001b[39m\u001b[32mIn[17]\u001b[39m\u001b[32m, line 1\u001b[39m\n\u001b[32m----> \u001b[39m\u001b[32m1\u001b[39m f_cubic = \u001b[43minterp1d\u001b[49m(xData,yData,kind=\u001b[33m'\u001b[39m\u001b[33mcubic\u001b[39m\u001b[33m'\u001b[39m) \u001b[38;5;66;03m# Defining the Kind parameter, other interpolations are obtained\u001b[39;00m\n\u001b[32m      2\u001b[39m ycubic = f_cubic(xs)\n\u001b[32m      4\u001b[39m plt.plot(xData,yData, marker = \u001b[33m'\u001b[39m\u001b[33mo\u001b[39m\u001b[33m'\u001b[39m,linestyle = \u001b[33m'\u001b[39m\u001b[33mNone\u001b[39m\u001b[33m'\u001b[39m)\n",
      "\u001b[31mNameError\u001b[39m: name 'interp1d' is not defined"
     ]
    }
   ],
   "source": [
    "f_cubic = interp1d(xData,yData,kind='cubic') # Defining the Kind parameter, other interpolations are obtained\n",
    "ycubic = f_cubic(xs)\n",
    "\n",
    "plt.plot(xData,yData, marker = 'o',linestyle = 'None')\n",
    "plt.plot(xs,ycubic,linestyle = 'dotted')\n",
    "plt.show()"
   ]
  },
  {
   "cell_type": "markdown",
   "metadata": {},
   "source": [
    "We graph all adjustments together:"
   ]
  },
  {
   "cell_type": "code",
   "execution_count": 18,
   "metadata": {},
   "outputs": [
    {
     "ename": "NameError",
     "evalue": "name 'xs' is not defined",
     "output_type": "error",
     "traceback": [
      "\u001b[31m---------------------------------------------------------------------------\u001b[39m",
      "\u001b[31mNameError\u001b[39m                                 Traceback (most recent call last)",
      "\u001b[36mCell\u001b[39m\u001b[36m \u001b[39m\u001b[32mIn[18]\u001b[39m\u001b[32m, line 2\u001b[39m\n\u001b[32m      1\u001b[39m plt.plot(xData,yData, marker = \u001b[33m'\u001b[39m\u001b[33mo\u001b[39m\u001b[33m'\u001b[39m,linestyle = \u001b[33m'\u001b[39m\u001b[33mNone\u001b[39m\u001b[33m'\u001b[39m)\n\u001b[32m----> \u001b[39m\u001b[32m2\u001b[39m plt.plot(\u001b[43mxs\u001b[49m,ylineal,linestyle = \u001b[33m'\u001b[39m\u001b[33msolid\u001b[39m\u001b[33m'\u001b[39m)\n\u001b[32m      3\u001b[39m plt.plot(xs,yquad,linestyle = \u001b[33m'\u001b[39m\u001b[33mdashed\u001b[39m\u001b[33m'\u001b[39m)\n\u001b[32m      4\u001b[39m plt.plot(xs,ycubic,linestyle = \u001b[33m'\u001b[39m\u001b[33mdotted\u001b[39m\u001b[33m'\u001b[39m)\n",
      "\u001b[31mNameError\u001b[39m: name 'xs' is not defined"
     ]
    },
    {
     "data": {
      "image/png": "[encoded data removed]",
      "text/plain": [
       "<Figure size 640x480 with 1 Axes>"
      ]
     },
     "metadata": {},
     "output_type": "display_data"
    }
   ],
   "source": [
    "plt.plot(xData,yData, marker = 'o',linestyle = 'None')\n",
    "plt.plot(xs,ylineal,linestyle = 'solid')\n",
    "plt.plot(xs,yquad,linestyle = 'dashed')\n",
    "plt.plot(xs,ycubic,linestyle = 'dotted')\n",
    "plt.show()"
   ]
  },
  {
   "cell_type": "markdown",
   "metadata": {},
   "source": [
    "## Fiteo of curves\n",
    "\n",
    "Another frequent task is to adjust parameters of an objective function from a * dataset * of known points. \n",
    "\n",
    "Suppose we have a series of measured data"
   ]
  },
  {
   "cell_type": "code",
   "execution_count": 19,
   "metadata": {},
   "outputs": [],
   "source": [
    "xdata = np.array([0.        , 0.08163265, 0.16326531, 0.24489796, 0.32653061,\n",
    "       0.40816327, 0.48979592, 0.57142857, 0.65306122, 0.73469388,\n",
    "       0.81632653, 0.89795918, 0.97959184, 1.06122449, 1.14285714,\n",
    "       1.2244898 , 1.30612245, 1.3877551 , 1.46938776, 1.55102041,\n",
    "       1.63265306, 1.71428571, 1.79591837, 1.87755102, 1.95918367,\n",
    "       2.04081633, 2.12244898, 2.20408163, 2.28571429, 2.36734694,\n",
    "       2.44897959, 2.53061224, 2.6122449 , 2.69387755, 2.7755102 ,\n",
    "       2.85714286, 2.93877551, 3.02040816, 3.10204082, 3.18367347,\n",
    "       3.26530612, 3.34693878, 3.42857143, 3.51020408, 3.59183673,\n",
    "       3.67346939, 3.75510204, 3.83673469, 3.91836735, 4.        ])\n",
    "\n",
    "ydata = np.array([ 2.86176601,  2.57905526,  2.70036593,  2.63066436,  1.8035502 ,\n",
    "        1.69507105,  1.71332572,  1.19968728,  1.53954472,  1.19541914,\n",
    "        0.90611978,  0.7115336 ,  0.80780086,  0.64485915,  0.85535322,\n",
    "        0.61878794,  0.69171233,  0.64694833,  0.23714098,  0.18498906,\n",
    "        0.58324814,  0.13810763,  0.12359655,  0.33529197,  0.15601467,\n",
    "        0.59733706,  0.35817119,  0.11824581,  0.08785438,  0.49333643,\n",
    "       -0.09737018, -0.11026946,  0.27281943,  0.10931485,  0.27558412,\n",
    "       -0.27575616,  0.21938698, -0.05069495, -0.03916167,  0.28574475,\n",
    "        0.15924156, -0.21736918,  0.1431817 , -0.1881811 ,  0.00901724,\n",
    "       -0.31409179, -0.11894992, -0.11414616,  0.01245554,  0.04917944])"
   ]
  },
  {
   "cell_type": "code",
   "execution_count": 20,
   "metadata": {},
   "outputs": [
    {
     "name": "stdout",
     "output_type": "stream",
     "text": [
      "50\n"
     ]
    }
   ],
   "source": [
    "print(len(ydata))"
   ]
  },
  {
   "cell_type": "code",
   "execution_count": 21,
   "metadata": {},
   "outputs": [
    {
     "data": {
      "image/png": "[encoded data removed]",
      "text/plain": [
       "<Figure size 640x480 with 1 Axes>"
      ]
     },
     "metadata": {},
     "output_type": "display_data"
    }
   ],
   "source": [
    "plt.plot(xdata, ydata, 'xb', label='DATOS')\n",
    "plt.show()\n"
   ]
  },
  {
   "cell_type": "code",
   "execution_count": 22,
   "metadata": {},
   "outputs": [],
   "source": [
    "def func(x, a, b, c, d):\n",
    "    return a * np.exp(-b * x) + c * np.exp(-d * x)\n"
   ]
  },
  {
   "cell_type": "code",
   "execution_count": 23,
   "metadata": {},
   "outputs": [
    {
     "ename": "ModuleNotFoundError",
     "evalue": "No module named 'scipy'",
     "output_type": "error",
     "traceback": [
      "\u001b[31m---------------------------------------------------------------------------\u001b[39m",
      "\u001b[31mModuleNotFoundError\u001b[39m                       Traceback (most recent call last)",
      "\u001b[36mCell\u001b[39m\u001b[36m \u001b[39m\u001b[32mIn[23]\u001b[39m\u001b[32m, line 1\u001b[39m\n\u001b[32m----> \u001b[39m\u001b[32m1\u001b[39m \u001b[38;5;28;01mfrom\u001b[39;00m\u001b[38;5;250m \u001b[39m\u001b[34;01mscipy\u001b[39;00m\u001b[34;01m.\u001b[39;00m\u001b[34;01moptimize\u001b[39;00m\u001b[38;5;250m \u001b[39m\u001b[38;5;28;01mimport\u001b[39;00m curve_fit\n\u001b[32m      4\u001b[39m popt, pcov = curve_fit(func, xdata, ydata)\n\u001b[32m      5\u001b[39m \u001b[38;5;28mprint\u001b[39m(popt)\n",
      "\u001b[31mModuleNotFoundError\u001b[39m: No module named 'scipy'"
     ]
    }
   ],
   "source": [
    "from scipy.optimize import curve_fit\n",
    "\n",
    "\n",
    "popt, pcov = curve_fit(func, xdata, ydata)\n",
    "print(popt)\n",
    "\n",
    "y1 = func(xdata, popt[0],popt[1],popt[2],popt[3])\n",
    "# \n",
    "# A compact way of creating Y1 is:\n",
    "# Y1 = Func (xdata, *popt)\n",
    "# instead of 'unwinding POPT in its components [0] .. [3]\n",
    "\n",
    "plt.plot(xdata, y1, 'r-', label='FITEO 1')\n",
    "\n",
    "popt, pcov = curve_fit(func, xdata, ydata, bounds=(0, [3., 1., 0.5, 4.]))\n",
    "y2 = func(xdata, *popt)\n",
    "plt.plot(xdata, y2, 'g--', label='FITEO 2')   \n",
    "\n",
    "plt.plot(xdata, ydata, 'xb', label='DATOS')\n",
    "plt.xlabel('x')\n",
    "plt.ylabel('y')\n",
    "plt.legend()\n",
    "plt.show()\n"
   ]
  },
  {
   "cell_type": "code",
   "execution_count": 24,
   "metadata": {},
   "outputs": [
    {
     "ename": "NameError",
     "evalue": "name 'curve_fit' is not defined",
     "output_type": "error",
     "traceback": [
      "\u001b[31m---------------------------------------------------------------------------\u001b[39m",
      "\u001b[31mNameError\u001b[39m                                 Traceback (most recent call last)",
      "\u001b[36mCell\u001b[39m\u001b[36m \u001b[39m\u001b[32mIn[24]\u001b[39m\u001b[32m, line 1\u001b[39m\n\u001b[32m----> \u001b[39m\u001b[32m1\u001b[39m help(\u001b[43mcurve_fit\u001b[49m)\n",
      "\u001b[31mNameError\u001b[39m: name 'curve_fit' is not defined"
     ]
    }
   ],
   "source": [
    "help(curve_fit)"
   ]
  },
  {
   "cell_type": "code",
   "execution_count": 25,
   "metadata": {},
   "outputs": [
    {
     "ename": "NameError",
     "evalue": "name 'pcov' is not defined",
     "output_type": "error",
     "traceback": [
      "\u001b[31m---------------------------------------------------------------------------\u001b[39m",
      "\u001b[31mNameError\u001b[39m                                 Traceback (most recent call last)",
      "\u001b[36mCell\u001b[39m\u001b[36m \u001b[39m\u001b[32mIn[25]\u001b[39m\u001b[32m, line 1\u001b[39m\n\u001b[32m----> \u001b[39m\u001b[32m1\u001b[39m \u001b[38;5;28mprint\u001b[39m(\u001b[43mpcov\u001b[49m)\n\u001b[32m      2\u001b[39m perr = np.sqrt(np.diag(pcov))\n\u001b[32m      3\u001b[39m perr\n",
      "\u001b[31mNameError\u001b[39m: name 'pcov' is not defined"
     ]
    }
   ],
   "source": [
    "print(pcov)\n",
    "perr = np.sqrt(np.diag(pcov))\n",
    "perr"
   ]
  }
 ],
 "metadata": {
  "kernelspec": {
   "display_name": "Python 3",
   "language": "python",
   "name": "python3"
  },
  "language_info": {
   "codemirror_mode": {
    "name": "ipython",
    "version": 3
   },
   "file_extension": ".py",
   "mimetype": "text/x-python",
   "name": "python",
   "nbconvert_exporter": "python",
   "pygments_lexer": "ipython3",
   "version": "3.12.8"
  }
 },
 "nbformat": 4,
 "nbformat_minor": 2
}