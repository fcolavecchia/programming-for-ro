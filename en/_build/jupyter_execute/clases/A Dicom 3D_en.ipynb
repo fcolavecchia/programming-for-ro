{
 "cells": [
  {
   "cell_type": "markdown",
   "metadata": {},
   "source": [
    "# Medical Images - Dicom 3D"
   ]
  },
  {
   "cell_type": "code",
   "execution_count": 1,
   "metadata": {},
   "outputs": [],
   "source": [
    "import matplotlib.pyplot as plt\n",
    "import numpy as np\n",
    "import pydicom"
   ]
  },
  {
   "cell_type": "markdown",
   "metadata": {},
   "source": [
    "### Open a Dicom file"
   ]
  },
  {
   "cell_type": "code",
   "execution_count": 2,
   "metadata": {},
   "outputs": [
    {
     "ename": "FileNotFoundError",
     "evalue": "[Errno 2] No such file or directory: '../Assets/CT/IM-0001-0200-0001.dcm'",
     "output_type": "error",
     "traceback": [
      "\u001b[31m---------------------------------------------------------------------------\u001b[39m",
      "\u001b[31mFileNotFoundError\u001b[39m                         Traceback (most recent call last)",
      "\u001b[36mCell\u001b[39m\u001b[36m \u001b[39m\u001b[32mIn[2]\u001b[39m\u001b[32m, line 1\u001b[39m\n\u001b[32m----> \u001b[39m\u001b[32m1\u001b[39m DCM = \u001b[43mpydicom\u001b[49m\u001b[43m.\u001b[49m\u001b[43mdcmread\u001b[49m\u001b[43m(\u001b[49m\u001b[33;43mr\u001b[39;49m\u001b[33;43m'\u001b[39;49m\u001b[33;43m../Assets/CT/IM-0001-0200-0001.dcm\u001b[39;49m\u001b[33;43m'\u001b[39;49m\u001b[43m)\u001b[49m\n",
      "\u001b[36mFile \u001b[39m\u001b[32m~/Codes/GitHub/taller-de-informatica/.venv/lib/python3.12/site-packages/pydicom/filereader.py:1042\u001b[39m, in \u001b[36mdcmread\u001b[39m\u001b[34m(fp, defer_size, stop_before_pixels, force, specific_tags)\u001b[39m\n\u001b[32m   1040\u001b[39m     caller_owns_file = \u001b[38;5;28;01mFalse\u001b[39;00m\n\u001b[32m   1041\u001b[39m     logger.debug(\u001b[33mf\u001b[39m\u001b[33m\"\u001b[39m\u001b[33mReading file \u001b[39m\u001b[33m'\u001b[39m\u001b[38;5;132;01m{\u001b[39;00mfp\u001b[38;5;132;01m}\u001b[39;00m\u001b[33m'\u001b[39m\u001b[33m\"\u001b[39m)\n\u001b[32m-> \u001b[39m\u001b[32m1042\u001b[39m     fp = \u001b[38;5;28;43mopen\u001b[39;49m\u001b[43m(\u001b[49m\u001b[43mfp\u001b[49m\u001b[43m,\u001b[49m\u001b[43m \u001b[49m\u001b[33;43m\"\u001b[39;49m\u001b[33;43mrb\u001b[39;49m\u001b[33;43m\"\u001b[39;49m\u001b[43m)\u001b[49m\n\u001b[32m   1043\u001b[39m \u001b[38;5;28;01melif\u001b[39;00m (\n\u001b[32m   1044\u001b[39m     fp \u001b[38;5;129;01mis\u001b[39;00m \u001b[38;5;28;01mNone\u001b[39;00m\n\u001b[32m   1045\u001b[39m     \u001b[38;5;129;01mor\u001b[39;00m \u001b[38;5;129;01mnot\u001b[39;00m \u001b[38;5;28mhasattr\u001b[39m(fp, \u001b[33m\"\u001b[39m\u001b[33mread\u001b[39m\u001b[33m\"\u001b[39m)\n\u001b[32m   1046\u001b[39m     \u001b[38;5;129;01mor\u001b[39;00m \u001b[38;5;129;01mnot\u001b[39;00m \u001b[38;5;28mhasattr\u001b[39m(fp, \u001b[33m\"\u001b[39m\u001b[33mseek\u001b[39m\u001b[33m\"\u001b[39m)\n\u001b[32m   1047\u001b[39m     \u001b[38;5;129;01mor\u001b[39;00m \u001b[38;5;129;01mnot\u001b[39;00m \u001b[38;5;28mhasattr\u001b[39m(fp, \u001b[33m\"\u001b[39m\u001b[33mtell\u001b[39m\u001b[33m\"\u001b[39m)\n\u001b[32m   1048\u001b[39m ):\n\u001b[32m   1049\u001b[39m     \u001b[38;5;28;01mraise\u001b[39;00m \u001b[38;5;167;01mTypeError\u001b[39;00m(\n\u001b[32m   1050\u001b[39m         \u001b[33m\"\u001b[39m\u001b[33mdcmread: Expected a file path, file-like or readable buffer, \u001b[39m\u001b[33m\"\u001b[39m\n\u001b[32m   1051\u001b[39m         \u001b[33mf\u001b[39m\u001b[33m\"\u001b[39m\u001b[33mbut got \u001b[39m\u001b[38;5;132;01m{\u001b[39;00m\u001b[38;5;28mtype\u001b[39m(fp).\u001b[34m__name__\u001b[39m\u001b[38;5;132;01m}\u001b[39;00m\u001b[33m\"\u001b[39m\n\u001b[32m   1052\u001b[39m     )\n",
      "\u001b[31mFileNotFoundError\u001b[39m: [Errno 2] No such file or directory: '../Assets/CT/IM-0001-0200-0001.dcm'"
     ]
    }
   ],
   "source": [
    "DCM = pydicom.dcmread(r'../Assets/CT/IM-0001-0200-0001.dcm')"
   ]
  },
  {
   "cell_type": "code",
   "execution_count": 3,
   "metadata": {},
   "outputs": [
    {
     "ename": "NameError",
     "evalue": "name 'DCM' is not defined",
     "output_type": "error",
     "traceback": [
      "\u001b[31m---------------------------------------------------------------------------\u001b[39m",
      "\u001b[31mNameError\u001b[39m                                 Traceback (most recent call last)",
      "\u001b[36mCell\u001b[39m\u001b[36m \u001b[39m\u001b[32mIn[3]\u001b[39m\u001b[32m, line 1\u001b[39m\n\u001b[32m----> \u001b[39m\u001b[32m1\u001b[39m \u001b[38;5;28mtype\u001b[39m(\u001b[43mDCM\u001b[49m)\n",
      "\u001b[31mNameError\u001b[39m: name 'DCM' is not defined"
     ]
    }
   ],
   "source": [
    "type(DCM)"
   ]
  },
  {
   "cell_type": "code",
   "execution_count": 4,
   "metadata": {},
   "outputs": [
    {
     "ename": "NameError",
     "evalue": "name 'DCM' is not defined",
     "output_type": "error",
     "traceback": [
      "\u001b[31m---------------------------------------------------------------------------\u001b[39m",
      "\u001b[31mNameError\u001b[39m                                 Traceback (most recent call last)",
      "\u001b[36mCell\u001b[39m\u001b[36m \u001b[39m\u001b[32mIn[4]\u001b[39m\u001b[32m, line 1\u001b[39m\n\u001b[32m----> \u001b[39m\u001b[32m1\u001b[39m \u001b[43mDCM\u001b[49m\n",
      "\u001b[31mNameError\u001b[39m: name 'DCM' is not defined"
     ]
    }
   ],
   "source": [
    "DCM"
   ]
  },
  {
   "cell_type": "markdown",
   "metadata": {},
   "source": [
    "To access each of the attributes of the DICOM file the name of the attribute is used"
   ]
  },
  {
   "cell_type": "code",
   "execution_count": 5,
   "metadata": {},
   "outputs": [
    {
     "ename": "NameError",
     "evalue": "name 'DCM' is not defined",
     "output_type": "error",
     "traceback": [
      "\u001b[31m---------------------------------------------------------------------------\u001b[39m",
      "\u001b[31mNameError\u001b[39m                                 Traceback (most recent call last)",
      "\u001b[36mCell\u001b[39m\u001b[36m \u001b[39m\u001b[32mIn[5]\u001b[39m\u001b[32m, line 1\u001b[39m\n\u001b[32m----> \u001b[39m\u001b[32m1\u001b[39m \u001b[43mDCM\u001b[49m.PatientName\n",
      "\u001b[31mNameError\u001b[39m: name 'DCM' is not defined"
     ]
    }
   ],
   "source": [
    "DCM.PatientName"
   ]
  },
  {
   "cell_type": "code",
   "execution_count": 6,
   "metadata": {},
   "outputs": [
    {
     "ename": "NameError",
     "evalue": "name 'DCM' is not defined",
     "output_type": "error",
     "traceback": [
      "\u001b[31m---------------------------------------------------------------------------\u001b[39m",
      "\u001b[31mNameError\u001b[39m                                 Traceback (most recent call last)",
      "\u001b[36mCell\u001b[39m\u001b[36m \u001b[39m\u001b[32mIn[6]\u001b[39m\u001b[32m, line 1\u001b[39m\n\u001b[32m----> \u001b[39m\u001b[32m1\u001b[39m \u001b[43mDCM\u001b[49m.StudyDescription\n",
      "\u001b[31mNameError\u001b[39m: name 'DCM' is not defined"
     ]
    }
   ],
   "source": [
    "DCM.StudyDescription"
   ]
  },
  {
   "cell_type": "code",
   "execution_count": 7,
   "metadata": {},
   "outputs": [
    {
     "ename": "NameError",
     "evalue": "name 'DCM' is not defined",
     "output_type": "error",
     "traceback": [
      "\u001b[31m---------------------------------------------------------------------------\u001b[39m",
      "\u001b[31mNameError\u001b[39m                                 Traceback (most recent call last)",
      "\u001b[36mCell\u001b[39m\u001b[36m \u001b[39m\u001b[32mIn[7]\u001b[39m\u001b[32m, line 1\u001b[39m\n\u001b[32m----> \u001b[39m\u001b[32m1\u001b[39m \u001b[43mDCM\u001b[49m.ProtocolName\n",
      "\u001b[31mNameError\u001b[39m: name 'DCM' is not defined"
     ]
    }
   ],
   "source": [
    "DCM.ProtocolName"
   ]
  },
  {
   "cell_type": "markdown",
   "metadata": {},
   "source": [
    "But I also have the information from the TAG, using the group and element on hexadecimal:"
   ]
  },
  {
   "cell_type": "code",
   "execution_count": 8,
   "metadata": {},
   "outputs": [
    {
     "ename": "NameError",
     "evalue": "name 'DCM' is not defined",
     "output_type": "error",
     "traceback": [
      "\u001b[31m---------------------------------------------------------------------------\u001b[39m",
      "\u001b[31mNameError\u001b[39m                                 Traceback (most recent call last)",
      "\u001b[36mCell\u001b[39m\u001b[36m \u001b[39m\u001b[32mIn[8]\u001b[39m\u001b[32m, line 1\u001b[39m\n\u001b[32m----> \u001b[39m\u001b[32m1\u001b[39m \u001b[38;5;28mprint\u001b[39m(\u001b[33m\"\u001b[39m\u001b[33mTag  :\u001b[39m\u001b[33m\"\u001b[39m,\u001b[43mDCM\u001b[49m[\u001b[32m0x0018\u001b[39m,\u001b[32m0x1030\u001b[39m].tag)\n\u001b[32m      2\u001b[39m \u001b[38;5;28mprint\u001b[39m(\u001b[33m\"\u001b[39m\u001b[33mVR   :\u001b[39m\u001b[33m\"\u001b[39m,DCM[\u001b[32m0x0018\u001b[39m,\u001b[32m0x1030\u001b[39m].VR)\n\u001b[32m      3\u001b[39m \u001b[38;5;28mprint\u001b[39m(\u001b[33m\"\u001b[39m\u001b[33mvalor:\u001b[39m\u001b[33m\"\u001b[39m,DCM[\u001b[32m0x0018\u001b[39m,\u001b[32m0x1030\u001b[39m].value)\n",
      "\u001b[31mNameError\u001b[39m: name 'DCM' is not defined"
     ]
    }
   ],
   "source": [
    "print(\"Tag  :\",DCM[0x0018,0x1030].tag)\n",
    "print(\"VR   :\",DCM[0x0018,0x1030].VR)\n",
    "print(\"valor:\",DCM[0x0018,0x1030].value)"
   ]
  },
  {
   "cell_type": "markdown",
   "metadata": {},
   "source": [
    "#### typical visualization windows in CT\n",
    "\n",
    "- Head and neck\n",
    "    - Brain W: 80 C: 40\n",
    "    -W: 130-300 c: 50-100\n",
    "    - ACV W: 8 C: 32 / W: 40 C: 40\n",
    "    - Bone W: 2800 C: 600\n",
    "    - soft fabric: W: 350–400 C: 20–60\n",
    "    \n",
    "- Chest\n",
    "    - Lungs W: 1500 C: -600\n",
    "    - Mediastino W: 350 C: 50\n",
    "    \n",
    "- Abdomen\n",
    "    - soft fabric W: 400 c: 50\n",
    "    - Liver W: 150 C: 30\n",
    "\n",
    "- Column\n",
    "    - Soft fabric W: 250 C: 50\n",
    "    - Bone W: 1800 C: 400\n"
   ]
  },
  {
   "cell_type": "markdown",
   "metadata": {},
   "source": [
    "## Multipanar reconstruction\n",
    "\n",
    "Tomographies are a set of images (cuts, slices) that are acquired in the same diagnostic act. That is why they allow reconstructions, that is, to obtain an image in any plane that intersects the overturned volume. \n",
    "\n",
    "It is usually established to use the tranversal, coronal and sagittal cuts to analyze the image.\n"
   ]
  },
  {
   "cell_type": "markdown",
   "metadata": {},
   "source": [
    "### 1 Load all the cuts of tomography\n",
    "\n",
    "In order to make a reconstruction, it is necessary to have all the tomographic cuts. For them we are going to use the `Glob` module, which allows access to the complete information of a directory on our computer."
   ]
  },
  {
   "cell_type": "code",
   "execution_count": 9,
   "metadata": {},
   "outputs": [
    {
     "name": "stdout",
     "output_type": "stream",
     "text": [
      "<class 'list'>\n",
      "[]\n",
      "0\n"
     ]
    }
   ],
   "source": [
    "import glob\n",
    "\n",
    "directorio = '../Assets/CT/*.dcm'\n",
    "\n",
    "archivos = glob.glob(directorio, recursive=False)\n",
    "\n",
    "print(type(archivos))\n",
    "print(archivos[0:10])\n",
    "print(len(archivos))\n"
   ]
  },
  {
   "cell_type": "markdown",
   "metadata": {},
   "source": [
    "You can see that `Glob.glob` return in` files' a list of files in the directory. However, the file list is messy. To do this, we have to make a parenthesis and analyze how to order the list."
   ]
  },
  {
   "cell_type": "markdown",
   "metadata": {},
   "source": [
    "#### *Intermezzo *: Sort and mutability \n",
    "\n",
    "Python, of course, gives us the `SORTED` function that can order a list. But it also gives us the `Sort` method that rearranges a list. What is the difference? Let's see:\n"
   ]
  },
  {
   "cell_type": "code",
   "execution_count": 10,
   "metadata": {},
   "outputs": [
    {
     "name": "stdout",
     "output_type": "stream",
     "text": [
      "[5, 4, 3, 1]\n"
     ]
    }
   ],
   "source": [
    "a = [3,4,1,5]\n",
    "b = sorted(a,reverse = True)\n",
    "print(b)"
   ]
  },
  {
   "cell_type": "code",
   "execution_count": 11,
   "metadata": {},
   "outputs": [
    {
     "name": "stdout",
     "output_type": "stream",
     "text": [
      "['monoambiente', 'casa', 'departamento']\n",
      "None\n",
      "['casa', 'departamento', 'monoambiente']\n"
     ]
    }
   ],
   "source": [
    "c = ['monoambiente', 'casa', 'departamento']\n",
    "print(c)\n",
    "b = c.sort()\n",
    "print(b)\n",
    "print(c)"
   ]
  },
  {
   "cell_type": "code",
   "execution_count": 12,
   "metadata": {},
   "outputs": [
    {
     "name": "stdout",
     "output_type": "stream",
     "text": [
      "4\n",
      "['monoambiente', 'casa', 'departamento', 'posada']\n",
      "c alphabetically: ['casa', 'departamento', 'monoambiente', 'posada']\n",
      "C Ordered by long word: ['casa', 'posada', 'monoambiente', 'departamento']\n",
      "C Ordered by long word, inverse: ['monoambiente', 'departamento', 'posada', 'casa']\n"
     ]
    }
   ],
   "source": [
    "def largo(palabra):\n",
    "    \"\"\"\n",
    "        función de ordenamiento, recibe un sólo argumento\n",
    "        y retorna un solo valor, correspondiente al criterio \n",
    "        de ordenamiento de la lista\n",
    "    \"\"\"\n",
    "    return len(palabra)\n",
    "\n",
    "\n",
    "print(largo('hola'))\n",
    "\n",
    "c = ['monoambiente', 'casa', 'departamento','posada']\n",
    "print(c)\n",
    "b = sorted(c)\n",
    "print(\"c alphabetically:\",b)\n",
    "d = sorted(c,key=largo)\n",
    "print(\"C Ordered by long word:\",d)\n",
    "f = sorted(c,key=largo,reverse=True)\n",
    "print(\"C Ordered by long word, inverse:\",f)\n",
    "\n"
   ]
  },
  {
   "cell_type": "markdown",
   "metadata": {},
   "source": [
    "> While `SORTED` Returns an orderly list,` Sort` reorder the list itself\n",
    "\n",
    "In this sense, we say that `Sort` is a function that *mutates *a variable in the same place (in English, *in place *). On the other hand, `SORTED` does not change the function input variable, and returns a new variable.\n",
    "\n",
    "#### *End Intermezzo *"
   ]
  },
  {
   "cell_type": "markdown",
   "metadata": {},
   "source": [
    "Returning to our example with files"
   ]
  },
  {
   "cell_type": "code",
   "execution_count": 13,
   "metadata": {},
   "outputs": [
    {
     "name": "stdout",
     "output_type": "stream",
     "text": [
      "[]\n"
     ]
    }
   ],
   "source": [
    "archivos_ordenados = sorted(archivos)\n",
    "print(archivos_ordenados[0:10])"
   ]
  },
  {
   "cell_type": "code",
   "execution_count": 14,
   "metadata": {},
   "outputs": [
    {
     "name": "stdout",
     "output_type": "stream",
     "text": [
      "Number of tomographic cuts: 0\n"
     ]
    }
   ],
   "source": [
    "dicoms = []\n",
    "for fname in archivos_ordenados:\n",
    "    dicoms.append(pydicom.read_file(fname))\n",
    "\n",
    "print(\"Number of tomographic cuts:\",len(dicoms))"
   ]
  },
  {
   "cell_type": "markdown",
   "metadata": {},
   "source": [
    "Now our list `dicom` contains the dicom data of ** all ** the tomographic cuts. Let's see if so:"
   ]
  },
  {
   "cell_type": "code",
   "execution_count": 15,
   "metadata": {},
   "outputs": [],
   "source": [
    "n_cts = len(dicoms)\n",
    "\n",
    "for (i,dcm) in zip(range(0,n_cts),dicoms):\n",
    "    print(\"Patient\",i, \":\", dcm.PatientName)"
   ]
  },
  {
   "cell_type": "markdown",
   "metadata": {},
   "source": [
    "It is clear that all cuts must have the same patient name. There are other DICOM data that change according to the tomographic cut, for example:"
   ]
  },
  {
   "cell_type": "code",
   "execution_count": 16,
   "metadata": {},
   "outputs": [],
   "source": [
    "for (i,dcm) in zip(range(0,n_cts),dicoms):\n",
    "    print(\"Cut position\",i, \":\", dcm.SliceLocation, \" mm\")"
   ]
  },
  {
   "cell_type": "markdown",
   "metadata": {},
   "source": [
    "#### 2 Construction of the volume volume\n",
    "\n",
    "Convinced that we effectively have the DICOM information on our list, we must now recover the image of each court, and build a volume with them. For that we are going to use a 3D arrangement of `numpy`.\n"
   ]
  },
  {
   "cell_type": "code",
   "execution_count": 17,
   "metadata": {},
   "outputs": [
    {
     "ename": "IndexError",
     "evalue": "list index out of range",
     "output_type": "error",
     "traceback": [
      "\u001b[31m---------------------------------------------------------------------------\u001b[39m",
      "\u001b[31mIndexError\u001b[39m                                Traceback (most recent call last)",
      "\u001b[36mCell\u001b[39m\u001b[36m \u001b[39m\u001b[32mIn[17]\u001b[39m\u001b[32m, line 1\u001b[39m\n\u001b[32m----> \u001b[39m\u001b[32m1\u001b[39m slice0 = \u001b[43mdicoms\u001b[49m\u001b[43m[\u001b[49m\u001b[32;43m0\u001b[39;49m\u001b[43m]\u001b[49m   \u001b[38;5;66;03m# First cut, I use it to recover common data to all cuts\u001b[39;00m\n\u001b[32m      2\u001b[39m vol_shape = \u001b[38;5;28mlist\u001b[39m(slice0.pixel_array.shape) \u001b[38;5;66;03m# 2D image size\u001b[39;00m\n\u001b[32m      3\u001b[39m \u001b[38;5;28mprint\u001b[39m(vol_shape)\n",
      "\u001b[31mIndexError\u001b[39m: list index out of range"
     ]
    }
   ],
   "source": [
    "slice0 = dicoms[0]   # First cut, I use it to recover common data to all cuts\n",
    "vol_shape = list(slice0.pixel_array.shape) # 2D image size\n",
    "print(vol_shape)\n",
    "vol_shape.append(len(dicoms))   # We add the image size to the list along z\n",
    "# If we have little RAM, we can set the number of cuts on the Z axis\n",
    "# vol_shape.append (100) # We add to the list the size of the image along z\n",
    "\n",
    "print(vol_shape)\n",
    "\n",
    "matriz3D = np.zeros(vol_shape)\n",
    "print(matriz3D.shape)"
   ]
  },
  {
   "cell_type": "markdown",
   "metadata": {},
   "source": [
    "We already have our tomographic volume ready to be filled with the images:"
   ]
  },
  {
   "cell_type": "code",
   "execution_count": 18,
   "metadata": {},
   "outputs": [],
   "source": [
    "# If we have little RAM, we can read only the cuts we want, chord\n",
    "# to the amount of cuts we define before\n",
    "# for i, slice in enumerate(dicoms[100:200]):\n",
    "\n",
    "for i, slice in enumerate(dicoms):\n",
    "\n",
    "    corte = slice.pixel_array * slice.RescaleSlope + slice.RescaleIntercept\n",
    "    matriz3D[:, :, i] = corte"
   ]
  },
  {
   "cell_type": "markdown",
   "metadata": {},
   "source": [
    "#### 3 Image extraction"
   ]
  },
  {
   "cell_type": "code",
   "execution_count": 19,
   "metadata": {},
   "outputs": [
    {
     "ename": "NameError",
     "evalue": "name 'matriz3D' is not defined",
     "output_type": "error",
     "traceback": [
      "\u001b[31m---------------------------------------------------------------------------\u001b[39m",
      "\u001b[31mNameError\u001b[39m                                 Traceback (most recent call last)",
      "\u001b[36mCell\u001b[39m\u001b[36m \u001b[39m\u001b[32mIn[19]\u001b[39m\u001b[32m, line 12\u001b[39m\n\u001b[32m     10\u001b[39m fig_1 = plt.figure(\u001b[32m1\u001b[39m, figsize=(\u001b[32m10\u001b[39m,\u001b[32m10\u001b[39m))\n\u001b[32m     11\u001b[39m a1 = fig_1.add_subplot(\u001b[32m111\u001b[39m)\n\u001b[32m---> \u001b[39m\u001b[32m12\u001b[39m a1.imshow(\u001b[43mmatriz3D\u001b[49m[\u001b[32m255\u001b[39m, :, :].T, cmap=\u001b[33m'\u001b[39m\u001b[33mgray\u001b[39m\u001b[33m'\u001b[39m, vmin=ventmin, vmax=ventmax)\n\u001b[32m     13\u001b[39m plt.show()\n",
      "\u001b[31mNameError\u001b[39m: name 'matriz3D' is not defined"
     ]
    },
    {
     "data": {
      "image/png": "[encoded data removed]",
      "text/plain": [
       "<Figure size 1000x1000 with 1 Axes>"
      ]
     },
     "metadata": {},
     "output_type": "display_data"
    }
   ],
   "source": [
    "# \n",
    "# Window and level\n",
    "# \n",
    "c = 40\n",
    "w = 400\n",
    "ventmax = c + w/2\n",
    "ventmin = c - w/2\n",
    "\n",
    "\n",
    "fig_1 = plt.figure(1, figsize=(10,10))\n",
    "a1 = fig_1.add_subplot(111)\n",
    "a1.imshow(matriz3D[255, :, :].T, cmap='gray', vmin=ventmin, vmax=ventmax)\n",
    "plt.show()\n"
   ]
  },
  {
   "cell_type": "markdown",
   "metadata": {},
   "source": [
    "#### 4 aspect relationship\n",
    "\n",
    "As can be seen, the image appears 'crushed' in the longitudinal direction. This is because ** Voxels are not isotropic ** in CT, that is, they do not have the same dimensions:"
   ]
  },
  {
   "cell_type": "code",
   "execution_count": 20,
   "metadata": {},
   "outputs": [
    {
     "ename": "NameError",
     "evalue": "name 'slice0' is not defined",
     "output_type": "error",
     "traceback": [
      "\u001b[31m---------------------------------------------------------------------------\u001b[39m",
      "\u001b[31mNameError\u001b[39m                                 Traceback (most recent call last)",
      "\u001b[36mCell\u001b[39m\u001b[36m \u001b[39m\u001b[32mIn[20]\u001b[39m\u001b[32m, line 1\u001b[39m\n\u001b[32m----> \u001b[39m\u001b[32m1\u001b[39m espaciadoX,espaciadoY = \u001b[43mslice0\u001b[49m.PixelSpacing\n\u001b[32m      2\u001b[39m espesor = slice0.SliceThickness\n\u001b[32m      3\u001b[39m \u001b[38;5;28mprint\u001b[39m(\u001b[33m'\u001b[39m\u001b[33mEl espesor de corte es de: \u001b[39m\u001b[38;5;132;01m{:.2f}\u001b[39;00m\u001b[33m mm\u001b[39m\u001b[33m'\u001b[39m.format(espesor))\n",
      "\u001b[31mNameError\u001b[39m: name 'slice0' is not defined"
     ]
    }
   ],
   "source": [
    "espaciadoX,espaciadoY = slice0.PixelSpacing\n",
    "espesor = slice0.SliceThickness\n",
    "print('El espesor de corte es de: {:.2f} mm'.format(espesor))\n",
    "print('La dimension en el plano X,Y es de {:.2f} mm x {:.2f} mm '.format(espaciadoX,espaciadoY))"
   ]
  },
  {
   "cell_type": "markdown",
   "metadata": {},
   "source": [
    "With these data we can define the appearance ratio between the Z axis and the X axis (O Y):\n",
    "\n",
    "$$\n",
    "\\ Texttt {Aspectrio} = \\ fraud\n",
    "$$"
   ]
  },
  {
   "cell_type": "code",
   "execution_count": 21,
   "metadata": {
    "scrolled": true
   },
   "outputs": [
    {
     "ename": "NameError",
     "evalue": "name 'espesor' is not defined",
     "output_type": "error",
     "traceback": [
      "\u001b[31m---------------------------------------------------------------------------\u001b[39m",
      "\u001b[31mNameError\u001b[39m                                 Traceback (most recent call last)",
      "\u001b[36mCell\u001b[39m\u001b[36m \u001b[39m\u001b[32mIn[21]\u001b[39m\u001b[32m, line 1\u001b[39m\n\u001b[32m----> \u001b[39m\u001b[32m1\u001b[39m aspecto = \u001b[43mespesor\u001b[49m/espaciadoX\n\u001b[32m      2\u001b[39m \u001b[38;5;28mprint\u001b[39m(\u001b[33m\"\u001b[39m\u001b[33mASPECT RELATIONSHIP:\u001b[39m\u001b[33m\"\u001b[39m,aspecto)\n\u001b[32m      3\u001b[39m fig_1 = plt.figure(\u001b[32m1\u001b[39m, figsize=(\u001b[32m15\u001b[39m,\u001b[32m15\u001b[39m))\n",
      "\u001b[31mNameError\u001b[39m: name 'espesor' is not defined"
     ]
    }
   ],
   "source": [
    "aspecto = espesor/espaciadoX\n",
    "print(\"ASPECT RELATIONSHIP:\",aspecto)\n",
    "fig_1 = plt.figure(1, figsize=(15,15))\n",
    "a1 = fig_1.add_subplot(111)\n",
    "a1.imshow(matriz3D[280, :, :].T, cmap='gray', vmin=ventmin, vmax=ventmax)\n",
    "a1.set_aspect(aspecto)\n",
    "a1.set_title('MPR CORONAL')\n",
    "plt.show()"
   ]
  },
  {
   "cell_type": "markdown",
   "metadata": {},
   "source": [
    "### one more thing ...\n",
    "\n",
    "> ** Not always the order of the names of the Dicom files of a CT corresponds to the order along the z axis !!! **\n",
    "\n",
    "Indeed, it could well be that when ordering the files by name, as we did above, the tomographic cuts are disorderly. \n",
    "\n",
    "Luckily, as we saw before, `SORTED` comes to the rescue."
   ]
  },
  {
   "cell_type": "code",
   "execution_count": 22,
   "metadata": {},
   "outputs": [
    {
     "name": "stdout",
     "output_type": "stream",
     "text": [
      "Help on built-in function sorted in module builtins:\n",
      "\n",
      "sorted(iterable, /, *, key=None, reverse=False)\n",
      "    Return a new list containing all items from the iterable in ascending order.\n",
      "\n",
      "    A custom key function can be supplied to customize the sort order, and the\n",
      "    reverse flag can be set to request the result in descending order.\n",
      "\n"
     ]
    }
   ],
   "source": [
    "help(sorted)"
   ]
  },
  {
   "cell_type": "markdown",
   "metadata": {},
   "source": [
    "The `SORTED` can optionally receive a function used to order the list, in the` Key` parameter.\n",
    "\n",
    "In our case, the function we need is one that returns the value of `slicelocation`, which effectively indicates the position of the cut along the Z axis."
   ]
  },
  {
   "cell_type": "code",
   "execution_count": 23,
   "metadata": {},
   "outputs": [
    {
     "ename": "AttributeError",
     "evalue": "module 'pydicom' has no attribute 'read_file'",
     "output_type": "error",
     "traceback": [
      "\u001b[31m---------------------------------------------------------------------------\u001b[39m",
      "\u001b[31mAttributeError\u001b[39m                            Traceback (most recent call last)",
      "\u001b[36mCell\u001b[39m\u001b[36m \u001b[39m\u001b[32mIn[23]\u001b[39m\u001b[32m, line 5\u001b[39m\n\u001b[32m      2\u001b[39m     dcm = pydicom.read_file(archivo)\n\u001b[32m      3\u001b[39m     \u001b[38;5;28;01mreturn\u001b[39;00m dcm.SliceLocation\n\u001b[32m----> \u001b[39m\u001b[32m5\u001b[39m \u001b[43mz_mm\u001b[49m\u001b[43m(\u001b[49m\u001b[33;43m'\u001b[39;49m\u001b[33;43m../Assets/CT/IM-0001-0145-0001.dcm\u001b[39;49m\u001b[33;43m'\u001b[39;49m\u001b[43m)\u001b[49m\n",
      "\u001b[36mCell\u001b[39m\u001b[36m \u001b[39m\u001b[32mIn[23]\u001b[39m\u001b[32m, line 2\u001b[39m, in \u001b[36mz_mm\u001b[39m\u001b[34m(archivo)\u001b[39m\n\u001b[32m      1\u001b[39m \u001b[38;5;28;01mdef\u001b[39;00m\u001b[38;5;250m \u001b[39m\u001b[34mz_mm\u001b[39m(archivo):\n\u001b[32m----> \u001b[39m\u001b[32m2\u001b[39m     dcm = \u001b[43mpydicom\u001b[49m\u001b[43m.\u001b[49m\u001b[43mread_file\u001b[49m(archivo)\n\u001b[32m      3\u001b[39m     \u001b[38;5;28;01mreturn\u001b[39;00m dcm.SliceLocation\n",
      "\u001b[31mAttributeError\u001b[39m: module 'pydicom' has no attribute 'read_file'"
     ]
    }
   ],
   "source": [
    "def z_mm(archivo):\n",
    "    dcm = pydicom.read_file(archivo)\n",
    "    return dcm.SliceLocation\n",
    "\n",
    "z_mm('../Assets/CT/IM-0001-0145-0001.dcm')"
   ]
  },
  {
   "cell_type": "code",
   "execution_count": 24,
   "metadata": {},
   "outputs": [
    {
     "name": "stdout",
     "output_type": "stream",
     "text": [
      "[]\n"
     ]
    }
   ],
   "source": [
    "print(archivos[0:10])"
   ]
  },
  {
   "cell_type": "code",
   "execution_count": 25,
   "metadata": {
    "scrolled": true
   },
   "outputs": [
    {
     "name": "stdout",
     "output_type": "stream",
     "text": [
      "[]\n"
     ]
    }
   ],
   "source": [
    "archivos_reordenados = sorted(archivos,key = z_mm, reverse = True)\n",
    "print(archivos_reordenados[0:10])"
   ]
  },
  {
   "cell_type": "code",
   "execution_count": 26,
   "metadata": {},
   "outputs": [
    {
     "name": "stdout",
     "output_type": "stream",
     "text": [
      "Number of tomographic cuts: 0\n"
     ]
    }
   ],
   "source": [
    "dicoms = []\n",
    "for fname in archivos_reordenados:\n",
    "    dicoms.append(pydicom.read_file(fname))\n",
    "\n",
    "print(\"Number of tomographic cuts:\",len(dicoms))"
   ]
  },
  {
   "cell_type": "code",
   "execution_count": 27,
   "metadata": {},
   "outputs": [],
   "source": [
    "for i, slice in enumerate(dicoms):\n",
    "    corte = slice.pixel_array * slice.RescaleSlope + slice.RescaleIntercept\n",
    "    matriz3D[:, :, i] = corte"
   ]
  },
  {
   "cell_type": "code",
   "execution_count": 28,
   "metadata": {
    "scrolled": false
   },
   "outputs": [
    {
     "ename": "NameError",
     "evalue": "name 'espesor' is not defined",
     "output_type": "error",
     "traceback": [
      "\u001b[31m---------------------------------------------------------------------------\u001b[39m",
      "\u001b[31mNameError\u001b[39m                                 Traceback (most recent call last)",
      "\u001b[36mCell\u001b[39m\u001b[36m \u001b[39m\u001b[32mIn[28]\u001b[39m\u001b[32m, line 1\u001b[39m\n\u001b[32m----> \u001b[39m\u001b[32m1\u001b[39m aspecto = \u001b[43mespesor\u001b[49m/espaciadoX\n\u001b[32m      2\u001b[39m \u001b[38;5;28mprint\u001b[39m(\u001b[33m\"\u001b[39m\u001b[33mASPECT RELATIONSHIP:\u001b[39m\u001b[33m\"\u001b[39m,aspecto)\n\u001b[32m      3\u001b[39m fig_1 = plt.figure(\u001b[32m1\u001b[39m, figsize=(\u001b[32m15\u001b[39m,\u001b[32m15\u001b[39m))\n",
      "\u001b[31mNameError\u001b[39m: name 'espesor' is not defined"
     ]
    }
   ],
   "source": [
    "aspecto = espesor/espaciadoX\n",
    "print(\"ASPECT RELATIONSHIP:\",aspecto)\n",
    "fig_1 = plt.figure(1, figsize=(15,15))\n",
    "a1 = fig_1.add_subplot(111)\n",
    "a1.imshow(matriz3D[280, :, :].T, cmap='gray', vmin=ventmin, vmax=ventmax)\n",
    "a1.set_aspect(aspecto)\n",
    "a1.set_title('MPR CORONAL')\n",
    "plt.show()"
   ]
  }
 ],
 "metadata": {
  "kernelspec": {
   "display_name": "Python 3",
   "language": "python",
   "name": "python3"
  },
  "language_info": {
   "codemirror_mode": {
    "name": "ipython",
    "version": 3
   },
   "file_extension": ".py",
   "mimetype": "text/x-python",
   "name": "python",
   "nbconvert_exporter": "python",
   "pygments_lexer": "ipython3",
   "version": "3.12.8"
  }
 },
 "nbformat": 4,
 "nbformat_minor": 2
}