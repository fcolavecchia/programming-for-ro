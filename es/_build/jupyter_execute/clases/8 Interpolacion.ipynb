{
 "cells": [
  {
   "cell_type": "markdown",
   "metadata": {},
   "source": [
    "# Maestría en Física Médica - Taller de Informática\n",
    "\n",
    "\n",
    "# Interpolación - Scipy\n"
   ]
  },
  {
   "cell_type": "code",
   "execution_count": 1,
   "metadata": {},
   "outputs": [],
   "source": [
    "import matplotlib.pyplot as plt\n",
    "import numpy as np"
   ]
  },
  {
   "cell_type": "markdown",
   "metadata": {},
   "source": [
    "# Interpolación\n",
    "\n",
    "## Fundamentos\n",
    "\n",
    "La *interpolación* consiste en encontrar una función $f(x)$ tal que, dadas las abscisas \n",
    "$$\n",
    "x_0,x_1,\\cdots,x_{n-1}\n",
    "$$\n",
    "y sus correspondientes valores de ordenadas\n",
    "$$\n",
    "y_0,y_1,\\cdots,y_{n-1}\n",
    "$$\n",
    "se verifique que:\n",
    "$$\n",
    "f(x_i) = y_i \\;\\;\\; \\textrm{para cualquier} \\;\\; 0\\le i < n\n",
    "$$\n",
    "\n",
    "Si lo pensamos en el plano, queremos buscar una curva $f(x)$ que pase por todos los puntos $(x_i,y_i)$, con $0\\le i < n$.\n",
    "\n",
    "\n"
   ]
  },
  {
   "cell_type": "code",
   "execution_count": 2,
   "metadata": {},
   "outputs": [
    {
     "data": {
      "text/plain": [
       "array([-3. , -2.4, -1.8, -1.2, -0.6,  0. ,  0.6,  1.2,  1.8,  2.4,  3. ])"
      ]
     },
     "execution_count": 2,
     "metadata": {},
     "output_type": "execute_result"
    }
   ],
   "source": [
    "xData = np.linspace(-3,3,11)\n",
    "xData"
   ]
  },
  {
   "cell_type": "code",
   "execution_count": 3,
   "metadata": {},
   "outputs": [
    {
     "data": {
      "text/plain": [
       "array([1.23409804e-04, 3.15111160e-03, 3.91638951e-02, 2.36927759e-01,\n",
       "       6.97676326e-01, 1.00000000e+00, 6.97676326e-01, 2.36927759e-01,\n",
       "       3.91638951e-02, 3.15111160e-03, 1.23409804e-04])"
      ]
     },
     "execution_count": 3,
     "metadata": {},
     "output_type": "execute_result"
    }
   ],
   "source": [
    "yData = np.array([1.23409804e-04, 3.15111160e-03, 3.91638951e-02, 2.36927759e-01,\n",
    "       6.97676326e-01, 1.00000000e+00, 6.97676326e-01, 2.36927759e-01,\n",
    "       3.91638951e-02, 3.15111160e-03, 1.23409804e-04])\n",
    "yData"
   ]
  },
  {
   "cell_type": "code",
   "execution_count": 4,
   "metadata": {},
   "outputs": [
    {
     "data": {
      "image/png": "[encoded data removed]",
      "text/plain": [
       "<Figure size 640x480 with 1 Axes>"
      ]
     },
     "metadata": {},
     "output_type": "display_data"
    }
   ],
   "source": [
    "plt.plot(xData,yData, marker = 'o',linestyle = 'None')\n",
    "plt.show()"
   ]
  },
  {
   "cell_type": "markdown",
   "metadata": {},
   "source": [
    "> La interpolación tiene dos etapas:\n",
    "1. Encontrar la función interpoladora $f(x)$\n",
    "2. Evaluar la función interpoladora en los valores deseados"
   ]
  },
  {
   "cell_type": "markdown",
   "metadata": {},
   "source": [
    "## Interpolación polinomial (de Newton)\n",
    "\n",
    "Por supuesto que es extremadamente difícil encontrar una función $f(x)$ general para cualquier cantidad de puntos $(x_i,y_i)$ dados como datos. Por eso se utilizan *polinomios* de distinto grado para satisfacer las condiciones de la interpolación. \n",
    "\n",
    "Una de las posibles formas funcionales corresponde a los polinomios de Newton, definidos como:\n",
    "\n",
    "$$\n",
    "P_n(x) = a_0 + a_1 (x - x_0) + a_2 (x-x_0)(x-x_1) + \\cdots + a_n (x-x_0)(x-x_1)(x-x_2)\\cdots(x-x_{n-1})\n",
    "$$\n",
    "\n",
    "Por ejemplo, el polinomio de Newton para ajustar tres puntos $(x_0,y_0)$, $(x_1,y_1)$ y $(x_2,y_2)$ es:\n",
    "\n",
    "$$\n",
    "P_2(x) = a_0 + a_1 (x - x_0) + a_2 (x-x_0)(x-x_1)\n",
    "$$\n",
    "\n",
    "Y en este caso, tenemos que buscar los valores $a_0, a_1, a_2$ de forma tal que:\n",
    "\n",
    "\\begin{align}\n",
    "y_0 &= P_2(x_0) \\\\\n",
    "y_1 &= P_2(x_1) \\\\\n",
    "y_2 &= P_2(x_2) \n",
    "\\end{align}\n",
    "Reemplazando:\n",
    "\n",
    "\\begin{align}\n",
    "y_0 &= a_0 \\\\\n",
    "y_1 &= a_0 + a_1 (x_1 - x_0) \\\\\n",
    "y_2 &= a_0 + a_1 (x_2 - x_0) + a_2 (x_2-x_0)(x_2-x_1)\n",
    "\\end{align}\n",
    "\n",
    "Este sistema es sencillo de resolver, empezando por la primer ecuación\n",
    "\n",
    "$$\n",
    "a_0 = y_0\n",
    "$$\n",
    "\n",
    "continuando por la segunda:\n",
    "\\begin{align}\n",
    "y_1 &= y_0 + a_1 (x_1 - x_0) \\\\\n",
    "y_1 - y_0 &= a_1 (x_1 - x_0) \\\\\n",
    "a_1 &=  \\frac{y_1 - y_0 }{x_1 - x_0}\n",
    "\\end{align}\n",
    "\n",
    "y finalmente reemplazando $a_0$ y $a_1$ en la tercera ecuación:\n",
    "\\begin{align}\n",
    "y_2 &= a_0 + a_1 (x_2 - x_0) + a_2 (x_2-x_0)(x_2-x_1) \\\\\n",
    "y_2 &= y_0 + \\frac{y_1 - y_0 }{x_1 - x_0} (x_2 - x_0) + a_2 (x_2-x_0)(x_2-x_1) \\\\\n",
    "a_2 (x_2-x_0)(x_2-x_1) &= y_2 - y_0 - \\frac{y_1 - y_0 }{x_1 - x_0} (x_2 - x_0) \n",
    "\\end{align}\n",
    "con\n",
    "\n",
    "$$\n",
    "a_2  = \\frac{y_2 - y_0}{(x_2-x_0)(x_2-x_1)} - \\frac{y_1 - y_0 }{x_1 - x_0}  \\frac{x_2 - x_0}{(x_2-x_0)(x_2-x_1)} \n",
    "$$\n",
    "\n",
    "Simplificando:\n",
    "\n",
    "$$\n",
    "a_2  = \\frac{y_2 - y_0}{(x_2-x_0)(x_2-x_1)} - \\frac{y_1 - y_0 }{(x_1 - x_0)(x_2-x_1)}  \n",
    "$$\n",
    "\n",
    "\n",
    "\n",
    "Los polinomios están construidos de forma tal que:\n",
    "\n",
    "#### Son fáciles de evaluar numéricamente\n",
    "\n",
    "Por ejemplo, en el caso de $P_3(x)$:\n",
    "\n",
    "\\begin{align}\n",
    "P_3(x) &= a_0 + a_1 (x - x_0) + a_2 (x-x_0)(x-x_1) + a_3 (x-x_0)(x-x_1)(x-x_2)\\\\\n",
    "       &= a_0 + (x - x_0) \\left[ a_1 + a_2 (x - x_1) + a_3 (x-x_1)(x-x_2) \\right] \\\\\n",
    "      &= a_0 + (x - x_0) \\left\\{ a_1 + (x - x_1) \\left[a_2 + a_3 (x-x_2)\\right] \\right\\}\n",
    "\\end{align}\n",
    "\n",
    "que si se evalúa desde atrás hacia adelante, queda:\n",
    "\\begin{align}\n",
    "Q_0(x) &= a_3\\\\\n",
    "Q_1(x) &= a_2 + Q_0(x) (x - x_2) \\\\\n",
    "Q_2(x) &= a_1 + Q_1(x) (x - x_1) \\\\\n",
    "Q_3(x) &= a_0 + Q_2(x) (x - x_0)\n",
    "\\end{align}\n",
    "y obviamente, $Q_3(x) = P_3(x)$\n",
    "\n",
    "En general\n",
    "\n",
    "$$\n",
    "Q_0(x) = a_n \\;\\;\\; Q_k(x) = a_{n-k} + (x-x_{n-k}) Q_{k-1}(x)\n",
    "$$\n",
    "\n",
    "\n",
    "\n",
    "#### Encontrar los valores de los coeficientes es sencillo\n",
    "\n",
    "Como vimos antes, el sistema de ecuaciones a resolver es triangular, y se resuelve fácilmente.\n",
    "\n"
   ]
  },
  {
   "cell_type": "markdown",
   "metadata": {},
   "source": [
    "### Ejemplo\n",
    "\n",
    "Copiamos el módulo `newtonPoly.py` en el directorio de trabajo."
   ]
  },
  {
   "cell_type": "code",
   "execution_count": 5,
   "metadata": {},
   "outputs": [],
   "source": [
    "import newtonPoly as newton"
   ]
  },
  {
   "cell_type": "code",
   "execution_count": 6,
   "metadata": {},
   "outputs": [
    {
     "name": "stdout",
     "output_type": "stream",
     "text": [
      "Help on module newtonPoly:\n",
      "\n",
      "NAME\n",
      "    newtonPoly\n",
      "\n",
      "DESCRIPTION\n",
      "    p = evalPoly(a,xData,x).\n",
      "    Evaluates Newton's polynomial p at x. The coefficient\n",
      "    vector 'a' can be computed by the function 'coeffts'.\n",
      "\n",
      "    a = coeffts(xData,yData).\n",
      "    Computes the coefficients of Newton's polynomial.\n",
      "\n",
      "FUNCTIONS\n",
      "    coeffts(xData, yData)\n",
      "\n",
      "    evalPoly(a, xData, x)\n",
      "\n",
      "FILE\n",
      "    /Users/flavioc/Library/Mobile Documents/com~apple~CloudDocs/Documents/cursos/taller-de-informatica/es/clases/newtonPoly.py\n",
      "\n",
      "\n"
     ]
    }
   ],
   "source": [
    "help(newton)"
   ]
  },
  {
   "cell_type": "markdown",
   "metadata": {},
   "source": [
    "Evaluemos los coeficientes para los datos que teníamos antes"
   ]
  },
  {
   "cell_type": "code",
   "execution_count": 7,
   "metadata": {},
   "outputs": [
    {
     "data": {
      "text/plain": [
       "array([ 0.00012341,  0.00504617,  0.04581261,  0.09935648, -0.00885172,\n",
       "       -0.05305972,  0.02955858, -0.00406494, -0.00248136,  0.00169219,\n",
       "       -0.00056406])"
      ]
     },
     "execution_count": 7,
     "metadata": {},
     "output_type": "execute_result"
    }
   ],
   "source": [
    "a = newton.coeffts(xData,yData)\n",
    "a"
   ]
  },
  {
   "cell_type": "markdown",
   "metadata": {},
   "source": [
    "Para graficar, generamos una grilla densa"
   ]
  },
  {
   "cell_type": "code",
   "execution_count": 8,
   "metadata": {},
   "outputs": [],
   "source": [
    "xpoly = np.linspace(-3,3,100)"
   ]
  },
  {
   "cell_type": "markdown",
   "metadata": {},
   "source": [
    "y evaluamos el polinomio en todos esos puntos"
   ]
  },
  {
   "cell_type": "code",
   "execution_count": 9,
   "metadata": {},
   "outputs": [],
   "source": [
    "ypoly = newton.evalPoly(a,xData,xpoly)"
   ]
  },
  {
   "cell_type": "code",
   "execution_count": 10,
   "metadata": {},
   "outputs": [
    {
     "data": {
      "image/png": "[encoded data removed]",
      "text/plain": [
       "<Figure size 640x480 with 1 Axes>"
      ]
     },
     "metadata": {},
     "output_type": "display_data"
    }
   ],
   "source": [
    "plt.plot(xData,yData, marker = 'o',linestyle = 'None')\n",
    "plt.plot(xpoly,ypoly,linestyle = 'dotted')\n",
    "plt.show()"
   ]
  },
  {
   "cell_type": "code",
   "execution_count": 11,
   "metadata": {},
   "outputs": [
    {
     "data": {
      "image/png": "[encoded data removed]",
      "text/plain": [
       "<Figure size 640x480 with 1 Axes>"
      ]
     },
     "metadata": {},
     "output_type": "display_data"
    }
   ],
   "source": [
    "xpoly = np.linspace(-4,4,100)\n",
    "ypoly = newton.evalPoly(a,xData,xpoly)\n",
    "plt.plot(xData,yData, marker = 'o',linestyle = 'None')\n",
    "plt.plot(xpoly,ypoly,linestyle = 'dotted')\n",
    "plt.show()"
   ]
  },
  {
   "cell_type": "markdown",
   "metadata": {},
   "source": [
    "## Interpolación a trozos (*piecewise interpolation*)\n",
    "\n",
    "Como se ve en el ejemplo anterior, es difícil encontrar una sola función que pueda funcionar como interpolador, y que a su vez tenga una forma suave. Por eso se usan métodos de interpolación *a trozos*. Para eso, se define un conjunto de funciones $\\{f(x)\\}$ de modo tal que cada una de ellas se use para interpolar sólo un sector particular del dominio $x_0, x_1, \\cdots, x_n$.\n",
    "\n",
    "Una vez realizada la interpolación, esto es, una vez conocidas las funciones $\\{f(x)\\}$, la evaluación de dichas funciones (es decir, la etapa 2. descripta antes) requiere a su vez de dos pasos:\n",
    "\n",
    "- Encontrar qué función se debe utilizar de acuerdo al valor de $x$\n",
    "- Evaluar la función seleccionada en $x$\n",
    "\n",
    "El primer paso se conoce habitualmente como *lookup*.\n",
    "\n",
    "Veremos en detalle el ejemplo de la *interpolación lineal*."
   ]
  },
  {
   "cell_type": "markdown",
   "metadata": {},
   "source": [
    "### Interpolación lineal\n",
    "\n",
    "Sin dudas la interpolación lineal es la más usada en física médica. Consiste en definir funciones lineales que se utilizarán para interpolar todos los valores de $x$ entre dos abscisas contiguas $x_i$ y $x_{i+1}$:\n",
    "\n",
    "$$\n",
    "p_i(x) = \\frac{y_{i+1} - y_i}{x_{i+1} - x_i} (x - x_i) + y_i\n",
    "$$\n",
    "\n",
    "En efecto, \n",
    "\n",
    "$$\n",
    "p_i(x_i) = \\frac{y_{i+1} - y_i}{x_{i+1} - x_i} (x_i - x_i) + y_i = \\frac{y_{i+1} - y_i}{x_{i+1} - x_i} 0 + y_i = y_i\n",
    "$$\n",
    "\n",
    "mientras que\n",
    "\n",
    "$$\n",
    "p_i(x_{i+1}) = \\frac{y_{i+1} - y_i}{x_{i+1} - x_i} (x_{i+1} - x_i) + y_i = y_{i+1} - y_i + y_i = y_{i+1}\n",
    "$$\n",
    "\n",
    "Es decir que la función $p_i(x)$ verifica la condición de interpolación en $x_i$ y $x_{i+1}$.\n"
   ]
  },
  {
   "cell_type": "code",
   "execution_count": 12,
   "metadata": {},
   "outputs": [
    {
     "data": {
      "image/png": "[encoded data removed]",
      "text/plain": [
       "<Figure size 640x480 with 1 Axes>"
      ]
     },
     "metadata": {},
     "output_type": "display_data"
    }
   ],
   "source": [
    "plt.plot(xData,yData, marker = 'o',linestyle = 'dashed')\n",
    "plt.show()"
   ]
  },
  {
   "cell_type": "markdown",
   "metadata": {},
   "source": [
    "### Splines cúbicos\n",
    "\n",
    "El otro tipo de interpolación utilizado frecuentemente corresponde a los denominados *splines cúbicos*. Éstos son polinomios de tercer orden que se construyen entre dos abscisas contiguas $x_i$ y $x_{i+1}$. Sin embargo, en estos casos, además de las condiciones \n",
    "\n",
    "\\begin{align}\n",
    "y_i &= f(x_i) \\\\\n",
    "y_{i+1} &= f(x_{i+1}),\n",
    "\\end{align}\n",
    "\n",
    "es necesario imponer condiciones extras dado que un polinomio de orden 3 tiene 4 coeficientes a determinar. En general se pueden imponer condiciones sobre las derivadas primeras de la función:\n",
    "\\begin{align}\n",
    "y'_i &= f'(x_i) \\\\\n",
    "y'_{i+1} &= f'(x_{i+1}),\n",
    "\\end{align}\n",
    "O el caso más común, de los splines *naturales* en los que se pide\n",
    "\\begin{align}\n",
    "f''(x_i) &= 0  \\\\\n",
    "f''(x_{i+1}) &= 0.\n",
    "\\end{align}\n",
    "\n",
    "El álgebra para obtenerlos es algo engorrosa, así que la pueden consultar [por ahí](https://towardsdatascience.com/numerical-interpolation-natural-cubic-spline-52c1157b98ac#:~:text='Natural%20Cubic%20Spline'%20%E2%80%94%20is,to%20oscillate%20between%20data%20points.).\n",
    "\n"
   ]
  },
  {
   "cell_type": "markdown",
   "metadata": {},
   "source": [
    "## Módulos al rescate: Scipy\n",
    "\n",
    "Afortunadamente, existe un módulo que hace este tipo de cosas, y muchas más. Se trata del módulo [`scipy`](https://docs.scipy.org/doc/scipy-1.5.2/reference/). En particular, usaremos el submódulo `interpolate`:"
   ]
  },
  {
   "cell_type": "code",
   "execution_count": 13,
   "metadata": {},
   "outputs": [
    {
     "ename": "ModuleNotFoundError",
     "evalue": "No module named 'scipy'",
     "output_type": "error",
     "traceback": [
      "\u001b[31m---------------------------------------------------------------------------\u001b[39m",
      "\u001b[31mModuleNotFoundError\u001b[39m                       Traceback (most recent call last)",
      "\u001b[36mCell\u001b[39m\u001b[36m \u001b[39m\u001b[32mIn[13]\u001b[39m\u001b[32m, line 1\u001b[39m\n\u001b[32m----> \u001b[39m\u001b[32m1\u001b[39m \u001b[38;5;28;01mfrom\u001b[39;00m\u001b[38;5;250m \u001b[39m\u001b[34;01mscipy\u001b[39;00m\u001b[34;01m.\u001b[39;00m\u001b[34;01minterpolate\u001b[39;00m\u001b[38;5;250m \u001b[39m\u001b[38;5;28;01mimport\u001b[39;00m interp1d\n",
      "\u001b[31mModuleNotFoundError\u001b[39m: No module named 'scipy'"
     ]
    }
   ],
   "source": [
    "from scipy.interpolate import interp1d"
   ]
  },
  {
   "cell_type": "markdown",
   "metadata": {},
   "source": [
    "#### Interpolación lineal"
   ]
  },
  {
   "cell_type": "code",
   "execution_count": 14,
   "metadata": {},
   "outputs": [
    {
     "ename": "NameError",
     "evalue": "name 'interp1d' is not defined",
     "output_type": "error",
     "traceback": [
      "\u001b[31m---------------------------------------------------------------------------\u001b[39m",
      "\u001b[31mNameError\u001b[39m                                 Traceback (most recent call last)",
      "\u001b[36mCell\u001b[39m\u001b[36m \u001b[39m\u001b[32mIn[14]\u001b[39m\u001b[32m, line 1\u001b[39m\n\u001b[32m----> \u001b[39m\u001b[32m1\u001b[39m f_lineal = \u001b[43minterp1d\u001b[49m(xData,yData)  \u001b[38;5;66;03m# Por defecto, la interpolación de interp1d es lineal\u001b[39;00m\n\u001b[32m      2\u001b[39m xs = np.linspace(-\u001b[32m3\u001b[39m,\u001b[32m3\u001b[39m,\u001b[32m100\u001b[39m)\n\u001b[32m      3\u001b[39m ylineal = f_lineal(xs)\n",
      "\u001b[31mNameError\u001b[39m: name 'interp1d' is not defined"
     ]
    }
   ],
   "source": [
    "f_lineal = interp1d(xData,yData)  # Por defecto, la interpolación de interp1d es lineal\n",
    "xs = np.linspace(-3,3,100)\n",
    "ylineal = f_lineal(xs)\n",
    "\n",
    "plt.plot(xData,yData, marker = 'o',linestyle = 'None')\n",
    "plt.plot(xs,ylineal,linestyle = 'dotted')\n",
    "plt.show()"
   ]
  },
  {
   "cell_type": "code",
   "execution_count": 15,
   "metadata": {},
   "outputs": [
    {
     "ename": "NameError",
     "evalue": "name 'f_lineal' is not defined",
     "output_type": "error",
     "traceback": [
      "\u001b[31m---------------------------------------------------------------------------\u001b[39m",
      "\u001b[31mNameError\u001b[39m                                 Traceback (most recent call last)",
      "\u001b[36mCell\u001b[39m\u001b[36m \u001b[39m\u001b[32mIn[15]\u001b[39m\u001b[32m, line 1\u001b[39m\n\u001b[32m----> \u001b[39m\u001b[32m1\u001b[39m \u001b[38;5;28mprint\u001b[39m(\u001b[43mf_lineal\u001b[49m(\u001b[32m0.5\u001b[39m))\n",
      "\u001b[31mNameError\u001b[39m: name 'f_lineal' is not defined"
     ]
    }
   ],
   "source": [
    "print(f_lineal(0.5))"
   ]
  },
  {
   "cell_type": "markdown",
   "metadata": {},
   "source": [
    "#### Interpolación cuadrática"
   ]
  },
  {
   "cell_type": "code",
   "execution_count": 16,
   "metadata": {
    "scrolled": true
   },
   "outputs": [
    {
     "ename": "NameError",
     "evalue": "name 'interp1d' is not defined",
     "output_type": "error",
     "traceback": [
      "\u001b[31m---------------------------------------------------------------------------\u001b[39m",
      "\u001b[31mNameError\u001b[39m                                 Traceback (most recent call last)",
      "\u001b[36mCell\u001b[39m\u001b[36m \u001b[39m\u001b[32mIn[16]\u001b[39m\u001b[32m, line 1\u001b[39m\n\u001b[32m----> \u001b[39m\u001b[32m1\u001b[39m f_quad = \u001b[43minterp1d\u001b[49m(xData,yData,kind=\u001b[33m'\u001b[39m\u001b[33mquadratic\u001b[39m\u001b[33m'\u001b[39m) \u001b[38;5;66;03m# Definiendo el parámetro kind, se obtienen otras interpolaciones\u001b[39;00m\n\u001b[32m      2\u001b[39m yquad = f_quad(xs)\n\u001b[32m      4\u001b[39m plt.plot(xData,yData, marker = \u001b[33m'\u001b[39m\u001b[33mo\u001b[39m\u001b[33m'\u001b[39m,linestyle = \u001b[33m'\u001b[39m\u001b[33mNone\u001b[39m\u001b[33m'\u001b[39m)\n",
      "\u001b[31mNameError\u001b[39m: name 'interp1d' is not defined"
     ]
    }
   ],
   "source": [
    "f_quad = interp1d(xData,yData,kind='quadratic') # Definiendo el parámetro kind, se obtienen otras interpolaciones\n",
    "yquad = f_quad(xs)\n",
    "\n",
    "plt.plot(xData,yData, marker = 'o',linestyle = 'None')\n",
    "plt.plot(xs,yquad,linestyle = 'dotted')\n",
    "plt.show()"
   ]
  },
  {
   "cell_type": "markdown",
   "metadata": {},
   "source": [
    "#### Interpolación cúbica"
   ]
  },
  {
   "cell_type": "code",
   "execution_count": 17,
   "metadata": {
    "scrolled": true
   },
   "outputs": [
    {
     "ename": "NameError",
     "evalue": "name 'interp1d' is not defined",
     "output_type": "error",
     "traceback": [
      "\u001b[31m---------------------------------------------------------------------------\u001b[39m",
      "\u001b[31mNameError\u001b[39m                                 Traceback (most recent call last)",
      "\u001b[36mCell\u001b[39m\u001b[36m \u001b[39m\u001b[32mIn[17]\u001b[39m\u001b[32m, line 1\u001b[39m\n\u001b[32m----> \u001b[39m\u001b[32m1\u001b[39m f_cubic = \u001b[43minterp1d\u001b[49m(xData,yData,kind=\u001b[33m'\u001b[39m\u001b[33mcubic\u001b[39m\u001b[33m'\u001b[39m) \u001b[38;5;66;03m# Definiendo el parámetro kind, se obtienen otras interpolaciones\u001b[39;00m\n\u001b[32m      2\u001b[39m ycubic = f_cubic(xs)\n\u001b[32m      4\u001b[39m plt.plot(xData,yData, marker = \u001b[33m'\u001b[39m\u001b[33mo\u001b[39m\u001b[33m'\u001b[39m,linestyle = \u001b[33m'\u001b[39m\u001b[33mNone\u001b[39m\u001b[33m'\u001b[39m)\n",
      "\u001b[31mNameError\u001b[39m: name 'interp1d' is not defined"
     ]
    }
   ],
   "source": [
    "f_cubic = interp1d(xData,yData,kind='cubic') # Definiendo el parámetro kind, se obtienen otras interpolaciones\n",
    "ycubic = f_cubic(xs)\n",
    "\n",
    "plt.plot(xData,yData, marker = 'o',linestyle = 'None')\n",
    "plt.plot(xs,ycubic,linestyle = 'dotted')\n",
    "plt.show()"
   ]
  },
  {
   "cell_type": "markdown",
   "metadata": {},
   "source": [
    "Graficamos todos los ajustes juntos:"
   ]
  },
  {
   "cell_type": "code",
   "execution_count": 18,
   "metadata": {},
   "outputs": [
    {
     "ename": "NameError",
     "evalue": "name 'xs' is not defined",
     "output_type": "error",
     "traceback": [
      "\u001b[31m---------------------------------------------------------------------------\u001b[39m",
      "\u001b[31mNameError\u001b[39m                                 Traceback (most recent call last)",
      "\u001b[36mCell\u001b[39m\u001b[36m \u001b[39m\u001b[32mIn[18]\u001b[39m\u001b[32m, line 2\u001b[39m\n\u001b[32m      1\u001b[39m plt.plot(xData,yData, marker = \u001b[33m'\u001b[39m\u001b[33mo\u001b[39m\u001b[33m'\u001b[39m,linestyle = \u001b[33m'\u001b[39m\u001b[33mNone\u001b[39m\u001b[33m'\u001b[39m)\n\u001b[32m----> \u001b[39m\u001b[32m2\u001b[39m plt.plot(\u001b[43mxs\u001b[49m,ylineal,linestyle = \u001b[33m'\u001b[39m\u001b[33msolid\u001b[39m\u001b[33m'\u001b[39m)\n\u001b[32m      3\u001b[39m plt.plot(xs,yquad,linestyle = \u001b[33m'\u001b[39m\u001b[33mdashed\u001b[39m\u001b[33m'\u001b[39m)\n\u001b[32m      4\u001b[39m plt.plot(xs,ycubic,linestyle = \u001b[33m'\u001b[39m\u001b[33mdotted\u001b[39m\u001b[33m'\u001b[39m)\n",
      "\u001b[31mNameError\u001b[39m: name 'xs' is not defined"
     ]
    },
    {
     "data": {
      "image/png": "[encoded data removed]",
      "text/plain": [
       "<Figure size 640x480 with 1 Axes>"
      ]
     },
     "metadata": {},
     "output_type": "display_data"
    }
   ],
   "source": [
    "plt.plot(xData,yData, marker = 'o',linestyle = 'None')\n",
    "plt.plot(xs,ylineal,linestyle = 'solid')\n",
    "plt.plot(xs,yquad,linestyle = 'dashed')\n",
    "plt.plot(xs,ycubic,linestyle = 'dotted')\n",
    "plt.show()"
   ]
  },
  {
   "cell_type": "markdown",
   "metadata": {},
   "source": [
    "## Fiteo de curvas\n",
    "\n",
    "Otra tarea frecuente es ajustar parámetros de una función objetivo a partir de un *dataset* de puntos conocidos. \n",
    "\n",
    "Supongamos que tenemos una serie de datos medidos"
   ]
  },
  {
   "cell_type": "code",
   "execution_count": 19,
   "metadata": {},
   "outputs": [],
   "source": [
    "xdata = np.array([0.        , 0.08163265, 0.16326531, 0.24489796, 0.32653061,\n",
    "       0.40816327, 0.48979592, 0.57142857, 0.65306122, 0.73469388,\n",
    "       0.81632653, 0.89795918, 0.97959184, 1.06122449, 1.14285714,\n",
    "       1.2244898 , 1.30612245, 1.3877551 , 1.46938776, 1.55102041,\n",
    "       1.63265306, 1.71428571, 1.79591837, 1.87755102, 1.95918367,\n",
    "       2.04081633, 2.12244898, 2.20408163, 2.28571429, 2.36734694,\n",
    "       2.44897959, 2.53061224, 2.6122449 , 2.69387755, 2.7755102 ,\n",
    "       2.85714286, 2.93877551, 3.02040816, 3.10204082, 3.18367347,\n",
    "       3.26530612, 3.34693878, 3.42857143, 3.51020408, 3.59183673,\n",
    "       3.67346939, 3.75510204, 3.83673469, 3.91836735, 4.        ])\n",
    "\n",
    "ydata = np.array([ 2.86176601,  2.57905526,  2.70036593,  2.63066436,  1.8035502 ,\n",
    "        1.69507105,  1.71332572,  1.19968728,  1.53954472,  1.19541914,\n",
    "        0.90611978,  0.7115336 ,  0.80780086,  0.64485915,  0.85535322,\n",
    "        0.61878794,  0.69171233,  0.64694833,  0.23714098,  0.18498906,\n",
    "        0.58324814,  0.13810763,  0.12359655,  0.33529197,  0.15601467,\n",
    "        0.59733706,  0.35817119,  0.11824581,  0.08785438,  0.49333643,\n",
    "       -0.09737018, -0.11026946,  0.27281943,  0.10931485,  0.27558412,\n",
    "       -0.27575616,  0.21938698, -0.05069495, -0.03916167,  0.28574475,\n",
    "        0.15924156, -0.21736918,  0.1431817 , -0.1881811 ,  0.00901724,\n",
    "       -0.31409179, -0.11894992, -0.11414616,  0.01245554,  0.04917944])"
   ]
  },
  {
   "cell_type": "code",
   "execution_count": 20,
   "metadata": {},
   "outputs": [
    {
     "name": "stdout",
     "output_type": "stream",
     "text": [
      "50\n"
     ]
    }
   ],
   "source": [
    "print(len(ydata))"
   ]
  },
  {
   "cell_type": "code",
   "execution_count": 21,
   "metadata": {},
   "outputs": [
    {
     "data": {
      "image/png": "[encoded data removed]",
      "text/plain": [
       "<Figure size 640x480 with 1 Axes>"
      ]
     },
     "metadata": {},
     "output_type": "display_data"
    }
   ],
   "source": [
    "plt.plot(xdata, ydata, 'xb', label='DATOS')\n",
    "plt.show()\n"
   ]
  },
  {
   "cell_type": "code",
   "execution_count": 22,
   "metadata": {},
   "outputs": [],
   "source": [
    "def func(x, a, b, c, d):\n",
    "    return a * np.exp(-b * x) + c * np.exp(-d * x)\n"
   ]
  },
  {
   "cell_type": "code",
   "execution_count": 23,
   "metadata": {},
   "outputs": [
    {
     "ename": "ModuleNotFoundError",
     "evalue": "No module named 'scipy'",
     "output_type": "error",
     "traceback": [
      "\u001b[31m---------------------------------------------------------------------------\u001b[39m",
      "\u001b[31mModuleNotFoundError\u001b[39m                       Traceback (most recent call last)",
      "\u001b[36mCell\u001b[39m\u001b[36m \u001b[39m\u001b[32mIn[23]\u001b[39m\u001b[32m, line 1\u001b[39m\n\u001b[32m----> \u001b[39m\u001b[32m1\u001b[39m \u001b[38;5;28;01mfrom\u001b[39;00m\u001b[38;5;250m \u001b[39m\u001b[34;01mscipy\u001b[39;00m\u001b[34;01m.\u001b[39;00m\u001b[34;01moptimize\u001b[39;00m\u001b[38;5;250m \u001b[39m\u001b[38;5;28;01mimport\u001b[39;00m curve_fit\n\u001b[32m      4\u001b[39m popt, pcov = curve_fit(func, xdata, ydata)\n\u001b[32m      5\u001b[39m \u001b[38;5;28mprint\u001b[39m(popt)\n",
      "\u001b[31mModuleNotFoundError\u001b[39m: No module named 'scipy'"
     ]
    }
   ],
   "source": [
    "from scipy.optimize import curve_fit\n",
    "\n",
    "\n",
    "popt, pcov = curve_fit(func, xdata, ydata)\n",
    "print(popt)\n",
    "\n",
    "y1 = func(xdata, popt[0],popt[1],popt[2],popt[3])\n",
    "#\n",
    "# Una forma compacta de crear y1 es:\n",
    "# y1 = func(xdata, *popt)\n",
    "# en lugar de 'desenrollar popt en sus componentes [0]..[3]\n",
    "\n",
    "plt.plot(xdata, y1, 'r-', label='FITEO 1')\n",
    "\n",
    "popt, pcov = curve_fit(func, xdata, ydata, bounds=(0, [3., 1., 0.5, 4.]))\n",
    "y2 = func(xdata, *popt)\n",
    "plt.plot(xdata, y2, 'g--', label='FITEO 2')   \n",
    "\n",
    "plt.plot(xdata, ydata, 'xb', label='DATOS')\n",
    "plt.xlabel('x')\n",
    "plt.ylabel('y')\n",
    "plt.legend()\n",
    "plt.show()\n"
   ]
  },
  {
   "cell_type": "code",
   "execution_count": 24,
   "metadata": {},
   "outputs": [
    {
     "ename": "NameError",
     "evalue": "name 'curve_fit' is not defined",
     "output_type": "error",
     "traceback": [
      "\u001b[31m---------------------------------------------------------------------------\u001b[39m",
      "\u001b[31mNameError\u001b[39m                                 Traceback (most recent call last)",
      "\u001b[36mCell\u001b[39m\u001b[36m \u001b[39m\u001b[32mIn[24]\u001b[39m\u001b[32m, line 1\u001b[39m\n\u001b[32m----> \u001b[39m\u001b[32m1\u001b[39m help(\u001b[43mcurve_fit\u001b[49m)\n",
      "\u001b[31mNameError\u001b[39m: name 'curve_fit' is not defined"
     ]
    }
   ],
   "source": [
    "help(curve_fit)"
   ]
  },
  {
   "cell_type": "code",
   "execution_count": 25,
   "metadata": {},
   "outputs": [
    {
     "ename": "NameError",
     "evalue": "name 'pcov' is not defined",
     "output_type": "error",
     "traceback": [
      "\u001b[31m---------------------------------------------------------------------------\u001b[39m",
      "\u001b[31mNameError\u001b[39m                                 Traceback (most recent call last)",
      "\u001b[36mCell\u001b[39m\u001b[36m \u001b[39m\u001b[32mIn[25]\u001b[39m\u001b[32m, line 1\u001b[39m\n\u001b[32m----> \u001b[39m\u001b[32m1\u001b[39m \u001b[38;5;28mprint\u001b[39m(\u001b[43mpcov\u001b[49m)\n\u001b[32m      2\u001b[39m perr = np.sqrt(np.diag(pcov))\n\u001b[32m      3\u001b[39m perr\n",
      "\u001b[31mNameError\u001b[39m: name 'pcov' is not defined"
     ]
    }
   ],
   "source": [
    "print(pcov)\n",
    "perr = np.sqrt(np.diag(pcov))\n",
    "perr"
   ]
  }
 ],
 "metadata": {
  "kernelspec": {
   "display_name": "Python 3",
   "language": "python",
   "name": "python3"
  },
  "language_info": {
   "codemirror_mode": {
    "name": "ipython",
    "version": 3
   },
   "file_extension": ".py",
   "mimetype": "text/x-python",
   "name": "python",
   "nbconvert_exporter": "python",
   "pygments_lexer": "ipython3",
   "version": "3.12.8"
  }
 },
 "nbformat": 4,
 "nbformat_minor": 2
}