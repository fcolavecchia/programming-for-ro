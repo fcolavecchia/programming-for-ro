{
 "cells": [
  {
   "cell_type": "code",
   "execution_count": 1,
   "id": "e34a01e2",
   "metadata": {},
   "outputs": [
    {
     "ename": "ModuleNotFoundError",
     "evalue": "No module named 'pandas'",
     "output_type": "error",
     "traceback": [
      "\u001b[31m---------------------------------------------------------------------------\u001b[39m",
      "\u001b[31mModuleNotFoundError\u001b[39m                       Traceback (most recent call last)",
      "\u001b[36mCell\u001b[39m\u001b[36m \u001b[39m\u001b[32mIn[1]\u001b[39m\u001b[32m, line 1\u001b[39m\n\u001b[32m----> \u001b[39m\u001b[32m1\u001b[39m \u001b[38;5;28;01mimport\u001b[39;00m\u001b[38;5;250m \u001b[39m\u001b[34;01mpandas\u001b[39;00m\n\u001b[32m      2\u001b[39m get_ipython().run_line_magic(\u001b[33m'\u001b[39m\u001b[33mmatplotlib\u001b[39m\u001b[33m'\u001b[39m, \u001b[33m'\u001b[39m\u001b[33mnotebook\u001b[39m\u001b[33m'\u001b[39m)\n\u001b[32m      3\u001b[39m \u001b[38;5;28;01mimport\u001b[39;00m\u001b[38;5;250m \u001b[39m\u001b[34;01mmatplotlib\u001b[39;00m\u001b[34;01m.\u001b[39;00m\u001b[34;01mpyplot\u001b[39;00m\u001b[38;5;250m \u001b[39m\u001b[38;5;28;01mas\u001b[39;00m\u001b[38;5;250m \u001b[39m\u001b[34;01mplt\u001b[39;00m\n",
      "\u001b[31mModuleNotFoundError\u001b[39m: No module named 'pandas'"
     ]
    }
   ],
   "source": [
    "import pandas\n",
    "%matplotlib notebook\n",
    "import matplotlib.pyplot as plt\n",
    "import numpy as np"
   ]
  },
  {
   "cell_type": "code",
   "execution_count": 2,
   "id": "e11ed045",
   "metadata": {},
   "outputs": [
    {
     "ename": "NameError",
     "evalue": "name 'pandas' is not defined",
     "output_type": "error",
     "traceback": [
      "\u001b[31m---------------------------------------------------------------------------\u001b[39m",
      "\u001b[31mNameError\u001b[39m                                 Traceback (most recent call last)",
      "\u001b[36mCell\u001b[39m\u001b[36m \u001b[39m\u001b[32mIn[2]\u001b[39m\u001b[32m, line 1\u001b[39m\n\u001b[32m----> \u001b[39m\u001b[32m1\u001b[39m help(\u001b[43mpandas\u001b[49m.read_csv)\n",
      "\u001b[31mNameError\u001b[39m: name 'pandas' is not defined"
     ]
    }
   ],
   "source": [
    "help(pandas.read_csv)"
   ]
  },
  {
   "cell_type": "code",
   "execution_count": 3,
   "id": "0d0ad5e8",
   "metadata": {},
   "outputs": [
    {
     "ename": "NameError",
     "evalue": "name 'pandas' is not defined",
     "output_type": "error",
     "traceback": [
      "\u001b[31m---------------------------------------------------------------------------\u001b[39m",
      "\u001b[31mNameError\u001b[39m                                 Traceback (most recent call last)",
      "\u001b[36mCell\u001b[39m\u001b[36m \u001b[39m\u001b[32mIn[3]\u001b[39m\u001b[32m, line 1\u001b[39m\n\u001b[32m----> \u001b[39m\u001b[32m1\u001b[39m pdd_cs = \u001b[43mpandas\u001b[49m.read_csv(\u001b[33m\"\u001b[39m\u001b[33mExamen/PDD_10x10_CS.txt\u001b[39m\u001b[33m\"\u001b[39m, delimiter= \u001b[33m\"\u001b[39m\u001b[33m \u001b[39m\u001b[33m\"\u001b[39m,header=\u001b[38;5;28;01mNone\u001b[39;00m )\n\u001b[32m      2\u001b[39m pdd_ev = pandas.read_csv(\u001b[33m\"\u001b[39m\u001b[33mExamen/10x10.txt\u001b[39m\u001b[33m\"\u001b[39m, delimiter= \u001b[33m\"\u001b[39m\u001b[33m \u001b[39m\u001b[33m\"\u001b[39m,header=\u001b[38;5;28;01mNone\u001b[39;00m )\n\u001b[32m      3\u001b[39m per_ref = pandas.read_csv(\u001b[33m\"\u001b[39m\u001b[33mExamen/ref_d10.0_10x10.txt\u001b[39m\u001b[33m\"\u001b[39m, delimiter= \u001b[33m\"\u001b[39m\u001b[33m \u001b[39m\u001b[33m\"\u001b[39m,header=\u001b[38;5;28;01mNone\u001b[39;00m )\n",
      "\u001b[31mNameError\u001b[39m: name 'pandas' is not defined"
     ]
    }
   ],
   "source": [
    "pdd_cs = pandas.read_csv(\"Examen/PDD_10x10_CS.txt\", delimiter= \" \",header=None )\n",
    "pdd_ev = pandas.read_csv(\"Examen/10x10.txt\", delimiter= \" \",header=None )\n",
    "per_ref = pandas.read_csv(\"Examen/ref_d10.0_10x10.txt\", delimiter= \" \",header=None )\n",
    "per_ev = pandas.read_csv(\"Examen/eval_d10.0_10x10.txt\", delimiter= \" \",header=None )\n"
   ]
  },
  {
   "cell_type": "code",
   "execution_count": 4,
   "id": "53740c45",
   "metadata": {},
   "outputs": [
    {
     "ename": "NameError",
     "evalue": "name 'per_ref' is not defined",
     "output_type": "error",
     "traceback": [
      "\u001b[31m---------------------------------------------------------------------------\u001b[39m",
      "\u001b[31mNameError\u001b[39m                                 Traceback (most recent call last)",
      "\u001b[36mCell\u001b[39m\u001b[36m \u001b[39m\u001b[32mIn[4]\u001b[39m\u001b[32m, line 1\u001b[39m\n\u001b[32m----> \u001b[39m\u001b[32m1\u001b[39m \u001b[38;5;28mprint\u001b[39m(\u001b[43mper_ref\u001b[49m)\n\u001b[32m      2\u001b[39m \u001b[38;5;28mprint\u001b[39m(per_ev)\n",
      "\u001b[31mNameError\u001b[39m: name 'per_ref' is not defined"
     ]
    }
   ],
   "source": [
    "print(per_ref)\n",
    "print(per_ev)"
   ]
  },
  {
   "cell_type": "markdown",
   "id": "10bc8f7d",
   "metadata": {},
   "source": [
    "Con `keys()` encuentro los nombres de las hojas del archivo excel"
   ]
  },
  {
   "cell_type": "code",
   "execution_count": 5,
   "id": "4b1a2b03",
   "metadata": {},
   "outputs": [
    {
     "ename": "NameError",
     "evalue": "name 'pdd_cs' is not defined",
     "output_type": "error",
     "traceback": [
      "\u001b[31m---------------------------------------------------------------------------\u001b[39m",
      "\u001b[31mNameError\u001b[39m                                 Traceback (most recent call last)",
      "\u001b[36mCell\u001b[39m\u001b[36m \u001b[39m\u001b[32mIn[5]\u001b[39m\u001b[32m, line 1\u001b[39m\n\u001b[32m----> \u001b[39m\u001b[32m1\u001b[39m depth_cs = \u001b[43mpdd_cs\u001b[49m[\u001b[32m0\u001b[39m]\n\u001b[32m      2\u001b[39m dose_cs = pdd_cs[\u001b[32m1\u001b[39m]\n\u001b[32m      3\u001b[39m depth_ev = pdd_ev[\u001b[32m0\u001b[39m]\n",
      "\u001b[31mNameError\u001b[39m: name 'pdd_cs' is not defined"
     ]
    }
   ],
   "source": [
    "depth_cs = pdd_cs[0]\n",
    "dose_cs = pdd_cs[1]\n",
    "depth_ev = pdd_ev[0]\n",
    "dose_ev = pdd_ev[1]\n",
    "\n",
    "max_cs = max(dose_cs)\n",
    "max_ev = max(dose_ev)\n"
   ]
  },
  {
   "cell_type": "code",
   "execution_count": 6,
   "id": "2f76b971",
   "metadata": {},
   "outputs": [
    {
     "ename": "NameError",
     "evalue": "name 'per_ref' is not defined",
     "output_type": "error",
     "traceback": [
      "\u001b[31m---------------------------------------------------------------------------\u001b[39m",
      "\u001b[31mNameError\u001b[39m                                 Traceback (most recent call last)",
      "\u001b[36mCell\u001b[39m\u001b[36m \u001b[39m\u001b[32mIn[6]\u001b[39m\u001b[32m, line 1\u001b[39m\n\u001b[32m----> \u001b[39m\u001b[32m1\u001b[39m x_ref = \u001b[43mper_ref\u001b[49m[\u001b[32m0\u001b[39m]\n\u001b[32m      2\u001b[39m dose_ref = per_ref[\u001b[32m1\u001b[39m]\n\u001b[32m      3\u001b[39m x_ev = per_ev[\u001b[32m0\u001b[39m]\n",
      "\u001b[31mNameError\u001b[39m: name 'per_ref' is not defined"
     ]
    }
   ],
   "source": [
    "x_ref = per_ref[0]\n",
    "dose_ref = per_ref[1]\n",
    "x_ev = per_ev[0]\n",
    "dose_ev = per_ev[1]\n",
    "\n",
    "max_ref = max(dose_ref)\n",
    "max_ev = max(dose_ev)\n"
   ]
  },
  {
   "cell_type": "code",
   "execution_count": 7,
   "id": "ff1514e9",
   "metadata": {
    "scrolled": true
   },
   "outputs": [
    {
     "ename": "NameError",
     "evalue": "name 'plt' is not defined",
     "output_type": "error",
     "traceback": [
      "\u001b[31m---------------------------------------------------------------------------\u001b[39m",
      "\u001b[31mNameError\u001b[39m                                 Traceback (most recent call last)",
      "\u001b[36mCell\u001b[39m\u001b[36m \u001b[39m\u001b[32mIn[7]\u001b[39m\u001b[32m, line 1\u001b[39m\n\u001b[32m----> \u001b[39m\u001b[32m1\u001b[39m \u001b[43mplt\u001b[49m.plot(x_ref,dose_ref/max_ref)\n\u001b[32m      2\u001b[39m plt.plot(x_ev,dose_ev/max_ev)\n\u001b[32m      3\u001b[39m plt.show()\n",
      "\u001b[31mNameError\u001b[39m: name 'plt' is not defined"
     ]
    }
   ],
   "source": [
    "plt.plot(x_ref,dose_ref/max_ref)\n",
    "plt.plot(x_ev,dose_ev/max_ev)\n",
    "plt.show()"
   ]
  },
  {
   "cell_type": "code",
   "execution_count": 8,
   "id": "4d5e5082",
   "metadata": {},
   "outputs": [
    {
     "ename": "NameError",
     "evalue": "name 'perfiles50mm' is not defined",
     "output_type": "error",
     "traceback": [
      "\u001b[31m---------------------------------------------------------------------------\u001b[39m",
      "\u001b[31mNameError\u001b[39m                                 Traceback (most recent call last)",
      "\u001b[36mCell\u001b[39m\u001b[36m \u001b[39m\u001b[32mIn[8]\u001b[39m\u001b[32m, line 1\u001b[39m\n\u001b[32m----> \u001b[39m\u001b[32m1\u001b[39m \u001b[43mperfiles50mm\u001b[49m.head()\n",
      "\u001b[31mNameError\u001b[39m: name 'perfiles50mm' is not defined"
     ]
    }
   ],
   "source": [
    "perfiles50mm.head()"
   ]
  },
  {
   "cell_type": "code",
   "execution_count": 9,
   "id": "0e1b1a0b",
   "metadata": {},
   "outputs": [
    {
     "ename": "NameError",
     "evalue": "name 'perfiles50mm' is not defined",
     "output_type": "error",
     "traceback": [
      "\u001b[31m---------------------------------------------------------------------------\u001b[39m",
      "\u001b[31mNameError\u001b[39m                                 Traceback (most recent call last)",
      "\u001b[36mCell\u001b[39m\u001b[36m \u001b[39m\u001b[32mIn[9]\u001b[39m\u001b[32m, line 1\u001b[39m\n\u001b[32m----> \u001b[39m\u001b[32m1\u001b[39m \u001b[43mperfiles50mm\u001b[49m[\u001b[33m'\u001b[39m\u001b[33mProf\u001b[39m\u001b[33m'\u001b[39m]\n",
      "\u001b[31mNameError\u001b[39m: name 'perfiles50mm' is not defined"
     ]
    }
   ],
   "source": [
    "perfiles50mm['Prof']"
   ]
  },
  {
   "cell_type": "code",
   "execution_count": 10,
   "id": "7e883fc3",
   "metadata": {},
   "outputs": [
    {
     "ename": "NameError",
     "evalue": "name 'perfiles50mm' is not defined",
     "output_type": "error",
     "traceback": [
      "\u001b[31m---------------------------------------------------------------------------\u001b[39m",
      "\u001b[31mNameError\u001b[39m                                 Traceback (most recent call last)",
      "\u001b[36mCell\u001b[39m\u001b[36m \u001b[39m\u001b[32mIn[10]\u001b[39m\u001b[32m, line 1\u001b[39m\n\u001b[32m----> \u001b[39m\u001b[32m1\u001b[39m \u001b[43mperfiles50mm\u001b[49m[\u001b[33m'\u001b[39m\u001b[33mDosis\u001b[39m\u001b[33m'\u001b[39m]\n",
      "\u001b[31mNameError\u001b[39m: name 'perfiles50mm' is not defined"
     ]
    }
   ],
   "source": [
    "perfiles50mm['Dosis']"
   ]
  },
  {
   "cell_type": "code",
   "execution_count": 11,
   "id": "52c1c2f8",
   "metadata": {},
   "outputs": [
    {
     "ename": "NameError",
     "evalue": "name 'perfiles' is not defined",
     "output_type": "error",
     "traceback": [
      "\u001b[31m---------------------------------------------------------------------------\u001b[39m",
      "\u001b[31mNameError\u001b[39m                                 Traceback (most recent call last)",
      "\u001b[36mCell\u001b[39m\u001b[36m \u001b[39m\u001b[32mIn[11]\u001b[39m\u001b[32m, line 1\u001b[39m\n\u001b[32m----> \u001b[39m\u001b[32m1\u001b[39m \u001b[43mperfiles\u001b[49m[\u001b[33m'\u001b[39m\u001b[33mDepth = 50 mm\u001b[39m\u001b[33m'\u001b[39m]\n",
      "\u001b[31mNameError\u001b[39m: name 'perfiles' is not defined"
     ]
    }
   ],
   "source": [
    "perfiles['Depth = 50 mm']"
   ]
  },
  {
   "cell_type": "code",
   "execution_count": 12,
   "id": "ad257e10",
   "metadata": {},
   "outputs": [
    {
     "ename": "NameError",
     "evalue": "name 'pandas' is not defined",
     "output_type": "error",
     "traceback": [
      "\u001b[31m---------------------------------------------------------------------------\u001b[39m",
      "\u001b[31mNameError\u001b[39m                                 Traceback (most recent call last)",
      "\u001b[36mCell\u001b[39m\u001b[36m \u001b[39m\u001b[32mIn[12]\u001b[39m\u001b[32m, line 1\u001b[39m\n\u001b[32m----> \u001b[39m\u001b[32m1\u001b[39m perfiles100mm = \u001b[43mpandas\u001b[49m.read_excel(\u001b[33m\"\u001b[39m\u001b[33mCrossPlane_100x100.xlsx\u001b[39m\u001b[33m\"\u001b[39m, sheet_name = \u001b[33m'\u001b[39m\u001b[33mDepth = 100 mm\u001b[39m\u001b[33m'\u001b[39m)\n",
      "\u001b[31mNameError\u001b[39m: name 'pandas' is not defined"
     ]
    }
   ],
   "source": [
    "perfiles100mm = pandas.read_excel(\"CrossPlane_100x100.xlsx\", sheet_name = 'Depth = 100 mm')"
   ]
  },
  {
   "cell_type": "code",
   "execution_count": 13,
   "id": "4080e440",
   "metadata": {},
   "outputs": [
    {
     "ename": "NameError",
     "evalue": "name 'perfiles100mm' is not defined",
     "output_type": "error",
     "traceback": [
      "\u001b[31m---------------------------------------------------------------------------\u001b[39m",
      "\u001b[31mNameError\u001b[39m                                 Traceback (most recent call last)",
      "\u001b[36mCell\u001b[39m\u001b[36m \u001b[39m\u001b[32mIn[13]\u001b[39m\u001b[32m, line 1\u001b[39m\n\u001b[32m----> \u001b[39m\u001b[32m1\u001b[39m \u001b[43mperfiles100mm\u001b[49m[\u001b[33m\"\u001b[39m\u001b[33mProf\u001b[39m\u001b[33m\"\u001b[39m]\n",
      "\u001b[31mNameError\u001b[39m: name 'perfiles100mm' is not defined"
     ]
    }
   ],
   "source": [
    "perfiles100mm[\"Prof\"]"
   ]
  },
  {
   "cell_type": "code",
   "execution_count": 14,
   "id": "69a7e61e",
   "metadata": {},
   "outputs": [
    {
     "ename": "NameError",
     "evalue": "name 'plt' is not defined",
     "output_type": "error",
     "traceback": [
      "\u001b[31m---------------------------------------------------------------------------\u001b[39m",
      "\u001b[31mNameError\u001b[39m                                 Traceback (most recent call last)",
      "\u001b[36mCell\u001b[39m\u001b[36m \u001b[39m\u001b[32mIn[14]\u001b[39m\u001b[32m, line 1\u001b[39m\n\u001b[32m----> \u001b[39m\u001b[32m1\u001b[39m \u001b[43mplt\u001b[49m.plot(perfiles100mm[\u001b[33m'\u001b[39m\u001b[33mProf\u001b[39m\u001b[33m'\u001b[39m], perfiles100mm[\u001b[33m'\u001b[39m\u001b[33mDosis\u001b[39m\u001b[33m'\u001b[39m])\n\u001b[32m      2\u001b[39m plt.show()\n",
      "\u001b[31mNameError\u001b[39m: name 'plt' is not defined"
     ]
    }
   ],
   "source": [
    "plt.plot(perfiles100mm['Prof'], perfiles100mm['Dosis'])\n",
    "plt.show()"
   ]
  }
 ],
 "metadata": {
  "kernelspec": {
   "display_name": "Python 3",
   "language": "python",
   "name": "python3"
  },
  "language_info": {
   "codemirror_mode": {
    "name": "ipython",
    "version": 3
   },
   "file_extension": ".py",
   "mimetype": "text/x-python",
   "name": "python",
   "nbconvert_exporter": "python",
   "pygments_lexer": "ipython3",
   "version": "3.12.8"
  }
 },
 "nbformat": 4,
 "nbformat_minor": 5
}